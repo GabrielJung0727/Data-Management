{
 "cells": [
  {
   "cell_type": "code",
   "execution_count": 5,
   "metadata": {},
   "outputs": [],
   "source": [
    "import requests"
   ]
  },
  {
   "cell_type": "code",
   "execution_count": 6,
   "metadata": {},
   "outputs": [
    {
     "name": "stdout",
     "output_type": "stream",
     "text": [
      "<!DOCTYPE HTML>\n",
      "<html lang=\"en\">\n",
      "    <head>\n",
      "        <meta charset=\"utf-8\">\n",
      "        <title>Error response</title>\n",
      "    </head>\n",
      "    <body>\n",
      "        <h1>Error response</h1>\n",
      "        <p>Error code: 404</p>\n",
      "        <p>Message: File not found.</p>\n",
      "        <p>Error code explanation: 404 - Nothing matches the given URI.</p>\n",
      "    </body>\n",
      "</html>\n",
      "\n"
     ]
    }
   ],
   "source": [
    "url =\"http://localhost:8000/soup_try.html\" # 로컬파일 위치치\n",
    "response = requests.get(url)\n",
    "print(response.text)"
   ]
  },
  {
   "cell_type": "code",
   "execution_count": 11,
   "metadata": {},
   "outputs": [
    {
     "name": "stdout",
     "output_type": "stream",
     "text": [
      "<html lang=\"en\">\n",
      "<head>\n",
      "    <title>My Enhanced Website</title>\n",
      "</head>\n",
      "<body>\n",
      "    <header id=\"main-header\">\n",
      "        <h1 class=\"title\">Welcome to My Website</h1>\n",
      "        <nav>\n",
      "            <ul class=\"nav-links\">\n",
      "                <li><a href=\"/home\" class=\"nav-item\">Home</a></li>\n",
      "                <li><a href=\"/about\" class=\"nav-item\">About</a></li>\n",
      "                <li><a href=\"/contact\" class=\"nav-item\">Contact</a></li>\n",
      "            </ul>\n",
      "        </nav>\n",
      "    </header>\n",
      "\n",
      "    <section id=\"intro\">\n",
      "        <h2 class=\"section-title\">Introduction</h2>\n",
      "        <p class=\"text\">This website contains various elements for web scraping practice.</p>\n",
      "        <p class=\"text\">Use <strong>BeautifulSoup</strong> to extract information!</p>\n",
      "    </section>\n",
      "\n",
      "    <section id=\"content\">\n",
      "        <article class=\"post\" id=\"post-1\">\n",
      "            <h2 class=\"post-title\">First Blog Post</h2>\n",
      "            <p class=\"post-meta\">Published on <span class=\"date\">March 20, 2025</span></p>\n",
      "            <p class=\"post-content\">This is the first blog post content.</p>\n",
      "        </article>\n",
      "\n",
      "        <article class=\"post\" id=\"post-2\">\n",
      "            <h2 class=\"post-title\">Second Blog Post</h2>\n",
      "            <p class=\"post-meta\">Published on <span class=\"date\">March 21, 2025</span></p>\n",
      "            <p class=\"post-content\">This is the second blog post content.</p>\n",
      "        </article>\n",
      "    </section>\n",
      "\n",
      "    <section id=\"gallery\">\n",
      "        <h2 class=\"section-title\">Image Gallery</h2>\n",
      "        <img src=\"/img/image1.jpg\" alt=\"Image 1\" class=\"gallery-img\">\n",
      "        <img src=\"/img/image2.jpg\" alt=\"Image 2\" class=\"gallery-img\">\n",
      "    </section>\n",
      "\n",
      "    <section id=\"data-table\">\n",
      "        <h2 class=\"section-title\">User Data</h2>\n",
      "        <table class=\"user-table\">\n",
      "            <thead>\n",
      "                <tr>\n",
      "                    <th>ID</th>\n",
      "                    <th>Name</th>\n",
      "                    <th>Email</th>\n",
      "                </tr>\n",
      "            </thead>\n",
      "            <tbody>\n",
      "                <tr class=\"user-row\">\n",
      "                    <td class=\"user-id\">1</td>\n",
      "                    <td class=\"user-name\">Alice</td>\n",
      "                    <td class=\"user-email\">alice@example.com</td>\n",
      "                </tr>\n",
      "                <tr class=\"user-row\">\n",
      "                    <td class=\"user-id\">2</td>\n",
      "                    <td class=\"user-name\">Bob</td>\n",
      "                    <td class=\"user-email\">bob@example.com</td>\n",
      "                </tr>\n",
      "            </tbody>\n",
      "        </table>\n",
      "    </section>\n",
      "\n",
      "    <footer id=\"main-footer\">\n",
      "        <p class=\"footer-text\">© 2025 My Website. All rights reserved.</p>\n",
      "    </footer>\n",
      "</body>\n",
      "</html>\n",
      "\n"
     ]
    }
   ],
   "source": [
    "# Save the response content to a local file\n",
    "\n",
    "# Read the file using with statement\n",
    "with open(\"soup_try.html\", \"r\", encoding=\"utf-8\") as file:\n",
    "    content = file.read()\n",
    "\n",
    "print(content)"
   ]
  },
  {
   "cell_type": "code",
   "execution_count": 12,
   "metadata": {},
   "outputs": [
    {
     "name": "stdout",
     "output_type": "stream",
     "text": [
      "<html lang=\"en\">\n",
      " <head>\n",
      "  <title>\n",
      "   My Enhanced Website\n",
      "  </title>\n",
      " </head>\n",
      " <body>\n",
      "  <header id=\"main-header\">\n",
      "   <h1 class=\"title\">\n",
      "    Welcome to My Website\n",
      "   </h1>\n",
      "   <nav>\n",
      "    <ul class=\"nav-links\">\n",
      "     <li>\n",
      "      <a class=\"nav-item\" href=\"/home\">\n",
      "       Home\n",
      "      </a>\n",
      "     </li>\n",
      "     <li>\n",
      "      <a class=\"nav-item\" href=\"/about\">\n",
      "       About\n",
      "      </a>\n",
      "     </li>\n",
      "     <li>\n",
      "      <a class=\"nav-item\" href=\"/contact\">\n",
      "       Contact\n",
      "      </a>\n",
      "     </li>\n",
      "    </ul>\n",
      "   </nav>\n",
      "  </header>\n",
      "  <section id=\"intro\">\n",
      "   <h2 class=\"section-title\">\n",
      "    Introduction\n",
      "   </h2>\n",
      "   <p class=\"text\">\n",
      "    This website contains various elements for web scraping practice.\n",
      "   </p>\n",
      "   <p class=\"text\">\n",
      "    Use\n",
      "    <strong>\n",
      "     BeautifulSoup\n",
      "    </strong>\n",
      "    to extract information!\n",
      "   </p>\n",
      "  </section>\n",
      "  <section id=\"content\">\n",
      "   <article class=\"post\" id=\"post-1\">\n",
      "    <h2 class=\"post-title\">\n",
      "     First Blog Post\n",
      "    </h2>\n",
      "    <p class=\"post-meta\">\n",
      "     Published on\n",
      "     <span class=\"date\">\n",
      "      March 20, 2025\n",
      "     </span>\n",
      "    </p>\n",
      "    <p class=\"post-content\">\n",
      "     This is the first blog post content.\n",
      "    </p>\n",
      "   </article>\n",
      "   <article class=\"post\" id=\"post-2\">\n",
      "    <h2 class=\"post-title\">\n",
      "     Second Blog Post\n",
      "    </h2>\n",
      "    <p class=\"post-meta\">\n",
      "     Published on\n",
      "     <span class=\"date\">\n",
      "      March 21, 2025\n",
      "     </span>\n",
      "    </p>\n",
      "    <p class=\"post-content\">\n",
      "     This is the second blog post content.\n",
      "    </p>\n",
      "   </article>\n",
      "  </section>\n",
      "  <section id=\"gallery\">\n",
      "   <h2 class=\"section-title\">\n",
      "    Image Gallery\n",
      "   </h2>\n",
      "   <img alt=\"Image 1\" class=\"gallery-img\" src=\"/img/image1.jpg\"/>\n",
      "   <img alt=\"Image 2\" class=\"gallery-img\" src=\"/img/image2.jpg\"/>\n",
      "  </section>\n",
      "  <section id=\"data-table\">\n",
      "   <h2 class=\"section-title\">\n",
      "    User Data\n",
      "   </h2>\n",
      "   <table class=\"user-table\">\n",
      "    <thead>\n",
      "     <tr>\n",
      "      <th>\n",
      "       ID\n",
      "      </th>\n",
      "      <th>\n",
      "       Name\n",
      "      </th>\n",
      "      <th>\n",
      "       Email\n",
      "      </th>\n",
      "     </tr>\n",
      "    </thead>\n",
      "    <tbody>\n",
      "     <tr class=\"user-row\">\n",
      "      <td class=\"user-id\">\n",
      "       1\n",
      "      </td>\n",
      "      <td class=\"user-name\">\n",
      "       Alice\n",
      "      </td>\n",
      "      <td class=\"user-email\">\n",
      "       alice@example.com\n",
      "      </td>\n",
      "     </tr>\n",
      "     <tr class=\"user-row\">\n",
      "      <td class=\"user-id\">\n",
      "       2\n",
      "      </td>\n",
      "      <td class=\"user-name\">\n",
      "       Bob\n",
      "      </td>\n",
      "      <td class=\"user-email\">\n",
      "       bob@example.com\n",
      "      </td>\n",
      "     </tr>\n",
      "    </tbody>\n",
      "   </table>\n",
      "  </section>\n",
      "  <footer id=\"main-footer\">\n",
      "   <p class=\"footer-text\">\n",
      "    © 2025 My Website. All rights reserved.\n",
      "   </p>\n",
      "  </footer>\n",
      " </body>\n",
      "</html>\n",
      "\n"
     ]
    }
   ],
   "source": [
    "from bs4 import BeautifulSoup\n",
    "\n",
    "# BeautifulSoup 객체 생성\n",
    "soup = BeautifulSoup(content, \"html.parser\")\n",
    "\n",
    "# HTML 전체 출력\n",
    "print(soup.prettify())"
   ]
  },
  {
   "cell_type": "code",
   "execution_count": 14,
   "metadata": {},
   "outputs": [
    {
     "name": "stdout",
     "output_type": "stream",
     "text": [
      "Title: Welcome to My Website\n",
      "[<h2 class=\"section-title\">Introduction</h2>, <h2 class=\"post-title\">First Blog Post</h2>, <h2 class=\"post-title\">Second Blog Post</h2>, <h2 class=\"section-title\">Image Gallery</h2>, <h2 class=\"section-title\">User Data</h2>]\n",
      "H2: Introduction\n",
      "H2: First Blog Post\n",
      "H2: Second Blog Post\n",
      "H2: Image Gallery\n",
      "H2: User Data\n"
     ]
    }
   ],
   "source": [
    "# 첫 번째 h1 태그 가져오기\n",
    "title = soup.find(\"h1\").text\n",
    "print(\"Title:\", title)\n",
    "\n",
    "# 모든 h2 태그 가져오기\n",
    "h2_tags = soup.find_all(\"h2\")\n",
    "print(h2_tags)\n",
    "for h2 in h2_tags:\n",
    "    print(\"H2:\", h2.text)\n"
   ]
  },
  {
   "cell_type": "markdown",
   "metadata": {},
   "source": [
    "### 1. 특정 태그 추출\n",
    "### soup.find 혹은 soup.select_one 방식"
   ]
  },
  {
   "cell_type": "code",
   "execution_count": 9,
   "metadata": {},
   "outputs": [
    {
     "name": "stdout",
     "output_type": "stream",
     "text": [
      "Welcome to My Website\n"
     ]
    }
   ],
   "source": [
    "# Extract the text from the <h1> tag\n",
    "h1_text = soup.find('h1', class_='title').get_text()\n",
    "\n",
    "print(h1_text)"
   ]
  },
  {
   "cell_type": "code",
   "execution_count": 10,
   "metadata": {},
   "outputs": [
    {
     "name": "stdout",
     "output_type": "stream",
     "text": [
      "Welcome to My Website\n"
     ]
    }
   ],
   "source": [
    "# Extract the text using the CSS selector\n",
    "h1_text = soup.select_one('#main-header > h1').get_text()\n",
    "\n",
    "print(h1_text)"
   ]
  },
  {
   "cell_type": "markdown",
   "metadata": {},
   "source": [
    "### 2. 특정 클래스나 ID로 데이터 찾기"
   ]
  },
  {
   "cell_type": "code",
   "execution_count": 11,
   "metadata": {},
   "outputs": [
    {
     "name": "stdout",
     "output_type": "stream",
     "text": [
      "Intro section: Introduction\n",
      "This website contains various elements for web scraping practice.\n",
      "Use BeautifulSoup to extract information!\n",
      "Post Title: First Blog Post\n",
      "Post Title: Second Blog Post\n"
     ]
    }
   ],
   "source": [
    "# 특정 ID 요소 찾기\n",
    "intro_section = soup.find(id=\"intro\")\n",
    "print(\"Intro section:\", intro_section.text.strip())\n",
    "\n",
    "# 특정 class 요소 찾기\n",
    "posts = soup.find_all(class_=\"post-title\")\n",
    "for post in posts:\n",
    "    print(\"Post Title:\", post.text)\n"
   ]
  },
  {
   "cell_type": "code",
   "execution_count": 12,
   "metadata": {},
   "outputs": [
    {
     "name": "stdout",
     "output_type": "stream",
     "text": [
      "Intro section: Introduction\n",
      "This website contains various elements for web scraping practice.\n",
      "Use BeautifulSoup to extract information!\n",
      "Post Title: First Blog Post\n",
      "Post Title: Second Blog Post\n"
     ]
    }
   ],
   "source": [
    "# 특정 ID 요소 찾기 (CSS 선택자 이용)\n",
    "intro_section = soup.select_one(\"#intro\")\n",
    "print(\"Intro section:\", intro_section.text.strip())\n",
    "\n",
    "# 특정 class 요소 찾기 (CSS 선택자 이용)\n",
    "posts = soup.select(\".post-title\")\n",
    "for post in posts:\n",
    "    print(\"Post Title:\", post.text)"
   ]
  },
  {
   "cell_type": "markdown",
   "metadata": {},
   "source": [
    "### 3. 테이블 데이터 추출"
   ]
  },
  {
   "cell_type": "code",
   "execution_count": 13,
   "metadata": {},
   "outputs": [
    {
     "name": "stdout",
     "output_type": "stream",
     "text": [
      "User ID: 1, Name: Alice, Email: alice@example.com\n",
      "User ID: 2, Name: Bob, Email: bob@example.com\n"
     ]
    }
   ],
   "source": [
    "# 테이블 데이터 추출\n",
    "rows = soup.select(\".user-table tbody tr\")\n",
    "for row in rows:\n",
    "    cols = row.find_all(\"td\")\n",
    "    user_id = cols[0].text.strip()\n",
    "    name = cols[1].text.strip()\n",
    "    email = cols[2].text.strip()\n",
    "    print(f\"User ID: {user_id}, Name: {name}, Email: {email}\")\n"
   ]
  },
  {
   "cell_type": "code",
   "execution_count": 14,
   "metadata": {},
   "outputs": [
    {
     "name": "stdout",
     "output_type": "stream",
     "text": [
      "  User ID   Name              Email\n",
      "0       1  Alice  alice@example.com\n",
      "1       2    Bob    bob@example.com\n"
     ]
    }
   ],
   "source": [
    "import pandas as pd\n",
    "\n",
    "# Extract data and store it in a list\n",
    "data = []\n",
    "for row in rows:\n",
    "    cols = row.find_all(\"td\")\n",
    "    user_id = cols[0].text.strip()\n",
    "    name = cols[1].text.strip()\n",
    "    email = cols[2].text.strip()\n",
    "    data.append({\"User ID\": user_id, \"Name\": name, \"Email\": email})\n",
    "\n",
    "# Convert the list of dictionaries into a DataFrame\n",
    "df = pd.DataFrame(data)\n",
    "print(df)"
   ]
  },
  {
   "cell_type": "code",
   "execution_count": null,
   "metadata": {},
   "outputs": [],
   "source": []
  }
 ],
 "metadata": {
  "kernelspec": {
   "display_name": "env",
   "language": "python",
   "name": "python3"
  },
  "language_info": {
   "codemirror_mode": {
    "name": "ipython",
    "version": 3
   },
   "file_extension": ".py",
   "mimetype": "text/x-python",
   "name": "python",
   "nbconvert_exporter": "python",
   "pygments_lexer": "ipython3",
   "version": "3.12.3"
  }
 },
 "nbformat": 4,
 "nbformat_minor": 2
}
