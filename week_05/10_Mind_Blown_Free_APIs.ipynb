{
  "cells": [
    {
      "cell_type": "markdown",
      "metadata": {
        "id": "view-in-github",
        "colab_type": "text"
      },
      "source": [
        "<a href=\"https://colab.research.google.com/github/ancestor9/2025_Spring_Data-Management/blob/main/week_05/10_Mind_Blown_Free_APIs.ipynb\" target=\"_parent\"><img src=\"https://colab.research.google.com/assets/colab-badge.svg\" alt=\"Open In Colab\"/></a>"
      ]
    },
    {
      "cell_type": "markdown",
      "id": "81d7e112",
      "metadata": {
        "id": "81d7e112"
      },
      "source": [
        "# 10 Mind-Blowing Free APIs to Power Up Your Next Project\n",
        "- Discover 10 powerful and free APIs that can be used to enhance your application with AI, data, images, jokes, and more.\n",
        "Each API includes a short description and a Python example to get you started right away.\n",
        "- 10가지 무료 API는 개발 시간을 절약하고 , 앱 기능을 강화하며 , 프로젝트를 더욱 매력적으로 만들 수 있습니다\n"
      ]
    },
    {
      "cell_type": "markdown",
      "id": "4c378e4d",
      "metadata": {
        "id": "4c378e4d"
      },
      "source": [
        "## 1. OpenAI’s Free GPT-3.5 API\n",
        "Use AI-powered models for chatbots, content generation, and text summarization."
      ]
    },
    {
      "cell_type": "code",
      "execution_count": null,
      "id": "f7442c05",
      "metadata": {
        "id": "f7442c05"
      },
      "outputs": [],
      "source": [
        "import openai\n",
        "\n",
        "openai.api_key = \"your_api_key_here\"\n",
        "\n",
        "response = openai.ChatCompletion.create(\n",
        "    model=\"gpt-3.5-turbo\",\n",
        "    messages=[{\"role\": \"user\", \"content\": \"Tell me a joke\"}]\n",
        ")\n",
        "\n",
        "print(response['choices'][0]['message']['content'])"
      ]
    },
    {
      "cell_type": "markdown",
      "id": "8b49cfa9",
      "metadata": {
        "id": "8b49cfa9"
      },
      "source": [
        "## 2. TheCatAPI — Get Random Cat Images\n",
        "Fetch random images of cats, perfect for pet apps or entertainment sites."
      ]
    },
    {
      "cell_type": "code",
      "execution_count": 1,
      "id": "72973679",
      "metadata": {
        "colab": {
          "base_uri": "https://localhost:8080/"
        },
        "id": "72973679",
        "outputId": "bc8f3d9a-0bb4-47fb-dd14-22758544112b"
      },
      "outputs": [
        {
          "output_type": "stream",
          "name": "stdout",
          "text": [
            "Random Cat Image URL: https://cdn2.thecatapi.com/images/d1u.jpg\n"
          ]
        }
      ],
      "source": [
        "import requests\n",
        "\n",
        "url = \"https://api.thecatapi.com/v1/images/search\"\n",
        "response = requests.get(url).json()\n",
        "\n",
        "print(\"Random Cat Image URL:\", response[0]['url'])"
      ]
    },
    {
      "cell_type": "code",
      "source": [
        "# prompt: Random Cat Image UR을 시각화해줘\n",
        "\n",
        "import requests\n",
        "from IPython.display import Image\n",
        "\n",
        "url = \"https://api.thecatapi.com/v1/images/search\"\n",
        "response = requests.get(url).json()\n",
        "\n",
        "image_url = response[0]['url']\n",
        "print(\"Random Cat Image URL:\", image_url)\n",
        "\n",
        "# Display the image\n",
        "Image(url=image_url)\n"
      ],
      "metadata": {
        "colab": {
          "base_uri": "https://localhost:8080/",
          "height": 638
        },
        "id": "DUIQ31dCb14V",
        "outputId": "3f543bdc-65c0-4b72-b9ed-d6f49cf6548f"
      },
      "id": "DUIQ31dCb14V",
      "execution_count": 5,
      "outputs": [
        {
          "output_type": "stream",
          "name": "stdout",
          "text": [
            "Random Cat Image URL: https://cdn2.thecatapi.com/images/bok.jpg\n"
          ]
        },
        {
          "output_type": "execute_result",
          "data": {
            "text/html": [
              "<img src=\"https://cdn2.thecatapi.com/images/bok.jpg\"/>"
            ],
            "text/plain": [
              "<IPython.core.display.Image object>"
            ]
          },
          "metadata": {},
          "execution_count": 5
        }
      ]
    },
    {
      "cell_type": "code",
      "source": [
        "# prompt: image_url을 gradio로 코딩해줘\n",
        "! pip install gradio --quiet\n",
        "\n",
        "import gradio as gr\n",
        "\n",
        "def get_cat_image():\n",
        "  url = \"https://api.thecatapi.com/v1/images/search\"\n",
        "  response = requests.get(url).json()\n",
        "  image_url = response[0]['url']\n",
        "  return image_url\n",
        "\n",
        "iface = gr.Interface(\n",
        "    fn=get_cat_image,\n",
        "    inputs=None,\n",
        "    outputs=\"image\",\n",
        "    title=\"Random Cat Image\",\n",
        "    description=\"Displays a random cat image from TheCatAPI.\"\n",
        ")\n",
        "\n",
        "iface.launch()"
      ],
      "metadata": {
        "colab": {
          "base_uri": "https://localhost:8080/",
          "height": 758
        },
        "id": "fIgGHJsvcKCC",
        "outputId": "1bfe3245-5352-45df-c2f6-6794e7479128"
      },
      "id": "fIgGHJsvcKCC",
      "execution_count": 6,
      "outputs": [
        {
          "output_type": "stream",
          "name": "stdout",
          "text": [
            "\u001b[2K   \u001b[90m━━━━━━━━━━━━━━━━━━━━━━━━━━━━━━━━━━━━━━━━\u001b[0m \u001b[32m51.3/51.3 MB\u001b[0m \u001b[31m19.2 MB/s\u001b[0m eta \u001b[36m0:00:00\u001b[0m\n",
            "\u001b[2K   \u001b[90m━━━━━━━━━━━━━━━━━━━━━━━━━━━━━━━━━━━━━━━━\u001b[0m \u001b[32m322.2/322.2 kB\u001b[0m \u001b[31m21.8 MB/s\u001b[0m eta \u001b[36m0:00:00\u001b[0m\n",
            "\u001b[2K   \u001b[90m━━━━━━━━━━━━━━━━━━━━━━━━━━━━━━━━━━━━━━━━\u001b[0m \u001b[32m95.2/95.2 kB\u001b[0m \u001b[31m7.5 MB/s\u001b[0m eta \u001b[36m0:00:00\u001b[0m\n",
            "\u001b[2K   \u001b[90m━━━━━━━━━━━━━━━━━━━━━━━━━━━━━━━━━━━━━━━━\u001b[0m \u001b[32m11.3/11.3 MB\u001b[0m \u001b[31m99.0 MB/s\u001b[0m eta \u001b[36m0:00:00\u001b[0m\n",
            "\u001b[2K   \u001b[90m━━━━━━━━━━━━━━━━━━━━━━━━━━━━━━━━━━━━━━━━\u001b[0m \u001b[32m72.0/72.0 kB\u001b[0m \u001b[31m4.9 MB/s\u001b[0m eta \u001b[36m0:00:00\u001b[0m\n",
            "\u001b[2K   \u001b[90m━━━━━━━━━━━━━━━━━━━━━━━━━━━━━━━━━━━━━━━━\u001b[0m \u001b[32m62.3/62.3 kB\u001b[0m \u001b[31m4.3 MB/s\u001b[0m eta \u001b[36m0:00:00\u001b[0m\n",
            "\u001b[?25hRunning Gradio in a Colab notebook requires sharing enabled. Automatically setting `share=True` (you can turn this off by setting `share=False` in `launch()` explicitly).\n",
            "\n",
            "Colab notebook detected. To show errors in colab notebook, set debug=True in launch()\n",
            "* Running on public URL: https://0d52a4b730ad17980a.gradio.live\n",
            "\n",
            "This share link expires in 72 hours. For free permanent hosting and GPU upgrades, run `gradio deploy` from the terminal in the working directory to deploy to Hugging Face Spaces (https://huggingface.co/spaces)\n"
          ]
        },
        {
          "output_type": "display_data",
          "data": {
            "text/plain": [
              "<IPython.core.display.HTML object>"
            ],
            "text/html": [
              "<div><iframe src=\"https://0d52a4b730ad17980a.gradio.live\" width=\"100%\" height=\"500\" allow=\"autoplay; camera; microphone; clipboard-read; clipboard-write;\" frameborder=\"0\" allowfullscreen></iframe></div>"
            ]
          },
          "metadata": {}
        },
        {
          "output_type": "execute_result",
          "data": {
            "text/plain": []
          },
          "metadata": {},
          "execution_count": 6
        }
      ]
    },
    {
      "cell_type": "markdown",
      "id": "386994ab",
      "metadata": {
        "id": "386994ab"
      },
      "source": [
        "## 3. CoinGecko API — Real-Time Crypto Data\n",
        "Track cryptocurrency prices and market trends in real-time."
      ]
    },
    {
      "cell_type": "code",
      "execution_count": 7,
      "id": "05b18bee",
      "metadata": {
        "colab": {
          "base_uri": "https://localhost:8080/"
        },
        "id": "05b18bee",
        "outputId": "37161d8b-a662-4a29-aef2-cd7cb95f9c2d"
      },
      "outputs": [
        {
          "output_type": "stream",
          "name": "stdout",
          "text": [
            "Bitcoin Price (USD): 82508\n"
          ]
        }
      ],
      "source": [
        "import requests\n",
        "\n",
        "url = \"https://api.coingecko.com/api/v3/simple/price?ids=bitcoin&vs_currencies=usd\"\n",
        "response = requests.get(url).json()\n",
        "\n",
        "print(\"Bitcoin Price (USD):\", response['bitcoin']['usd'])"
      ]
    },
    {
      "cell_type": "markdown",
      "id": "76191312",
      "metadata": {
        "id": "76191312"
      },
      "source": [
        "## 4. NewsAPI — Get the Latest News\n",
        "Access breaking news from major media outlets like BBC, CNN, and more.\n",
        "- **[NewsAPI_요기를 클릭](https://newsapi.org/)**"
      ]
    },
    {
      "cell_type": "code",
      "execution_count": 9,
      "id": "44418ad6",
      "metadata": {
        "colab": {
          "base_uri": "https://localhost:8080/",
          "height": 200
        },
        "id": "44418ad6",
        "outputId": "bbd5c510-0b27-4268-f257-819678e430af"
      },
      "outputs": [
        {
          "output_type": "error",
          "ename": "KeyError",
          "evalue": "'articles'",
          "traceback": [
            "\u001b[0;31m---------------------------------------------------------------------------\u001b[0m",
            "\u001b[0;31mKeyError\u001b[0m                                  Traceback (most recent call last)",
            "\u001b[0;32m<ipython-input-9-e0a3c4598fce>\u001b[0m in \u001b[0;36m<cell line: 0>\u001b[0;34m()\u001b[0m\n\u001b[1;32m      6\u001b[0m \u001b[0mresponse\u001b[0m \u001b[0;34m=\u001b[0m \u001b[0mrequests\u001b[0m\u001b[0;34m.\u001b[0m\u001b[0mget\u001b[0m\u001b[0;34m(\u001b[0m\u001b[0murl\u001b[0m\u001b[0;34m)\u001b[0m\u001b[0;34m.\u001b[0m\u001b[0mjson\u001b[0m\u001b[0;34m(\u001b[0m\u001b[0;34m)\u001b[0m\u001b[0;34m\u001b[0m\u001b[0;34m\u001b[0m\u001b[0m\n\u001b[1;32m      7\u001b[0m \u001b[0;34m\u001b[0m\u001b[0m\n\u001b[0;32m----> 8\u001b[0;31m \u001b[0;32mfor\u001b[0m \u001b[0marticle\u001b[0m \u001b[0;32min\u001b[0m \u001b[0mresponse\u001b[0m\u001b[0;34m[\u001b[0m\u001b[0;34m\"articles\"\u001b[0m\u001b[0;34m]\u001b[0m\u001b[0;34m[\u001b[0m\u001b[0;34m:\u001b[0m\u001b[0;36m5\u001b[0m\u001b[0;34m]\u001b[0m\u001b[0;34m:\u001b[0m\u001b[0;34m\u001b[0m\u001b[0;34m\u001b[0m\u001b[0m\n\u001b[0m\u001b[1;32m      9\u001b[0m     \u001b[0mprint\u001b[0m\u001b[0;34m(\u001b[0m\u001b[0marticle\u001b[0m\u001b[0;34m[\u001b[0m\u001b[0;34m\"title\"\u001b[0m\u001b[0;34m]\u001b[0m\u001b[0;34m)\u001b[0m\u001b[0;34m\u001b[0m\u001b[0;34m\u001b[0m\u001b[0m\n",
            "\u001b[0;31mKeyError\u001b[0m: 'articles'"
          ]
        }
      ],
      "source": [
        "import requests\n",
        "\n",
        "api_key = \"your_api_key_here\"\n",
        "url = f\"https://newsapi.org/v2/top-headlines?country=us&apiKey={api_key}\"\n",
        "\n",
        "response = requests.get(url).json()\n",
        "\n",
        "for article in response[\"articles\"][:5]:\n",
        "    print(article[\"title\"])"
      ]
    },
    {
      "cell_type": "markdown",
      "id": "f38a6958",
      "metadata": {
        "id": "f38a6958"
      },
      "source": [
        "## 5. Pexels API — Free Stock Images & Videos\n",
        "Download free, high-quality stock images and videos for your app or website.\n",
        "- **[Pexels API_요기요](https://www.pexels.com/api/)**"
      ]
    },
    {
      "cell_type": "code",
      "execution_count": 10,
      "id": "a71968c6",
      "metadata": {
        "colab": {
          "base_uri": "https://localhost:8080/",
          "height": 182
        },
        "id": "a71968c6",
        "outputId": "f5b0bba4-2197-4ade-fdb1-d3df281ad192"
      },
      "outputs": [
        {
          "output_type": "error",
          "ename": "KeyError",
          "evalue": "'photos'",
          "traceback": [
            "\u001b[0;31m---------------------------------------------------------------------------\u001b[0m",
            "\u001b[0;31mKeyError\u001b[0m                                  Traceback (most recent call last)",
            "\u001b[0;32m<ipython-input-10-8555eeda48d5>\u001b[0m in \u001b[0;36m<cell line: 0>\u001b[0;34m()\u001b[0m\n\u001b[1;32m      7\u001b[0m \u001b[0mresponse\u001b[0m \u001b[0;34m=\u001b[0m \u001b[0mrequests\u001b[0m\u001b[0;34m.\u001b[0m\u001b[0mget\u001b[0m\u001b[0;34m(\u001b[0m\u001b[0murl\u001b[0m\u001b[0;34m,\u001b[0m \u001b[0mheaders\u001b[0m\u001b[0;34m=\u001b[0m\u001b[0mheaders\u001b[0m\u001b[0;34m)\u001b[0m\u001b[0;34m.\u001b[0m\u001b[0mjson\u001b[0m\u001b[0;34m(\u001b[0m\u001b[0;34m)\u001b[0m\u001b[0;34m\u001b[0m\u001b[0;34m\u001b[0m\u001b[0m\n\u001b[1;32m      8\u001b[0m \u001b[0;34m\u001b[0m\u001b[0m\n\u001b[0;32m----> 9\u001b[0;31m \u001b[0mprint\u001b[0m\u001b[0;34m(\u001b[0m\u001b[0;34m\"Image URL:\"\u001b[0m\u001b[0;34m,\u001b[0m \u001b[0mresponse\u001b[0m\u001b[0;34m[\u001b[0m\u001b[0;34m\"photos\"\u001b[0m\u001b[0;34m]\u001b[0m\u001b[0;34m[\u001b[0m\u001b[0;36m0\u001b[0m\u001b[0;34m]\u001b[0m\u001b[0;34m[\u001b[0m\u001b[0;34m\"src\"\u001b[0m\u001b[0;34m]\u001b[0m\u001b[0;34m[\u001b[0m\u001b[0;34m\"original\"\u001b[0m\u001b[0;34m]\u001b[0m\u001b[0;34m)\u001b[0m\u001b[0;34m\u001b[0m\u001b[0;34m\u001b[0m\u001b[0m\n\u001b[0m",
            "\u001b[0;31mKeyError\u001b[0m: 'photos'"
          ]
        }
      ],
      "source": [
        "import requests\n",
        "\n",
        "api_key = \"your_api_key_here\"\n",
        "url = \"https://api.pexels.com/v1/search?query=nature&per_page=1\"\n",
        "\n",
        "headers = {\"Authorization\": api_key}\n",
        "response = requests.get(url, headers=headers).json()\n",
        "\n",
        "print(\"Image URL:\", response[\"photos\"][0][\"src\"][\"original\"])"
      ]
    },
    {
      "cell_type": "markdown",
      "id": "48376375",
      "metadata": {
        "id": "48376375"
      },
      "source": [
        "## 6. OpenWeather API — Get Real-Time Weather\n",
        "Get current weather conditions and forecasts for any location.\n",
        "- **[OpenWeather API_요기요](https://openweathermap.org/)**"
      ]
    },
    {
      "cell_type": "code",
      "execution_count": null,
      "id": "0abaca91",
      "metadata": {
        "id": "0abaca91"
      },
      "outputs": [],
      "source": [
        "import requests\n",
        "\n",
        "api_key = \"your_api_key_here\"\n",
        "city = \"London\"\n",
        "url = f\"https://api.openweathermap.org/data/2.5/weather?q={city}&appid={api_key}&units=metric\"\n",
        "\n",
        "response = requests.get(url).json()\n",
        "\n",
        "print(f\"Weather in {city}: {response['weather'][0]['description']}, {response['main']['temp']}°C\")"
      ]
    },
    {
      "cell_type": "markdown",
      "id": "591ded27",
      "metadata": {
        "id": "591ded27"
      },
      "source": [
        "## 7. REST Countries API — Get Country Data\n",
        "Access country-level data including population, currency, and capital."
      ]
    },
    {
      "cell_type": "code",
      "execution_count": 11,
      "id": "7d8a7ee7",
      "metadata": {
        "colab": {
          "base_uri": "https://localhost:8080/"
        },
        "id": "7d8a7ee7",
        "outputId": "7713d91f-74ba-4488-8175-8d6c02b8ee73"
      },
      "outputs": [
        {
          "output_type": "stream",
          "name": "stdout",
          "text": [
            "Country: India, Capital: New Delhi\n"
          ]
        }
      ],
      "source": [
        "import requests\n",
        "\n",
        "country = \"India\"\n",
        "url = f\"https://restcountries.com/v3.1/name/{country}\"\n",
        "response = requests.get(url).json()[0]\n",
        "\n",
        "print(f\"Country: {response['name']['common']}, Capital: {response['capital'][0]}\")"
      ]
    },
    {
      "cell_type": "markdown",
      "id": "a7aec88b",
      "metadata": {
        "id": "a7aec88b"
      },
      "source": [
        "## 8. Unsplash API — Free High-Resolution Images\n",
        "Get beautiful images for use in blogs, design projects, and more.\n",
        "- **[Unsplash API_요기](https://unsplash.com/developers)**"
      ]
    },
    {
      "cell_type": "code",
      "execution_count": null,
      "id": "e9925a90",
      "metadata": {
        "id": "e9925a90"
      },
      "outputs": [],
      "source": [
        "import requests\n",
        "\n",
        "api_key = \"your_api_key_here\"\n",
        "url = \"https://api.unsplash.com/photos/random?query=mountains&client_id=\" + api_key\n",
        "\n",
        "response = requests.get(url).json()\n",
        "print(\"Random Mountain Image URL:\", response[\"urls\"][\"regular\"])"
      ]
    },
    {
      "cell_type": "markdown",
      "id": "2c8e553a",
      "metadata": {
        "id": "2c8e553a"
      },
      "source": [
        "## 9. JokeAPI — Get Random Jokes\n",
        "Fetch random jokes in multiple formats — one-liners, Q&A, programming jokes, and more."
      ]
    },
    {
      "cell_type": "code",
      "execution_count": 12,
      "id": "655d749b",
      "metadata": {
        "colab": {
          "base_uri": "https://localhost:8080/"
        },
        "id": "655d749b",
        "outputId": "b63b564f-cb6e-458b-c48a-e759712d8469"
      },
      "outputs": [
        {
          "output_type": "stream",
          "name": "stdout",
          "text": [
            "A neutron walks into a bar and asks for a price on a drink.\n",
            "The barkeeper says: \"For you... no charge!\"\n"
          ]
        }
      ],
      "source": [
        "import requests\n",
        "\n",
        "url = \"https://v2.jokeapi.dev/joke/Any\"\n",
        "response = requests.get(url).json()\n",
        "\n",
        "joke = response[\"setup\"] + \" \" + response[\"delivery\"] if \"setup\" in response else response[\"joke\"]\n",
        "print(joke)"
      ]
    },
    {
      "cell_type": "markdown",
      "id": "5fc144ee",
      "metadata": {
        "id": "5fc144ee"
      },
      "source": [
        "## 10. Meme Generator API — Create Memes on the Fly\n",
        "Create dynamic memes using popular templates like 'Drakeposting' or 'Distracted Boyfriend'."
      ]
    },
    {
      "cell_type": "code",
      "execution_count": 18,
      "id": "0a9d9df6",
      "metadata": {
        "colab": {
          "base_uri": "https://localhost:8080/"
        },
        "id": "0a9d9df6",
        "outputId": "6c588746-e146-425b-9d94-77928fc1b75d"
      },
      "outputs": [
        {
          "output_type": "stream",
          "name": "stdout",
          "text": [
            "Meme Template Name: Drake Hotline Bling\n"
          ]
        }
      ],
      "source": [
        "import requests\n",
        "\n",
        "url = \"https://api.imgflip.com/get_memes\"\n",
        "response = requests.get(url).json()\n",
        "\n",
        "print(\"Meme Template Name:\", response[\"data\"][\"memes\"][0][\"name\"])"
      ]
    },
    {
      "cell_type": "code",
      "source": [],
      "metadata": {
        "id": "ejOUWS6od2oM"
      },
      "id": "ejOUWS6od2oM",
      "execution_count": null,
      "outputs": []
    }
  ],
  "metadata": {
    "colab": {
      "provenance": [],
      "include_colab_link": true
    },
    "language_info": {
      "name": "python"
    },
    "kernelspec": {
      "name": "python3",
      "display_name": "Python 3"
    }
  },
  "nbformat": 4,
  "nbformat_minor": 5
}