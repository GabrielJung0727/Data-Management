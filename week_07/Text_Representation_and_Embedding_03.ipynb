{
  "cells": [
    {
      "cell_type": "markdown",
      "metadata": {
        "id": "view-in-github",
        "colab_type": "text"
      },
      "source": [
        "<a href=\"https://colab.research.google.com/github/ancestor9/2025_Spring_Data-Management/blob/main/week_07/Text_Representation_and_Embedding_03.ipynb\" target=\"_parent\"><img src=\"https://colab.research.google.com/assets/colab-badge.svg\" alt=\"Open In Colab\"/></a>"
      ]
    },
    {
      "cell_type": "markdown",
      "metadata": {
        "id": "cUYhh4devHeN"
      },
      "source": [
        "# 텍스트 표현 기법과 임베딩\n",
        "# **Data Representation**\n",
        "\n",
        "## <font color='orange'>**4. Text data**\n",
        "- **아래 그림을 이해하여야 한다.**\n",
        "<img src='http://jalammar.github.io/images/numpy/numpy-nlp-embeddings.png'>"
      ],
      "id": "cUYhh4devHeN"
    },
    {
      "cell_type": "markdown",
      "source": [
        "\n",
        "#### 2.5 Word Embedding\n",
        "- 의미 기반 분산 표현 (Distributed Representation)\n",
        "- Word2Vec, GloVe, FastText 등\n",
        "- 단어 간 유사도, 의미 추론 가능\n",
        "- CBOW / Skip-gram\n",
        "- https://word2vec.kr/search"
      ],
      "metadata": {
        "id": "X7OyzWoBi059"
      },
      "id": "X7OyzWoBi059"
    },
    {
      "cell_type": "code",
      "source": [
        "!pip install gensim --quiet"
      ],
      "metadata": {
        "id": "vzRyMymsjXoW"
      },
      "id": "vzRyMymsjXoW",
      "execution_count": 1,
      "outputs": []
    },
    {
      "cell_type": "markdown",
      "source": [
        "### **[Gensim](https://radimrehurek.com/gensim/)**"
      ],
      "metadata": {
        "id": "d8u7gdzCjgtE"
      },
      "id": "d8u7gdzCjgtE"
    },
    {
      "cell_type": "code",
      "source": [
        "import nltk\n",
        "\n",
        "# NLTK 데이터 다운로드\n",
        "nltk.download('stopwords')\n",
        "nltk.download('punkt')"
      ],
      "metadata": {
        "colab": {
          "base_uri": "https://localhost:8080/"
        },
        "id": "lhARIMmz1hQw",
        "outputId": "ad10fd1e-de51-4bb3-eb02-490c5ac1a137"
      },
      "id": "lhARIMmz1hQw",
      "execution_count": 5,
      "outputs": [
        {
          "output_type": "stream",
          "name": "stderr",
          "text": [
            "[nltk_data] Downloading package stopwords to /root/nltk_data...\n",
            "[nltk_data]   Package stopwords is already up-to-date!\n",
            "[nltk_data] Downloading package punkt to /root/nltk_data...\n",
            "[nltk_data]   Package punkt is already up-to-date!\n"
          ]
        },
        {
          "output_type": "execute_result",
          "data": {
            "text/plain": [
              "True"
            ]
          },
          "metadata": {},
          "execution_count": 5
        }
      ]
    },
    {
      "cell_type": "code",
      "source": [
        "import numpy as np\n",
        "import pandas as pd\n",
        "import re\n",
        "from gensim.models import Word2Vec"
      ],
      "metadata": {
        "id": "FekuTfGoi2yk"
      },
      "id": "FekuTfGoi2yk",
      "execution_count": 6,
      "outputs": []
    },
    {
      "cell_type": "code",
      "source": [
        "from nltk.corpus import gutenberg\n",
        "# 필요한 리소스를 다운로드\n",
        "nltk.download('gutenberg')\n",
        "# 구텐베르크 말뭉치에서 사용 가능한 파일 목록 출력\n",
        "file_ids = gutenberg.fileids()\n",
        "file_ids"
      ],
      "metadata": {
        "colab": {
          "base_uri": "https://localhost:8080/"
        },
        "id": "KWa0g5L-obCw",
        "outputId": "00fb042f-31f1-43a6-f9f9-e17d1730f3dc"
      },
      "id": "KWa0g5L-obCw",
      "execution_count": 7,
      "outputs": [
        {
          "output_type": "stream",
          "name": "stderr",
          "text": [
            "[nltk_data] Downloading package gutenberg to /root/nltk_data...\n",
            "[nltk_data]   Unzipping corpora/gutenberg.zip.\n"
          ]
        },
        {
          "output_type": "execute_result",
          "data": {
            "text/plain": [
              "['austen-emma.txt',\n",
              " 'austen-persuasion.txt',\n",
              " 'austen-sense.txt',\n",
              " 'bible-kjv.txt',\n",
              " 'blake-poems.txt',\n",
              " 'bryant-stories.txt',\n",
              " 'burgess-busterbrown.txt',\n",
              " 'carroll-alice.txt',\n",
              " 'chesterton-ball.txt',\n",
              " 'chesterton-brown.txt',\n",
              " 'chesterton-thursday.txt',\n",
              " 'edgeworth-parents.txt',\n",
              " 'melville-moby_dick.txt',\n",
              " 'milton-paradise.txt',\n",
              " 'shakespeare-caesar.txt',\n",
              " 'shakespeare-hamlet.txt',\n",
              " 'shakespeare-macbeth.txt',\n",
              " 'whitman-leaves.txt']"
            ]
          },
          "metadata": {},
          "execution_count": 7
        }
      ]
    },
    {
      "cell_type": "code",
      "source": [
        "# 1. 텍스트 로드\n",
        "raw_text = gutenberg.raw('bible-kjv.txt')\n",
        "raw_text[:100]"
      ],
      "metadata": {
        "colab": {
          "base_uri": "https://localhost:8080/",
          "height": 35
        },
        "id": "SVvHmAUgohMd",
        "outputId": "7fbb245b-dde1-4afb-8e48-517a9c43ad97"
      },
      "id": "SVvHmAUgohMd",
      "execution_count": 8,
      "outputs": [
        {
          "output_type": "execute_result",
          "data": {
            "text/plain": [
              "'[The King James Bible]\\n\\nThe Old Testament of the King James Bible\\n\\nThe First Book of Moses:  Called '"
            ],
            "application/vnd.google.colaboratory.intrinsic+json": {
              "type": "string"
            }
          },
          "metadata": {},
          "execution_count": 8
        }
      ]
    },
    {
      "cell_type": "code",
      "source": [
        "import nltk\n",
        "nltk.download('punkt_tab')\n",
        "from nltk.tokenize import word_tokenize\n",
        "from nltk.tokenize import sent_tokenize\n",
        "from nltk.corpus import stopwords"
      ],
      "metadata": {
        "colab": {
          "base_uri": "https://localhost:8080/"
        },
        "id": "NmESqsjcpFLJ",
        "outputId": "c3c9df10-4bff-45fb-c024-0441d4731941"
      },
      "id": "NmESqsjcpFLJ",
      "execution_count": 9,
      "outputs": [
        {
          "output_type": "stream",
          "name": "stderr",
          "text": [
            "[nltk_data] Downloading package punkt_tab to /root/nltk_data...\n",
            "[nltk_data]   Unzipping tokenizers/punkt_tab.zip.\n"
          ]
        }
      ]
    },
    {
      "cell_type": "code",
      "source": [
        "raw_text[:100]"
      ],
      "metadata": {
        "colab": {
          "base_uri": "https://localhost:8080/",
          "height": 35
        },
        "id": "XB7aTPyys0_u",
        "outputId": "521e507a-c37a-441b-ace3-9ed87cb1a978"
      },
      "id": "XB7aTPyys0_u",
      "execution_count": 10,
      "outputs": [
        {
          "output_type": "execute_result",
          "data": {
            "text/plain": [
              "'[The King James Bible]\\n\\nThe Old Testament of the King James Bible\\n\\nThe First Book of Moses:  Called '"
            ],
            "application/vnd.google.colaboratory.intrinsic+json": {
              "type": "string"
            }
          },
          "metadata": {},
          "execution_count": 10
        }
      ]
    },
    {
      "cell_type": "code",
      "source": [
        "# 2. 문장 단위로 분리 후, 각 문장을 단어 단위로 토큰화\n",
        "sentences = sent_tokenize(raw_text[:1000])  # 문장 단위 분리\n",
        "sentences[0]"
      ],
      "metadata": {
        "colab": {
          "base_uri": "https://localhost:8080/",
          "height": 53
        },
        "id": "uZqt7Nm1ld6Y",
        "outputId": "d55ca92f-dfea-416c-8875-36d2d8d85769"
      },
      "id": "uZqt7Nm1ld6Y",
      "execution_count": 11,
      "outputs": [
        {
          "output_type": "execute_result",
          "data": {
            "text/plain": [
              "'[The King James Bible]\\n\\nThe Old Testament of the King James Bible\\n\\nThe First Book of Moses:  Called Genesis\\n\\n\\n1:1 In the beginning God created the heaven and the earth.'"
            ],
            "application/vnd.google.colaboratory.intrinsic+json": {
              "type": "string"
            }
          },
          "metadata": {},
          "execution_count": 11
        }
      ]
    },
    {
      "cell_type": "code",
      "source": [
        "# prompt: raw_text에 불용어, 특수문자, 줄바꿈, 번호 등을 모두 제거하는 전처리 코드, 단 마침표는 제거하지마라\n",
        "\n",
        "import re\n",
        "\n",
        "def preprocess_text(text):\n",
        "  # 특수문자 제거 (마침표 제외)\n",
        "  text = re.sub(r\"[^a-zA-Z0-9\\. ]\", \"\", text)\n",
        "\n",
        "  # 줄바꿈 제거\n",
        "  text = text.replace('\\n', ' ')\n",
        "\n",
        "  # 번호 제거\n",
        "  text = re.sub(r'\\d+', '', text)\n",
        "\n",
        "  # 불용어 제거\n",
        "  stop_words = set(stopwords.words('english'))\n",
        "  words = word_tokenize(text)\n",
        "  words = [word for word in words if word.lower() not in stop_words]\n",
        "\n",
        "  # 공백 제거 및 단어 합치기\n",
        "  text = \" \".join(words)\n",
        "\n",
        "  return text\n",
        "\n",
        "# 전처리 적용\n",
        "processed_text = preprocess_text(raw_text)\n",
        "print(processed_text[:100])\n"
      ],
      "metadata": {
        "colab": {
          "base_uri": "https://localhost:8080/"
        },
        "id": "VGjwVmTYtLl0",
        "outputId": "9f229a26-8346-406e-94db-3eb5a0d7ee8b"
      },
      "id": "VGjwVmTYtLl0",
      "execution_count": 12,
      "outputs": [
        {
          "output_type": "stream",
          "name": "stdout",
          "text": [
            "King James BibleThe Old Testament King James BibleThe First Book Moses Called Genesis beginning God \n"
          ]
        }
      ]
    },
    {
      "cell_type": "code",
      "source": [
        "sentences = sent_tokenize(preprocess_text(raw_text))  # 문장 단위 분리"
      ],
      "metadata": {
        "colab": {
          "base_uri": "https://localhost:8080/"
        },
        "id": "O8QhODP9tcgG",
        "outputId": "f6e9de2d-f42d-408b-9223-7b36ec388d2f"
      },
      "id": "O8QhODP9tcgG",
      "execution_count": 14,
      "outputs": [
        {
          "output_type": "execute_result",
          "data": {
            "text/plain": [
              "(list, 25886)"
            ]
          },
          "metadata": {},
          "execution_count": 14
        }
      ]
    },
    {
      "cell_type": "code",
      "source": [
        "for i in range(10):\n",
        "    print(sentences[i])"
      ],
      "metadata": {
        "colab": {
          "base_uri": "https://localhost:8080/"
        },
        "id": "3CXYa_tx11X4",
        "outputId": "1a868bbe-b45c-4d5b-f943-663096921707"
      },
      "id": "3CXYa_tx11X4",
      "execution_count": 17,
      "outputs": [
        {
          "output_type": "stream",
          "name": "stdout",
          "text": [
            "King James BibleThe Old Testament King James BibleThe First Book Moses Called Genesis beginning God created heaven earth .\n",
            "earth without form void darkness uponthe face deep .\n",
            "Spirit God moved upon face thewaters .\n",
            "God said Let light light .\n",
            "God saw light good God divided lightfrom darkness .\n",
            "God called light Day darkness called Night.And evening morning first day .\n",
            "God said Let firmament midst watersand let divide waters waters .\n",
            "God made firmament divided waters wereunder firmament waters firmamentand .\n",
            "God called firmament Heaven .\n",
            "evening themorning second day .\n"
          ]
        }
      ]
    },
    {
      "cell_type": "code",
      "source": [
        "tokenized_sentences = [word_tokenize(sent.lower()) for sent in sentences]  # 단어 단위 토큰화 + 소문자\n",
        "\n",
        "type(tokenized_sentences), len(tokenized_sentences)"
      ],
      "metadata": {
        "colab": {
          "base_uri": "https://localhost:8080/"
        },
        "id": "8g2G9t19rnPS",
        "outputId": "fe99e77c-1cbc-43d1-86f4-21448c45347f"
      },
      "id": "8g2G9t19rnPS",
      "execution_count": 19,
      "outputs": [
        {
          "output_type": "execute_result",
          "data": {
            "text/plain": [
              "(list, 25886)"
            ]
          },
          "metadata": {},
          "execution_count": 19
        }
      ]
    },
    {
      "cell_type": "code",
      "source": [
        "for i in range(10):\n",
        "    print(tokenized_sentences[i])"
      ],
      "metadata": {
        "colab": {
          "base_uri": "https://localhost:8080/"
        },
        "id": "2Iu8Ngq82LPw",
        "outputId": "dea4974b-90b2-4e83-c203-ffd023ca83e0"
      },
      "id": "2Iu8Ngq82LPw",
      "execution_count": 20,
      "outputs": [
        {
          "output_type": "stream",
          "name": "stdout",
          "text": [
            "['king', 'james', 'biblethe', 'old', 'testament', 'king', 'james', 'biblethe', 'first', 'book', 'moses', 'called', 'genesis', 'beginning', 'god', 'created', 'heaven', 'earth', '.']\n",
            "['earth', 'without', 'form', 'void', 'darkness', 'uponthe', 'face', 'deep', '.']\n",
            "['spirit', 'god', 'moved', 'upon', 'face', 'thewaters', '.']\n",
            "['god', 'said', 'let', 'light', 'light', '.']\n",
            "['god', 'saw', 'light', 'good', 'god', 'divided', 'lightfrom', 'darkness', '.']\n",
            "['god', 'called', 'light', 'day', 'darkness', 'called', 'night.and', 'evening', 'morning', 'first', 'day', '.']\n",
            "['god', 'said', 'let', 'firmament', 'midst', 'watersand', 'let', 'divide', 'waters', 'waters', '.']\n",
            "['god', 'made', 'firmament', 'divided', 'waters', 'wereunder', 'firmament', 'waters', 'firmamentand', '.']\n",
            "['god', 'called', 'firmament', 'heaven', '.']\n",
            "['evening', 'themorning', 'second', 'day', '.']\n"
          ]
        }
      ]
    },
    {
      "cell_type": "code",
      "source": [
        "# prompt: tokenized_sentences에서 마침표를 제거\n",
        "tokenized_sentences = [[word for word in sent if word != '.'] for sent in tokenized_sentences]\n",
        "\n",
        "for i in range(10):\n",
        "    print(tokenized_sentences[i])"
      ],
      "metadata": {
        "colab": {
          "base_uri": "https://localhost:8080/"
        },
        "id": "e2EIGrHZuZtR",
        "outputId": "a45e6fbd-6c16-48a2-a8cf-6c6f24c58525"
      },
      "id": "e2EIGrHZuZtR",
      "execution_count": 21,
      "outputs": [
        {
          "output_type": "stream",
          "name": "stdout",
          "text": [
            "['king', 'james', 'biblethe', 'old', 'testament', 'king', 'james', 'biblethe', 'first', 'book', 'moses', 'called', 'genesis', 'beginning', 'god', 'created', 'heaven', 'earth']\n",
            "['earth', 'without', 'form', 'void', 'darkness', 'uponthe', 'face', 'deep']\n",
            "['spirit', 'god', 'moved', 'upon', 'face', 'thewaters']\n",
            "['god', 'said', 'let', 'light', 'light']\n",
            "['god', 'saw', 'light', 'good', 'god', 'divided', 'lightfrom', 'darkness']\n",
            "['god', 'called', 'light', 'day', 'darkness', 'called', 'night.and', 'evening', 'morning', 'first', 'day']\n",
            "['god', 'said', 'let', 'firmament', 'midst', 'watersand', 'let', 'divide', 'waters', 'waters']\n",
            "['god', 'made', 'firmament', 'divided', 'waters', 'wereunder', 'firmament', 'waters', 'firmamentand']\n",
            "['god', 'called', 'firmament', 'heaven']\n",
            "['evening', 'themorning', 'second', 'day']\n"
          ]
        }
      ]
    },
    {
      "cell_type": "markdown",
      "source": [
        "## **Word2Vec 모델 학습**\n",
        "<img src='http://jalammar.github.io/images/numpy/numpy-nlp-embeddings.png'>"
      ],
      "metadata": {
        "id": "_78hoXGr2mLX"
      },
      "id": "_78hoXGr2mLX"
    },
    {
      "cell_type": "code",
      "source": [
        "# 3. Word2Vec 모델 학습\n",
        "\n",
        "# 파라미터 설명:\n",
        "# - size: 단어 벡터의 차원 수\n",
        "# - window: 컨텍스트 윈도우 크기\n",
        "# - min_count: 단어 최소 등장 횟수 기준\n",
        "# - sg: 0은 CBOW, 1은 Skip-gram\n",
        "# - workers: 병렬 처리를 위한 스레드 수\n",
        "\n",
        "model = Word2Vec(\n",
        "    sentences=tokenized_sentences,\n",
        "    vector_size=100,    # 벡터 차원\n",
        "    window=5,           # 컨텍스트 윈도우 크기\n",
        "    min_count=5,        # 최소 등장 빈도\n",
        "    workers=4,          # 병렬 처리\n",
        "    sg=1                # skip-gram 사용 (sg=0은 CBOW)\n",
        ")"
      ],
      "metadata": {
        "id": "aXQrbgA_rlSy"
      },
      "id": "aXQrbgA_rlSy",
      "execution_count": 22,
      "outputs": []
    },
    {
      "cell_type": "code",
      "source": [
        "# 4. 단어 벡터 확인 예제\n",
        "print(\"📌 Vector for 'god':\\n\", model.wv['god'])"
      ],
      "metadata": {
        "colab": {
          "base_uri": "https://localhost:8080/"
        },
        "id": "NCRiAt4guwgX",
        "outputId": "fbd60230-659c-4ade-fb68-41f2c6341a45"
      },
      "id": "NCRiAt4guwgX",
      "execution_count": 23,
      "outputs": [
        {
          "output_type": "stream",
          "name": "stdout",
          "text": [
            "📌 Vector for 'god':\n",
            " [-0.16401465  0.19108611 -0.08686794 -0.15956612  0.44073373 -0.06696034\n",
            "  0.22436376  0.49792004 -0.18014899  0.15294363 -0.48566523  0.40555912\n",
            " -0.07768128  0.11858043  0.34796306 -0.04394959  0.00572275  0.06634517\n",
            "  0.09529909  0.09815849 -0.01234585 -0.0219283   0.70704275  0.10228853\n",
            "  0.38051963  0.01410606 -0.13605651  0.2588087  -0.11525442  0.21555147\n",
            "  0.46270016  0.23024094 -0.15647714 -0.25858012 -0.1577367   0.11402214\n",
            " -0.0643885   0.0415675  -0.15737736 -0.16899179  0.30415136 -0.21313801\n",
            "  0.29111993  0.08553396  0.02612616  0.04073231 -0.04211972  0.07656102\n",
            "  0.07911312 -0.2593679   0.39915004 -0.3080676   0.07046414 -0.47665498\n",
            " -0.2875065  -0.19988355  0.06724089 -0.16144435 -0.21824467 -0.28981665\n",
            " -0.20751168 -0.12097005  0.5035917   0.3394476  -0.04838438  0.38094142\n",
            "  0.28345323  0.07584552 -0.5415919   0.5260604  -0.17416075  0.6421959\n",
            "  0.08251522  0.14414494  0.10642815  0.02638103 -0.04967452  0.38078332\n",
            "  0.11840073  0.15245323 -0.12416087  0.02991174 -0.380103   -0.04496814\n",
            "  0.06007411 -0.43261978  0.20119967  0.12471306  0.0705143  -0.02542941\n",
            "  0.03463971  0.21849532  0.0389149   0.08091294  0.09929989  0.17070808\n",
            "  0.4566654   0.24335606 -0.2071739  -0.0827077 ]\n"
          ]
        }
      ]
    },
    {
      "cell_type": "code",
      "source": [
        "# 모델의 파라미터 출력\n",
        "print(model.wv.vectors.shape) # 벡터의 차원 확인\n",
        "# print(model.wv.key_to_index) # 단어 목록과 인덱스 확인\n",
        "# print(model.wv.index_to_key) # 인덱스와 단어 목록 확인"
      ],
      "metadata": {
        "colab": {
          "base_uri": "https://localhost:8080/"
        },
        "id": "mnneUYncqLhY",
        "outputId": "cd625f98-5751-4ba1-9683-a6889cb4d94f"
      },
      "id": "mnneUYncqLhY",
      "execution_count": 24,
      "outputs": [
        {
          "output_type": "stream",
          "name": "stdout",
          "text": [
            "(6196, 100)\n"
          ]
        }
      ]
    },
    {
      "cell_type": "code",
      "source": [
        "model.corpus_total_words"
      ],
      "metadata": {
        "colab": {
          "base_uri": "https://localhost:8080/"
        },
        "id": "4atckCExprNt",
        "outputId": "e79b8c09-da34-455b-bee0-58bd0cb1aeaf"
      },
      "id": "4atckCExprNt",
      "execution_count": 25,
      "outputs": [
        {
          "output_type": "execute_result",
          "data": {
            "text/plain": [
              "372954"
            ]
          },
          "metadata": {},
          "execution_count": 25
        }
      ]
    },
    {
      "cell_type": "code",
      "source": [
        "model.vector_size"
      ],
      "metadata": {
        "colab": {
          "base_uri": "https://localhost:8080/"
        },
        "id": "aUrl9qrwp64j",
        "outputId": "eb3d27eb-d8ff-4256-9009-221167206158"
      },
      "id": "aUrl9qrwp64j",
      "execution_count": 26,
      "outputs": [
        {
          "output_type": "execute_result",
          "data": {
            "text/plain": [
              "100"
            ]
          },
          "metadata": {},
          "execution_count": 26
        }
      ]
    },
    {
      "cell_type": "code",
      "source": [
        "# 모델 저장 및 로드 방법\n",
        "model.save(\"word2vec_model.model\")\n",
        "loaded_model = Word2Vec.load(\"word2vec_model.model\")"
      ],
      "metadata": {
        "id": "o-8A8krGpdns"
      },
      "id": "o-8A8krGpdns",
      "execution_count": 27,
      "outputs": []
    },
    {
      "cell_type": "code",
      "source": [
        "# 5. 유사한 단어 확인\n",
        "print(\"\\n🔍 Most similar words to 'god':\")\n",
        "for word, score in model.wv.most_similar('god'):\n",
        "    print(f\"{word}: {score:.4f}\")"
      ],
      "metadata": {
        "colab": {
          "base_uri": "https://localhost:8080/"
        },
        "id": "omsGmq74vL1l",
        "outputId": "a42412bc-9299-4e8f-a087-4c7b2fcc5493"
      },
      "id": "omsGmq74vL1l",
      "execution_count": 28,
      "outputs": [
        {
          "output_type": "stream",
          "name": "stdout",
          "text": [
            "\n",
            "🔍 Most similar words to 'god':\n",
            "godof: 0.7926\n",
            "ofhosts: 0.7907\n",
            "praises: 0.7744\n",
            "saviour: 0.7735\n",
            "sworn: 0.7650\n",
            "formed: 0.7643\n",
            "glorified: 0.7633\n",
            "thegod: 0.7607\n",
            "obtained: 0.7586\n",
            "magnified: 0.7586\n"
          ]
        }
      ]
    },
    {
      "cell_type": "code",
      "source": [
        "print(\"Vector for 'jesus':\", model.wv['jesus'])"
      ],
      "metadata": {
        "colab": {
          "base_uri": "https://localhost:8080/"
        },
        "id": "YA7rYCEDzIf2",
        "outputId": "3febaaea-61cb-4a22-f365-092cb5d6949b"
      },
      "id": "YA7rYCEDzIf2",
      "execution_count": 29,
      "outputs": [
        {
          "output_type": "stream",
          "name": "stdout",
          "text": [
            "Vector for 'jesus': [-3.08659792e-01 -4.85133640e-02 -1.17838703e-01 -6.08167112e-01\n",
            "  2.64356256e-01  1.43616483e-01  2.79606223e-01  4.51124072e-01\n",
            " -3.22206110e-01  1.11037910e-01 -6.10138535e-01  1.33277804e-01\n",
            " -1.56168833e-01  2.64514327e-01 -4.65965748e-01  1.07575275e-01\n",
            " -3.65505546e-01  3.58813219e-02  1.94940299e-01 -1.08985804e-01\n",
            " -4.46201026e-01  2.13984564e-01  9.76029038e-01  1.16538711e-01\n",
            "  2.20387116e-01  2.54067272e-01 -4.88980860e-01 -1.24308951e-01\n",
            " -5.98259978e-02 -1.22174375e-01 -1.16695628e-01 -3.41980644e-02\n",
            " -9.09190699e-02  3.09843481e-01 -5.91706149e-02 -7.51871197e-03\n",
            "  6.96132630e-02 -5.16621828e-01 -4.33174282e-01 -4.55747008e-01\n",
            "  2.42619574e-01 -6.32030129e-01  7.60926586e-03  2.92071611e-01\n",
            "  3.06060076e-01 -3.40698510e-01  3.76645148e-01 -3.86075616e-01\n",
            " -2.67907232e-01 -6.22838259e-01  2.46431585e-02 -5.90328634e-01\n",
            " -3.46394688e-01 -5.11954606e-01 -1.40685782e-01 -5.50026476e-01\n",
            "  2.27914706e-01 -1.43445164e-01 -7.10907996e-01 -2.32792467e-01\n",
            "  2.27865994e-01 -3.33108902e-01  2.45035157e-01  1.82003126e-01\n",
            "  4.84263748e-01  6.11002743e-01 -3.83179933e-01  3.19848299e-01\n",
            "  6.10190630e-03  4.21321481e-01  1.38928354e-01  5.05254447e-01\n",
            "  4.20557737e-01  3.94846359e-03  3.80196303e-01 -9.21786353e-02\n",
            " -3.24881256e-01  7.56591260e-01  9.68969092e-02  5.12879863e-02\n",
            " -2.56962985e-01 -2.77043194e-01 -3.05493742e-01  1.53464273e-01\n",
            "  1.10332124e-01 -5.85505664e-01  3.01736742e-01 -2.17241824e-01\n",
            " -2.18745336e-01 -9.73692313e-02  1.80982620e-01  1.65935948e-01\n",
            " -3.48555982e-01  4.43859138e-02  2.07041681e-01 -1.98626440e-04\n",
            "  1.62536442e-01  8.33908617e-02 -4.29434963e-02  4.31845009e-01]\n"
          ]
        }
      ]
    },
    {
      "cell_type": "code",
      "source": [
        "print(\"Similarity between 'jesus' and 'god':\", model.wv.similarity('jesus', 'god'))"
      ],
      "metadata": {
        "colab": {
          "base_uri": "https://localhost:8080/"
        },
        "id": "RoYINjGZzcnj",
        "outputId": "720086b9-4783-4685-a710-3fe1b02b661c"
      },
      "id": "RoYINjGZzcnj",
      "execution_count": 30,
      "outputs": [
        {
          "output_type": "stream",
          "name": "stdout",
          "text": [
            "Similarity between 'jesus' and 'god': 0.54128975\n"
          ]
        }
      ]
    },
    {
      "cell_type": "code",
      "source": [
        "print(\"Similarity between 'jesus' and 'father':\", model.wv.similarity('jesus', 'father'))"
      ],
      "metadata": {
        "colab": {
          "base_uri": "https://localhost:8080/"
        },
        "id": "qK-QcoDRzg9d",
        "outputId": "576bcdd7-481e-4ec5-ac2b-7ef0e991415f"
      },
      "id": "qK-QcoDRzg9d",
      "execution_count": 31,
      "outputs": [
        {
          "output_type": "stream",
          "name": "stdout",
          "text": [
            "Similarity between 'jesus' and 'father': 0.4557483\n"
          ]
        }
      ]
    },
    {
      "cell_type": "code",
      "source": [
        "print(\"Similarity between 'jesus' and 'satan':\", model.wv.similarity('jesus', 'satan'))"
      ],
      "metadata": {
        "colab": {
          "base_uri": "https://localhost:8080/"
        },
        "id": "OyoHExQ2zlzQ",
        "outputId": "567d1ac9-ba59-4f4a-c3ca-2b851b760af7"
      },
      "id": "OyoHExQ2zlzQ",
      "execution_count": 32,
      "outputs": [
        {
          "output_type": "stream",
          "name": "stdout",
          "text": [
            "Similarity between 'jesus' and 'satan': 0.59068733\n"
          ]
        }
      ]
    },
    {
      "cell_type": "code",
      "source": [
        "print(\"Most similar to 'jesus':\", model.wv.most_similar('jesus', topn=3))"
      ],
      "metadata": {
        "colab": {
          "base_uri": "https://localhost:8080/"
        },
        "id": "F6zn0tX0zdcy",
        "outputId": "c6e2f8cb-be54-48f6-beee-0bcba7819d6d"
      },
      "id": "F6zn0tX0zdcy",
      "execution_count": 33,
      "outputs": [
        {
          "output_type": "stream",
          "name": "stdout",
          "text": [
            "Most similar to 'jesus': [('baptized', 0.7514158487319946), ('paul', 0.7505456805229187), ('john', 0.735878050327301)]\n"
          ]
        }
      ]
    },
    {
      "cell_type": "code",
      "source": [
        "# prompt: 출현빈도가 높은 상위 10개 단어의 cosine similarity table을\n",
        "\n",
        "import pandas as pd\n",
        "import numpy as np\n",
        "from collections import Counter\n",
        "\n",
        "# 단어 빈도수 계산\n",
        "word_counts = Counter(word for sentence in tokenized_sentences for word in sentence)\n",
        "\n",
        "# 상위 10개 단어 추출\n",
        "top_10_words = [word for word, count in word_counts.most_common(10)]\n",
        "\n",
        "# 코사인 유사도 계산 및 표 생성\n",
        "similarity_matrix = np.zeros((10, 10))\n",
        "for i, word1 in enumerate(top_10_words):\n",
        "    for j, word2 in enumerate(top_10_words):\n",
        "        similarity_matrix[i, j] = model.wv.similarity(word1, word2)\n",
        "\n",
        "similarity_df = pd.DataFrame(similarity_matrix, index=top_10_words, columns=top_10_words)\n",
        "similarity_df"
      ],
      "metadata": {
        "colab": {
          "base_uri": "https://localhost:8080/",
          "height": 363
        },
        "id": "Q-9VriPZzx8M",
        "outputId": "096ad88d-ad03-4fd5-a093-9b187b403b0d"
      },
      "id": "Q-9VriPZzx8M",
      "execution_count": 34,
      "outputs": [
        {
          "output_type": "execute_result",
          "data": {
            "text/plain": [
              "          shall      unto      lord      thou       god       thy      said  \\\n",
              "shall  1.000000  0.347874  0.272021  0.340724  0.277635  0.361751  0.141184   \n",
              "unto   0.347874  1.000000  0.523951  0.433966  0.551741  0.303835  0.546307   \n",
              "lord   0.272021  0.523951  1.000000  0.370516  0.742544  0.343829  0.326467   \n",
              "thou   0.340724  0.433966  0.370516  1.000000  0.351085  0.534732  0.427473   \n",
              "god    0.277635  0.551741  0.742544  0.351085  1.000000  0.335250  0.409245   \n",
              "thy    0.361751  0.303835  0.343829  0.534732  0.335250  1.000000  0.149680   \n",
              "said   0.141184  0.546307  0.326467  0.427473  0.409245  0.149680  1.000000   \n",
              "ye     0.536960  0.421747  0.444953  0.273701  0.526193  0.279767  0.293758   \n",
              "thee   0.447481  0.587001  0.561125  0.655830  0.559897  0.709782  0.456462   \n",
              "upon   0.396180  0.290789  0.399725  0.241739  0.307456  0.331993  0.153944   \n",
              "\n",
              "             ye      thee      upon  \n",
              "shall  0.536960  0.447481  0.396180  \n",
              "unto   0.421747  0.587001  0.290789  \n",
              "lord   0.444953  0.561125  0.399725  \n",
              "thou   0.273701  0.655830  0.241739  \n",
              "god    0.526193  0.559897  0.307456  \n",
              "thy    0.279767  0.709782  0.331993  \n",
              "said   0.293758  0.456462  0.153944  \n",
              "ye     1.000000  0.485308  0.113294  \n",
              "thee   0.485308  1.000000  0.309247  \n",
              "upon   0.113294  0.309247  1.000000  "
            ],
            "text/html": [
              "\n",
              "  <div id=\"df-12090fa1-69f8-4cd1-914a-70dc1dc7272f\" class=\"colab-df-container\">\n",
              "    <div>\n",
              "<style scoped>\n",
              "    .dataframe tbody tr th:only-of-type {\n",
              "        vertical-align: middle;\n",
              "    }\n",
              "\n",
              "    .dataframe tbody tr th {\n",
              "        vertical-align: top;\n",
              "    }\n",
              "\n",
              "    .dataframe thead th {\n",
              "        text-align: right;\n",
              "    }\n",
              "</style>\n",
              "<table border=\"1\" class=\"dataframe\">\n",
              "  <thead>\n",
              "    <tr style=\"text-align: right;\">\n",
              "      <th></th>\n",
              "      <th>shall</th>\n",
              "      <th>unto</th>\n",
              "      <th>lord</th>\n",
              "      <th>thou</th>\n",
              "      <th>god</th>\n",
              "      <th>thy</th>\n",
              "      <th>said</th>\n",
              "      <th>ye</th>\n",
              "      <th>thee</th>\n",
              "      <th>upon</th>\n",
              "    </tr>\n",
              "  </thead>\n",
              "  <tbody>\n",
              "    <tr>\n",
              "      <th>shall</th>\n",
              "      <td>1.000000</td>\n",
              "      <td>0.347874</td>\n",
              "      <td>0.272021</td>\n",
              "      <td>0.340724</td>\n",
              "      <td>0.277635</td>\n",
              "      <td>0.361751</td>\n",
              "      <td>0.141184</td>\n",
              "      <td>0.536960</td>\n",
              "      <td>0.447481</td>\n",
              "      <td>0.396180</td>\n",
              "    </tr>\n",
              "    <tr>\n",
              "      <th>unto</th>\n",
              "      <td>0.347874</td>\n",
              "      <td>1.000000</td>\n",
              "      <td>0.523951</td>\n",
              "      <td>0.433966</td>\n",
              "      <td>0.551741</td>\n",
              "      <td>0.303835</td>\n",
              "      <td>0.546307</td>\n",
              "      <td>0.421747</td>\n",
              "      <td>0.587001</td>\n",
              "      <td>0.290789</td>\n",
              "    </tr>\n",
              "    <tr>\n",
              "      <th>lord</th>\n",
              "      <td>0.272021</td>\n",
              "      <td>0.523951</td>\n",
              "      <td>1.000000</td>\n",
              "      <td>0.370516</td>\n",
              "      <td>0.742544</td>\n",
              "      <td>0.343829</td>\n",
              "      <td>0.326467</td>\n",
              "      <td>0.444953</td>\n",
              "      <td>0.561125</td>\n",
              "      <td>0.399725</td>\n",
              "    </tr>\n",
              "    <tr>\n",
              "      <th>thou</th>\n",
              "      <td>0.340724</td>\n",
              "      <td>0.433966</td>\n",
              "      <td>0.370516</td>\n",
              "      <td>1.000000</td>\n",
              "      <td>0.351085</td>\n",
              "      <td>0.534732</td>\n",
              "      <td>0.427473</td>\n",
              "      <td>0.273701</td>\n",
              "      <td>0.655830</td>\n",
              "      <td>0.241739</td>\n",
              "    </tr>\n",
              "    <tr>\n",
              "      <th>god</th>\n",
              "      <td>0.277635</td>\n",
              "      <td>0.551741</td>\n",
              "      <td>0.742544</td>\n",
              "      <td>0.351085</td>\n",
              "      <td>1.000000</td>\n",
              "      <td>0.335250</td>\n",
              "      <td>0.409245</td>\n",
              "      <td>0.526193</td>\n",
              "      <td>0.559897</td>\n",
              "      <td>0.307456</td>\n",
              "    </tr>\n",
              "    <tr>\n",
              "      <th>thy</th>\n",
              "      <td>0.361751</td>\n",
              "      <td>0.303835</td>\n",
              "      <td>0.343829</td>\n",
              "      <td>0.534732</td>\n",
              "      <td>0.335250</td>\n",
              "      <td>1.000000</td>\n",
              "      <td>0.149680</td>\n",
              "      <td>0.279767</td>\n",
              "      <td>0.709782</td>\n",
              "      <td>0.331993</td>\n",
              "    </tr>\n",
              "    <tr>\n",
              "      <th>said</th>\n",
              "      <td>0.141184</td>\n",
              "      <td>0.546307</td>\n",
              "      <td>0.326467</td>\n",
              "      <td>0.427473</td>\n",
              "      <td>0.409245</td>\n",
              "      <td>0.149680</td>\n",
              "      <td>1.000000</td>\n",
              "      <td>0.293758</td>\n",
              "      <td>0.456462</td>\n",
              "      <td>0.153944</td>\n",
              "    </tr>\n",
              "    <tr>\n",
              "      <th>ye</th>\n",
              "      <td>0.536960</td>\n",
              "      <td>0.421747</td>\n",
              "      <td>0.444953</td>\n",
              "      <td>0.273701</td>\n",
              "      <td>0.526193</td>\n",
              "      <td>0.279767</td>\n",
              "      <td>0.293758</td>\n",
              "      <td>1.000000</td>\n",
              "      <td>0.485308</td>\n",
              "      <td>0.113294</td>\n",
              "    </tr>\n",
              "    <tr>\n",
              "      <th>thee</th>\n",
              "      <td>0.447481</td>\n",
              "      <td>0.587001</td>\n",
              "      <td>0.561125</td>\n",
              "      <td>0.655830</td>\n",
              "      <td>0.559897</td>\n",
              "      <td>0.709782</td>\n",
              "      <td>0.456462</td>\n",
              "      <td>0.485308</td>\n",
              "      <td>1.000000</td>\n",
              "      <td>0.309247</td>\n",
              "    </tr>\n",
              "    <tr>\n",
              "      <th>upon</th>\n",
              "      <td>0.396180</td>\n",
              "      <td>0.290789</td>\n",
              "      <td>0.399725</td>\n",
              "      <td>0.241739</td>\n",
              "      <td>0.307456</td>\n",
              "      <td>0.331993</td>\n",
              "      <td>0.153944</td>\n",
              "      <td>0.113294</td>\n",
              "      <td>0.309247</td>\n",
              "      <td>1.000000</td>\n",
              "    </tr>\n",
              "  </tbody>\n",
              "</table>\n",
              "</div>\n",
              "    <div class=\"colab-df-buttons\">\n",
              "\n",
              "  <div class=\"colab-df-container\">\n",
              "    <button class=\"colab-df-convert\" onclick=\"convertToInteractive('df-12090fa1-69f8-4cd1-914a-70dc1dc7272f')\"\n",
              "            title=\"Convert this dataframe to an interactive table.\"\n",
              "            style=\"display:none;\">\n",
              "\n",
              "  <svg xmlns=\"http://www.w3.org/2000/svg\" height=\"24px\" viewBox=\"0 -960 960 960\">\n",
              "    <path d=\"M120-120v-720h720v720H120Zm60-500h600v-160H180v160Zm220 220h160v-160H400v160Zm0 220h160v-160H400v160ZM180-400h160v-160H180v160Zm440 0h160v-160H620v160ZM180-180h160v-160H180v160Zm440 0h160v-160H620v160Z\"/>\n",
              "  </svg>\n",
              "    </button>\n",
              "\n",
              "  <style>\n",
              "    .colab-df-container {\n",
              "      display:flex;\n",
              "      gap: 12px;\n",
              "    }\n",
              "\n",
              "    .colab-df-convert {\n",
              "      background-color: #E8F0FE;\n",
              "      border: none;\n",
              "      border-radius: 50%;\n",
              "      cursor: pointer;\n",
              "      display: none;\n",
              "      fill: #1967D2;\n",
              "      height: 32px;\n",
              "      padding: 0 0 0 0;\n",
              "      width: 32px;\n",
              "    }\n",
              "\n",
              "    .colab-df-convert:hover {\n",
              "      background-color: #E2EBFA;\n",
              "      box-shadow: 0px 1px 2px rgba(60, 64, 67, 0.3), 0px 1px 3px 1px rgba(60, 64, 67, 0.15);\n",
              "      fill: #174EA6;\n",
              "    }\n",
              "\n",
              "    .colab-df-buttons div {\n",
              "      margin-bottom: 4px;\n",
              "    }\n",
              "\n",
              "    [theme=dark] .colab-df-convert {\n",
              "      background-color: #3B4455;\n",
              "      fill: #D2E3FC;\n",
              "    }\n",
              "\n",
              "    [theme=dark] .colab-df-convert:hover {\n",
              "      background-color: #434B5C;\n",
              "      box-shadow: 0px 1px 3px 1px rgba(0, 0, 0, 0.15);\n",
              "      filter: drop-shadow(0px 1px 2px rgba(0, 0, 0, 0.3));\n",
              "      fill: #FFFFFF;\n",
              "    }\n",
              "  </style>\n",
              "\n",
              "    <script>\n",
              "      const buttonEl =\n",
              "        document.querySelector('#df-12090fa1-69f8-4cd1-914a-70dc1dc7272f button.colab-df-convert');\n",
              "      buttonEl.style.display =\n",
              "        google.colab.kernel.accessAllowed ? 'block' : 'none';\n",
              "\n",
              "      async function convertToInteractive(key) {\n",
              "        const element = document.querySelector('#df-12090fa1-69f8-4cd1-914a-70dc1dc7272f');\n",
              "        const dataTable =\n",
              "          await google.colab.kernel.invokeFunction('convertToInteractive',\n",
              "                                                    [key], {});\n",
              "        if (!dataTable) return;\n",
              "\n",
              "        const docLinkHtml = 'Like what you see? Visit the ' +\n",
              "          '<a target=\"_blank\" href=https://colab.research.google.com/notebooks/data_table.ipynb>data table notebook</a>'\n",
              "          + ' to learn more about interactive tables.';\n",
              "        element.innerHTML = '';\n",
              "        dataTable['output_type'] = 'display_data';\n",
              "        await google.colab.output.renderOutput(dataTable, element);\n",
              "        const docLink = document.createElement('div');\n",
              "        docLink.innerHTML = docLinkHtml;\n",
              "        element.appendChild(docLink);\n",
              "      }\n",
              "    </script>\n",
              "  </div>\n",
              "\n",
              "\n",
              "<div id=\"df-4adcc2be-cdf8-4146-847a-8ae3b6b7d678\">\n",
              "  <button class=\"colab-df-quickchart\" onclick=\"quickchart('df-4adcc2be-cdf8-4146-847a-8ae3b6b7d678')\"\n",
              "            title=\"Suggest charts\"\n",
              "            style=\"display:none;\">\n",
              "\n",
              "<svg xmlns=\"http://www.w3.org/2000/svg\" height=\"24px\"viewBox=\"0 0 24 24\"\n",
              "     width=\"24px\">\n",
              "    <g>\n",
              "        <path d=\"M19 3H5c-1.1 0-2 .9-2 2v14c0 1.1.9 2 2 2h14c1.1 0 2-.9 2-2V5c0-1.1-.9-2-2-2zM9 17H7v-7h2v7zm4 0h-2V7h2v10zm4 0h-2v-4h2v4z\"/>\n",
              "    </g>\n",
              "</svg>\n",
              "  </button>\n",
              "\n",
              "<style>\n",
              "  .colab-df-quickchart {\n",
              "      --bg-color: #E8F0FE;\n",
              "      --fill-color: #1967D2;\n",
              "      --hover-bg-color: #E2EBFA;\n",
              "      --hover-fill-color: #174EA6;\n",
              "      --disabled-fill-color: #AAA;\n",
              "      --disabled-bg-color: #DDD;\n",
              "  }\n",
              "\n",
              "  [theme=dark] .colab-df-quickchart {\n",
              "      --bg-color: #3B4455;\n",
              "      --fill-color: #D2E3FC;\n",
              "      --hover-bg-color: #434B5C;\n",
              "      --hover-fill-color: #FFFFFF;\n",
              "      --disabled-bg-color: #3B4455;\n",
              "      --disabled-fill-color: #666;\n",
              "  }\n",
              "\n",
              "  .colab-df-quickchart {\n",
              "    background-color: var(--bg-color);\n",
              "    border: none;\n",
              "    border-radius: 50%;\n",
              "    cursor: pointer;\n",
              "    display: none;\n",
              "    fill: var(--fill-color);\n",
              "    height: 32px;\n",
              "    padding: 0;\n",
              "    width: 32px;\n",
              "  }\n",
              "\n",
              "  .colab-df-quickchart:hover {\n",
              "    background-color: var(--hover-bg-color);\n",
              "    box-shadow: 0 1px 2px rgba(60, 64, 67, 0.3), 0 1px 3px 1px rgba(60, 64, 67, 0.15);\n",
              "    fill: var(--button-hover-fill-color);\n",
              "  }\n",
              "\n",
              "  .colab-df-quickchart-complete:disabled,\n",
              "  .colab-df-quickchart-complete:disabled:hover {\n",
              "    background-color: var(--disabled-bg-color);\n",
              "    fill: var(--disabled-fill-color);\n",
              "    box-shadow: none;\n",
              "  }\n",
              "\n",
              "  .colab-df-spinner {\n",
              "    border: 2px solid var(--fill-color);\n",
              "    border-color: transparent;\n",
              "    border-bottom-color: var(--fill-color);\n",
              "    animation:\n",
              "      spin 1s steps(1) infinite;\n",
              "  }\n",
              "\n",
              "  @keyframes spin {\n",
              "    0% {\n",
              "      border-color: transparent;\n",
              "      border-bottom-color: var(--fill-color);\n",
              "      border-left-color: var(--fill-color);\n",
              "    }\n",
              "    20% {\n",
              "      border-color: transparent;\n",
              "      border-left-color: var(--fill-color);\n",
              "      border-top-color: var(--fill-color);\n",
              "    }\n",
              "    30% {\n",
              "      border-color: transparent;\n",
              "      border-left-color: var(--fill-color);\n",
              "      border-top-color: var(--fill-color);\n",
              "      border-right-color: var(--fill-color);\n",
              "    }\n",
              "    40% {\n",
              "      border-color: transparent;\n",
              "      border-right-color: var(--fill-color);\n",
              "      border-top-color: var(--fill-color);\n",
              "    }\n",
              "    60% {\n",
              "      border-color: transparent;\n",
              "      border-right-color: var(--fill-color);\n",
              "    }\n",
              "    80% {\n",
              "      border-color: transparent;\n",
              "      border-right-color: var(--fill-color);\n",
              "      border-bottom-color: var(--fill-color);\n",
              "    }\n",
              "    90% {\n",
              "      border-color: transparent;\n",
              "      border-bottom-color: var(--fill-color);\n",
              "    }\n",
              "  }\n",
              "</style>\n",
              "\n",
              "  <script>\n",
              "    async function quickchart(key) {\n",
              "      const quickchartButtonEl =\n",
              "        document.querySelector('#' + key + ' button');\n",
              "      quickchartButtonEl.disabled = true;  // To prevent multiple clicks.\n",
              "      quickchartButtonEl.classList.add('colab-df-spinner');\n",
              "      try {\n",
              "        const charts = await google.colab.kernel.invokeFunction(\n",
              "            'suggestCharts', [key], {});\n",
              "      } catch (error) {\n",
              "        console.error('Error during call to suggestCharts:', error);\n",
              "      }\n",
              "      quickchartButtonEl.classList.remove('colab-df-spinner');\n",
              "      quickchartButtonEl.classList.add('colab-df-quickchart-complete');\n",
              "    }\n",
              "    (() => {\n",
              "      let quickchartButtonEl =\n",
              "        document.querySelector('#df-4adcc2be-cdf8-4146-847a-8ae3b6b7d678 button');\n",
              "      quickchartButtonEl.style.display =\n",
              "        google.colab.kernel.accessAllowed ? 'block' : 'none';\n",
              "    })();\n",
              "  </script>\n",
              "</div>\n",
              "\n",
              "  <div id=\"id_81986126-1a9d-4d0d-ae8e-d08a8176a5e1\">\n",
              "    <style>\n",
              "      .colab-df-generate {\n",
              "        background-color: #E8F0FE;\n",
              "        border: none;\n",
              "        border-radius: 50%;\n",
              "        cursor: pointer;\n",
              "        display: none;\n",
              "        fill: #1967D2;\n",
              "        height: 32px;\n",
              "        padding: 0 0 0 0;\n",
              "        width: 32px;\n",
              "      }\n",
              "\n",
              "      .colab-df-generate:hover {\n",
              "        background-color: #E2EBFA;\n",
              "        box-shadow: 0px 1px 2px rgba(60, 64, 67, 0.3), 0px 1px 3px 1px rgba(60, 64, 67, 0.15);\n",
              "        fill: #174EA6;\n",
              "      }\n",
              "\n",
              "      [theme=dark] .colab-df-generate {\n",
              "        background-color: #3B4455;\n",
              "        fill: #D2E3FC;\n",
              "      }\n",
              "\n",
              "      [theme=dark] .colab-df-generate:hover {\n",
              "        background-color: #434B5C;\n",
              "        box-shadow: 0px 1px 3px 1px rgba(0, 0, 0, 0.15);\n",
              "        filter: drop-shadow(0px 1px 2px rgba(0, 0, 0, 0.3));\n",
              "        fill: #FFFFFF;\n",
              "      }\n",
              "    </style>\n",
              "    <button class=\"colab-df-generate\" onclick=\"generateWithVariable('similarity_df')\"\n",
              "            title=\"Generate code using this dataframe.\"\n",
              "            style=\"display:none;\">\n",
              "\n",
              "  <svg xmlns=\"http://www.w3.org/2000/svg\" height=\"24px\"viewBox=\"0 0 24 24\"\n",
              "       width=\"24px\">\n",
              "    <path d=\"M7,19H8.4L18.45,9,17,7.55,7,17.6ZM5,21V16.75L18.45,3.32a2,2,0,0,1,2.83,0l1.4,1.43a1.91,1.91,0,0,1,.58,1.4,1.91,1.91,0,0,1-.58,1.4L9.25,21ZM18.45,9,17,7.55Zm-12,3A5.31,5.31,0,0,0,4.9,8.1,5.31,5.31,0,0,0,1,6.5,5.31,5.31,0,0,0,4.9,4.9,5.31,5.31,0,0,0,6.5,1,5.31,5.31,0,0,0,8.1,4.9,5.31,5.31,0,0,0,12,6.5,5.46,5.46,0,0,0,6.5,12Z\"/>\n",
              "  </svg>\n",
              "    </button>\n",
              "    <script>\n",
              "      (() => {\n",
              "      const buttonEl =\n",
              "        document.querySelector('#id_81986126-1a9d-4d0d-ae8e-d08a8176a5e1 button.colab-df-generate');\n",
              "      buttonEl.style.display =\n",
              "        google.colab.kernel.accessAllowed ? 'block' : 'none';\n",
              "\n",
              "      buttonEl.onclick = () => {\n",
              "        google.colab.notebook.generateWithVariable('similarity_df');\n",
              "      }\n",
              "      })();\n",
              "    </script>\n",
              "  </div>\n",
              "\n",
              "    </div>\n",
              "  </div>\n"
            ],
            "application/vnd.google.colaboratory.intrinsic+json": {
              "type": "dataframe",
              "variable_name": "similarity_df",
              "summary": "{\n  \"name\": \"similarity_df\",\n  \"rows\": 10,\n  \"fields\": [\n    {\n      \"column\": \"shall\",\n      \"properties\": {\n        \"dtype\": \"number\",\n        \"std\": 0.232277343357898,\n        \"min\": 0.141183540225029,\n        \"max\": 0.9999999403953552,\n        \"num_unique_values\": 10,\n        \"samples\": [\n          0.44748106598854065,\n          0.34787410497665405,\n          0.3617507517337799\n        ],\n        \"semantic_type\": \"\",\n        \"description\": \"\"\n      }\n    },\n    {\n      \"column\": \"unto\",\n      \"properties\": {\n        \"dtype\": \"number\",\n        \"std\": 0.20516527544259322,\n        \"min\": 0.29078909754753113,\n        \"max\": 1.0,\n        \"num_unique_values\": 10,\n        \"samples\": [\n          0.5870006680488586,\n          1.0,\n          0.30383530259132385\n        ],\n        \"semantic_type\": \"\",\n        \"description\": \"\"\n      }\n    },\n    {\n      \"column\": \"lord\",\n      \"properties\": {\n        \"dtype\": \"number\",\n        \"std\": 0.2234687187310792,\n        \"min\": 0.2720211148262024,\n        \"max\": 0.9999999403953552,\n        \"num_unique_values\": 10,\n        \"samples\": [\n          0.5611246228218079,\n          0.5239512920379639,\n          0.34382858872413635\n        ],\n        \"semantic_type\": \"\",\n        \"description\": \"\"\n      }\n    },\n    {\n      \"column\": \"thou\",\n      \"properties\": {\n        \"dtype\": \"number\",\n        \"std\": 0.22450525168146546,\n        \"min\": 0.24173910915851593,\n        \"max\": 1.0,\n        \"num_unique_values\": 10,\n        \"samples\": [\n          0.6558300852775574,\n          0.43396589159965515,\n          0.5347320437431335\n        ],\n        \"semantic_type\": \"\",\n        \"description\": \"\"\n      }\n    },\n    {\n      \"column\": \"god\",\n      \"properties\": {\n        \"dtype\": \"number\",\n        \"std\": 0.22594983085394457,\n        \"min\": 0.2776350975036621,\n        \"max\": 1.0000001192092896,\n        \"num_unique_values\": 10,\n        \"samples\": [\n          0.5598965883255005,\n          0.551741361618042,\n          0.33525019884109497\n        ],\n        \"semantic_type\": \"\",\n        \"description\": \"\"\n      }\n    },\n    {\n      \"column\": \"thy\",\n      \"properties\": {\n        \"dtype\": \"number\",\n        \"std\": 0.24980520929664216,\n        \"min\": 0.14968004822731018,\n        \"max\": 0.9999999403953552,\n        \"num_unique_values\": 10,\n        \"samples\": [\n          0.7097824215888977,\n          0.30383530259132385,\n          0.9999999403953552\n        ],\n        \"semantic_type\": \"\",\n        \"description\": \"\"\n      }\n    },\n    {\n      \"column\": \"said\",\n      \"properties\": {\n        \"dtype\": \"number\",\n        \"std\": 0.2563431142873169,\n        \"min\": 0.141183540225029,\n        \"max\": 0.9999999403953552,\n        \"num_unique_values\": 10,\n        \"samples\": [\n          0.45646217465400696,\n          0.5463065505027771,\n          0.14968004822731018\n        ],\n        \"semantic_type\": \"\",\n        \"description\": \"\"\n      }\n    },\n    {\n      \"column\": \"ye\",\n      \"properties\": {\n        \"dtype\": \"number\",\n        \"std\": 0.23903407987125783,\n        \"min\": 0.1132936105132103,\n        \"max\": 1.0,\n        \"num_unique_values\": 10,\n        \"samples\": [\n          0.48530834913253784,\n          0.4217472970485687,\n          0.2797672152519226\n        ],\n        \"semantic_type\": \"\",\n        \"description\": \"\"\n      }\n    },\n    {\n      \"column\": \"thee\",\n      \"properties\": {\n        \"dtype\": \"number\",\n        \"std\": 0.1870299913559925,\n        \"min\": 0.30924710631370544,\n        \"max\": 1.0,\n        \"num_unique_values\": 10,\n        \"samples\": [\n          1.0,\n          0.5870006680488586,\n          0.7097824215888977\n        ],\n        \"semantic_type\": \"\",\n        \"description\": \"\"\n      }\n    },\n    {\n      \"column\": \"upon\",\n      \"properties\": {\n        \"dtype\": \"number\",\n        \"std\": 0.24503913675286182,\n        \"min\": 0.1132936105132103,\n        \"max\": 1.0,\n        \"num_unique_values\": 10,\n        \"samples\": [\n          0.30924710631370544,\n          0.29078909754753113,\n          0.3319929242134094\n        ],\n        \"semantic_type\": \"\",\n        \"description\": \"\"\n      }\n    }\n  ]\n}"
            }
          },
          "metadata": {},
          "execution_count": 34
        }
      ]
    },
    {
      "cell_type": "code",
      "source": [
        "# prompt: similarity_df를 heatmap\n",
        "\n",
        "# import seaborn as sns\n",
        "# import matplotlib.pyplot as plt\n",
        "\n",
        "# plt.figure(figsize=(10, 8))\n",
        "# sns.heatmap(similarity_df, annot=True, cmap='viridis', fmt=\".2f\")\n",
        "# plt.title('Word Similarity Heatmap')\n",
        "# plt.show()\n"
      ],
      "metadata": {
        "id": "sZbitSCEz-6I"
      },
      "id": "sZbitSCEz-6I",
      "execution_count": 35,
      "outputs": []
    },
    {
      "cell_type": "code",
      "source": [
        "# prompt: 100차원의 단어를 주성분분석 2차원으로 차원축소하여 시각화해줘\n",
        "\n",
        "import matplotlib.pyplot as plt\n",
        "from sklearn.decomposition import PCA\n",
        "\n",
        "# PCA를 사용하여 2차원으로 차원 축소\n",
        "pca = PCA(n_components=2)\n",
        "X_pca = pca.fit_transform(model.wv.vectors)\n",
        "\n",
        "# 시각화\n",
        "plt.figure(figsize=(10, 8))\n",
        "plt.scatter(X_pca[:, 0], X_pca[:, 1], s=5)\n",
        "\n",
        "# 단어 레이블 추가 (단어 개수가 많으면 레이블을 모두 표시하지 않을 수 있습니다)\n",
        "# ✅ Change: Get the first 1000 words from the index_to_key list\n",
        "words = list(model.wv.index_to_key)[:100]\n",
        "for i, word in enumerate(words):\n",
        "    plt.annotate(word, xy=(X_pca[i, 0], X_pca[i, 1]), fontsize=8)\n",
        "plt.title('Word Embeddings (PCA)')\n",
        "plt.xlabel('Principal Component 1')\n",
        "plt.ylabel('Principal Component 2')\n",
        "plt.show()"
      ],
      "metadata": {
        "colab": {
          "base_uri": "https://localhost:8080/",
          "height": 718
        },
        "id": "s8Gq4s3PvXQ1",
        "outputId": "56155d25-5569-4864-85ba-1ff15e1d973d"
      },
      "id": "s8Gq4s3PvXQ1",
      "execution_count": 36,
      "outputs": [
        {
          "output_type": "display_data",
          "data": {
            "text/plain": [
              "<Figure size 1000x800 with 1 Axes>"
            ],
            "image/png": "[encoded data removed]"
          },
          "metadata": {}
        }
      ]
    },
    {
      "cell_type": "code",
      "source": [
        "# prompt: 100차원의 단어를 주성분분석 3차원으로 차원축소하여 plotly 로 시각화해줘\n",
        "\n",
        "import plotly.graph_objs as go\n",
        "from sklearn.decomposition import PCA\n",
        "\n",
        "# PCA를 사용하여 3차원으로 차원 축소\n",
        "pca = PCA(n_components=3)\n",
        "X_pca = pca.fit_transform(model.wv.vectors)\n",
        "\n",
        "# Plotly를 사용한 3D 시각화\n",
        "fig = go.Figure()\n",
        "\n",
        "# ✅ Change: Get the first 1000 words from the index_to_key list\n",
        "words = list(model.wv.index_to_key)[:100]\n",
        "for i, word in enumerate(words):\n",
        "    fig.add_trace(go.Scatter3d(\n",
        "        x=[X_pca[i, 0]],\n",
        "        y=[X_pca[i, 1]],\n",
        "        z=[X_pca[i, 2]],\n",
        "        mode='markers+text',\n",
        "        text=[word],\n",
        "        textposition=\"top center\",\n",
        "        marker=dict(size=5)\n",
        "    ))\n",
        "\n",
        "fig.update_layout(title='Word Embeddings (PCA 3D)',\n",
        "                  scene=dict(xaxis_title='Principal Component 1',\n",
        "                             yaxis_title='Principal Component 2',\n",
        "                             zaxis_title='Principal Component 3'))\n",
        "\n",
        "fig.show()\n"
      ],
      "metadata": {
        "colab": {
          "base_uri": "https://localhost:8080/",
          "height": 542
        },
        "id": "ndJA5Ongyj2j",
        "outputId": "5bc3579b-7e98-4f7f-880f-a7d149229d00"
      },
      "id": "ndJA5Ongyj2j",
      "execution_count": 37,
      "outputs": [
        {
          "output_type": "display_data",
          "data": {
            "text/html": [
              "<html>\n",
              "<head><meta charset=\"utf-8\" /></head>\n",
              "<body>\n",
              "    <div>            <script src=\"https://cdnjs.cloudflare.com/ajax/libs/mathjax/2.7.5/MathJax.js?config=TeX-AMS-MML_SVG\"></script><script type=\"text/javascript\">if (window.MathJax && window.MathJax.Hub && window.MathJax.Hub.Config) {window.MathJax.Hub.Config({SVG: {font: \"STIX-Web\"}});}</script>                <script type=\"text/javascript\">window.PlotlyConfig = {MathJaxConfig: 'local'};</script>\n",
              "        <script charset=\"utf-8\" src=\"https://cdn.plot.ly/plotly-2.35.2.min.js\"></script>                <div id=\"8bfb44de-7284-4e3f-9655-30075c851d1a\" class=\"plotly-graph-div\" style=\"height:525px; width:100%;\"></div>            <script type=\"text/javascript\">                                    window.PLOTLYENV=window.PLOTLYENV || {};                                    if (document.getElementById(\"8bfb44de-7284-4e3f-9655-30075c851d1a\")) {                    Plotly.newPlot(                        \"8bfb44de-7284-4e3f-9655-30075c851d1a\",                        [{\"marker\":{\"size\":5},\"mode\":\"markers+text\",\"text\":[\"shall\"],\"textposition\":\"top center\",\"x\":[-0.5600442290306091],\"y\":[-0.4610618054866791],\"z\":[0.3174915313720703],\"type\":\"scatter3d\"},{\"marker\":{\"size\":5},\"mode\":\"markers+text\",\"text\":[\"unto\"],\"textposition\":\"top center\",\"x\":[-0.2815389037132263],\"y\":[0.6040769815444946],\"z\":[-0.023531151935458183],\"type\":\"scatter3d\"},{\"marker\":{\"size\":5},\"mode\":\"markers+text\",\"text\":[\"lord\"],\"textposition\":\"top center\",\"x\":[-0.6706454157829285],\"y\":[0.3942244052886963],\"z\":[0.1889307051897049],\"type\":\"scatter3d\"},{\"marker\":{\"size\":5},\"mode\":\"markers+text\",\"text\":[\"thou\"],\"textposition\":\"top center\",\"x\":[-0.9136278033256531],\"y\":[0.05447641760110855],\"z\":[-0.0589495524764061],\"type\":\"scatter3d\"},{\"marker\":{\"size\":5},\"mode\":\"markers+text\",\"text\":[\"god\"],\"textposition\":\"top center\",\"x\":[-0.908359706401825],\"y\":[0.5016158223152161],\"z\":[-0.10689350217580795],\"type\":\"scatter3d\"},{\"marker\":{\"size\":5},\"mode\":\"markers+text\",\"text\":[\"thy\"],\"textposition\":\"top center\",\"x\":[-0.9337531328201294],\"y\":[-0.28354722261428833],\"z\":[-0.032432906329631805],\"type\":\"scatter3d\"},{\"marker\":{\"size\":5},\"mode\":\"markers+text\",\"text\":[\"said\"],\"textposition\":\"top center\",\"x\":[-0.32173264026641846],\"y\":[1.100865364074707],\"z\":[-0.2401006817817688],\"type\":\"scatter3d\"},{\"marker\":{\"size\":5},\"mode\":\"markers+text\",\"text\":[\"ye\"],\"textposition\":\"top center\",\"x\":[-0.9168264865875244],\"y\":[0.22660739719867706],\"z\":[-0.011618120595812798],\"type\":\"scatter3d\"},{\"marker\":{\"size\":5},\"mode\":\"markers+text\",\"text\":[\"thee\"],\"textposition\":\"top center\",\"x\":[-1.003536581993103],\"y\":[0.13357879221439362],\"z\":[-0.004019366577267647],\"type\":\"scatter3d\"},{\"marker\":{\"size\":5},\"mode\":\"markers+text\",\"text\":[\"upon\"],\"textposition\":\"top center\",\"x\":[-0.2023114711046219],\"y\":[-0.7196866869926453],\"z\":[0.5703060030937195],\"type\":\"scatter3d\"},{\"marker\":{\"size\":5},\"mode\":\"markers+text\",\"text\":[\"man\"],\"textposition\":\"top center\",\"x\":[-0.7171039581298828],\"y\":[0.17557477951049805],\"z\":[-0.0884370356798172],\"type\":\"scatter3d\"},{\"marker\":{\"size\":5},\"mode\":\"markers+text\",\"text\":[\"israel\"],\"textposition\":\"top center\",\"x\":[-0.12106938660144806],\"y\":[0.7659296989440918],\"z\":[0.2642180621623993],\"type\":\"scatter3d\"},{\"marker\":{\"size\":5},\"mode\":\"markers+text\",\"text\":[\"son\"],\"textposition\":\"top center\",\"x\":[0.7458556890487671],\"y\":[1.477017879486084],\"z\":[-1.017403244972229],\"type\":\"scatter3d\"},{\"marker\":{\"size\":5},\"mode\":\"markers+text\",\"text\":[\"king\"],\"textposition\":\"top center\",\"x\":[0.29068467020988464],\"y\":[1.1758359670639038],\"z\":[0.34114575386047363],\"type\":\"scatter3d\"},{\"marker\":{\"size\":5},\"mode\":\"markers+text\",\"text\":[\"hath\"],\"textposition\":\"top center\",\"x\":[-0.9163631200790405],\"y\":[0.13411179184913635],\"z\":[-0.08943367749452591],\"type\":\"scatter3d\"},{\"marker\":{\"size\":5},\"mode\":\"markers+text\",\"text\":[\"came\"],\"textposition\":\"top center\",\"x\":[0.6130208969116211],\"y\":[1.0213899612426758],\"z\":[0.545464277267456],\"type\":\"scatter3d\"},{\"marker\":{\"size\":5},\"mode\":\"markers+text\",\"text\":[\"people\"],\"textposition\":\"top center\",\"x\":[-0.3035193383693695],\"y\":[0.5107703804969788],\"z\":[0.4200599491596222],\"type\":\"scatter3d\"},{\"marker\":{\"size\":5},\"mode\":\"markers+text\",\"text\":[\"come\"],\"textposition\":\"top center\",\"x\":[-0.3927527070045471],\"y\":[0.31097421050071716],\"z\":[0.47829481959342957],\"type\":\"scatter3d\"},{\"marker\":{\"size\":5},\"mode\":\"markers+text\",\"text\":[\"house\"],\"textposition\":\"top center\",\"x\":[0.1725643128156662],\"y\":[0.15765643119812012],\"z\":[-0.14900760352611542],\"type\":\"scatter3d\"},{\"marker\":{\"size\":5},\"mode\":\"markers+text\",\"text\":[\"one\"],\"textposition\":\"top center\",\"x\":[0.06842795014381409],\"y\":[-0.1804591715335846],\"z\":[-0.33191221952438354],\"type\":\"scatter3d\"},{\"marker\":{\"size\":5},\"mode\":\"markers+text\",\"text\":[\"also\"],\"textposition\":\"top center\",\"x\":[-0.19703532755374908],\"y\":[0.11203590035438538],\"z\":[-0.18259583413600922],\"type\":\"scatter3d\"},{\"marker\":{\"size\":5},\"mode\":\"markers+text\",\"text\":[\"day\"],\"textposition\":\"top center\",\"x\":[-0.18589027225971222],\"y\":[0.2781324088573456],\"z\":[0.25512439012527466],\"type\":\"scatter3d\"},{\"marker\":{\"size\":5},\"mode\":\"markers+text\",\"text\":[\"children\"],\"textposition\":\"top center\",\"x\":[0.37842491269111633],\"y\":[0.6915324330329895],\"z\":[-0.07574976980686188],\"type\":\"scatter3d\"},{\"marker\":{\"size\":5},\"mode\":\"markers+text\",\"text\":[\"land\"],\"textposition\":\"top center\",\"x\":[-0.06968826800584793],\"y\":[0.05275007337331772],\"z\":[0.9753310084342957],\"type\":\"scatter3d\"},{\"marker\":{\"size\":5},\"mode\":\"markers+text\",\"text\":[\"men\"],\"textposition\":\"top center\",\"x\":[-0.035576097667217255],\"y\":[0.4785464107990265],\"z\":[0.15492478013038635],\"type\":\"scatter3d\"},{\"marker\":{\"size\":5},\"mode\":\"markers+text\",\"text\":[\"let\"],\"textposition\":\"top center\",\"x\":[-0.8588833808898926],\"y\":[-0.04020446538925171],\"z\":[0.18350130319595337],\"type\":\"scatter3d\"},{\"marker\":{\"size\":5},\"mode\":\"markers+text\",\"text\":[\"shalt\"],\"textposition\":\"top center\",\"x\":[-0.7491097450256348],\"y\":[-0.5528644323348999],\"z\":[-0.2558746039867401],\"type\":\"scatter3d\"},{\"marker\":{\"size\":5},\"mode\":\"markers+text\",\"text\":[\"go\"],\"textposition\":\"top center\",\"x\":[-0.2678889036178589],\"y\":[0.35157644748687744],\"z\":[0.5575911998748779],\"type\":\"scatter3d\"},{\"marker\":{\"size\":5},\"mode\":\"markers+text\",\"text\":[\"hand\"],\"textposition\":\"top center\",\"x\":[-0.2656835615634918],\"y\":[0.1667722761631012],\"z\":[0.5278496146202087],\"type\":\"scatter3d\"},{\"marker\":{\"size\":5},\"mode\":\"markers+text\",\"text\":[\"us\"],\"textposition\":\"top center\",\"x\":[-0.8708561062812805],\"y\":[0.43209123611450195],\"z\":[0.2647378146648407],\"type\":\"scatter3d\"},{\"marker\":{\"size\":5},\"mode\":\"markers+text\",\"text\":[\"went\"],\"textposition\":\"top center\",\"x\":[0.9179690480232239],\"y\":[0.7197628617286682],\"z\":[0.7157859802246094],\"type\":\"scatter3d\"},{\"marker\":{\"size\":5},\"mode\":\"markers+text\",\"text\":[\"made\"],\"textposition\":\"top center\",\"x\":[0.07730026543140411],\"y\":[-0.18729612231254578],\"z\":[-0.18357406556606293],\"type\":\"scatter3d\"},{\"marker\":{\"size\":5},\"mode\":\"markers+text\",\"text\":[\"saying\"],\"textposition\":\"top center\",\"x\":[-0.23627939820289612],\"y\":[1.2345391511917114],\"z\":[0.009693127125501633],\"type\":\"scatter3d\"},{\"marker\":{\"size\":5},\"mode\":\"markers+text\",\"text\":[\"even\"],\"textposition\":\"top center\",\"x\":[-0.0442473404109478],\"y\":[-0.11375080794095993],\"z\":[0.18997441232204437],\"type\":\"scatter3d\"},{\"marker\":{\"size\":5},\"mode\":\"markers+text\",\"text\":[\"behold\"],\"textposition\":\"top center\",\"x\":[-0.323106586933136],\"y\":[0.22913755476474762],\"z\":[0.4144802689552307],\"type\":\"scatter3d\"},{\"marker\":{\"size\":5},\"mode\":\"markers+text\",\"text\":[\"saith\"],\"textposition\":\"top center\",\"x\":[-0.6448569893836975],\"y\":[0.5282876491546631],\"z\":[0.15643303096294403],\"type\":\"scatter3d\"},{\"marker\":{\"size\":5},\"mode\":\"markers+text\",\"text\":[\"therefore\"],\"textposition\":\"top center\",\"x\":[-0.8892139792442322],\"y\":[0.36737802624702454],\"z\":[0.13628241419792175],\"type\":\"scatter3d\"},{\"marker\":{\"size\":5},\"mode\":\"markers+text\",\"text\":[\"every\"],\"textposition\":\"top center\",\"x\":[-0.16648244857788086],\"y\":[-0.43963998556137085],\"z\":[-0.03029501996934414],\"type\":\"scatter3d\"},{\"marker\":{\"size\":5},\"mode\":\"markers+text\",\"text\":[\"sons\"],\"textposition\":\"top center\",\"x\":[1.0124218463897705],\"y\":[0.6985796689987183],\"z\":[-1.2058250904083252],\"type\":\"scatter3d\"},{\"marker\":{\"size\":5},\"mode\":\"markers+text\",\"text\":[\"things\"],\"textposition\":\"top center\",\"x\":[-0.8286035656929016],\"y\":[0.04966697841882706],\"z\":[-0.7002532482147217],\"type\":\"scatter3d\"},{\"marker\":{\"size\":5},\"mode\":\"markers+text\",\"text\":[\"say\"],\"textposition\":\"top center\",\"x\":[-0.8538578748703003],\"y\":[0.5358864665031433],\"z\":[-0.17679545283317566],\"type\":\"scatter3d\"},{\"marker\":{\"size\":5},\"mode\":\"markers+text\",\"text\":[\"make\"],\"textposition\":\"top center\",\"x\":[-0.5658522248268127],\"y\":[-0.5957286953926086],\"z\":[-0.0011127684265375137],\"type\":\"scatter3d\"},{\"marker\":{\"size\":5},\"mode\":\"markers+text\",\"text\":[\"may\"],\"textposition\":\"top center\",\"x\":[-1.0646085739135742],\"y\":[-0.27074292302131653],\"z\":[-0.12058781832456589],\"type\":\"scatter3d\"},{\"marker\":{\"size\":5},\"mode\":\"markers+text\",\"text\":[\"david\"],\"textposition\":\"top center\",\"x\":[0.2806677222251892],\"y\":[1.134739637374878],\"z\":[-0.10279455035924911],\"type\":\"scatter3d\"},{\"marker\":{\"size\":5},\"mode\":\"markers+text\",\"text\":[\"hast\"],\"textposition\":\"top center\",\"x\":[-0.8731593489646912],\"y\":[0.16867560148239136],\"z\":[-0.12527300417423248],\"type\":\"scatter3d\"},{\"marker\":{\"size\":5},\"mode\":\"markers+text\",\"text\":[\"earth\"],\"textposition\":\"top center\",\"x\":[-0.6530834436416626],\"y\":[-0.6958579421043396],\"z\":[0.6840820908546448],\"type\":\"scatter3d\"},{\"marker\":{\"size\":5},\"mode\":\"markers+text\",\"text\":[\"jesus\"],\"textposition\":\"top center\",\"x\":[-0.7284799218177795],\"y\":[1.0684854984283447],\"z\":[-0.561670184135437],\"type\":\"scatter3d\"},{\"marker\":{\"size\":5},\"mode\":\"markers+text\",\"text\":[\"father\"],\"textposition\":\"top center\",\"x\":[-0.3712894320487976],\"y\":[1.0990861654281616],\"z\":[-0.7966664433479309],\"type\":\"scatter3d\"},{\"marker\":{\"size\":5},\"mode\":\"markers+text\",\"text\":[\"put\"],\"textposition\":\"top center\",\"x\":[-0.14307978749275208],\"y\":[-0.23051972687244415],\"z\":[-0.13236930966377258],\"type\":\"scatter3d\"},{\"marker\":{\"size\":5},\"mode\":\"markers+text\",\"text\":[\"name\"],\"textposition\":\"top center\",\"x\":[-0.3858262002468109],\"y\":[0.6669059991836548],\"z\":[-0.26824843883514404],\"type\":\"scatter3d\"},{\"marker\":{\"size\":5},\"mode\":\"markers+text\",\"text\":[\"among\"],\"textposition\":\"top center\",\"x\":[-0.24063833057880402],\"y\":[0.25893962383270264],\"z\":[0.19236071407794952],\"type\":\"scatter3d\"},{\"marker\":{\"size\":5},\"mode\":\"markers+text\",\"text\":[\"away\"],\"textposition\":\"top center\",\"x\":[-0.379712849855423],\"y\":[0.01795453578233719],\"z\":[0.6251420974731445],\"type\":\"scatter3d\"},{\"marker\":{\"size\":5},\"mode\":\"markers+text\",\"text\":[\"great\"],\"textposition\":\"top center\",\"x\":[-0.3123800456523895],\"y\":[-0.10705698281526566],\"z\":[0.7476637959480286],\"type\":\"scatter3d\"},{\"marker\":{\"size\":5},\"mode\":\"markers+text\",\"text\":[\"thine\"],\"textposition\":\"top center\",\"x\":[-1.0612226724624634],\"y\":[-0.29349151253700256],\"z\":[0.1251227706670761],\"type\":\"scatter3d\"},{\"marker\":{\"size\":5},\"mode\":\"markers+text\",\"text\":[\"pass\"],\"textposition\":\"top center\",\"x\":[0.1115824431180954],\"y\":[0.5196629762649536],\"z\":[0.540692150592804],\"type\":\"scatter3d\"},{\"marker\":{\"size\":5},\"mode\":\"markers+text\",\"text\":[\"moses\"],\"textposition\":\"top center\",\"x\":[0.22372084856033325],\"y\":[0.9190173149108887],\"z\":[-0.16112394630908966],\"type\":\"scatter3d\"},{\"marker\":{\"size\":5},\"mode\":\"markers+text\",\"text\":[\"days\"],\"textposition\":\"top center\",\"x\":[-0.0012197215110063553],\"y\":[0.3787306249141693],\"z\":[-0.2504943609237671],\"type\":\"scatter3d\"},{\"marker\":{\"size\":5},\"mode\":\"markers+text\",\"text\":[\"take\"],\"textposition\":\"top center\",\"x\":[-0.2871159613132477],\"y\":[-0.24309343099594116],\"z\":[-0.2771967351436615],\"type\":\"scatter3d\"},{\"marker\":{\"size\":5},\"mode\":\"markers+text\",\"text\":[\"forth\"],\"textposition\":\"top center\",\"x\":[-0.23919859528541565],\"y\":[-0.32995039224624634],\"z\":[0.883792519569397],\"type\":\"scatter3d\"},{\"marker\":{\"size\":5},\"mode\":\"markers+text\",\"text\":[\"brought\"],\"textposition\":\"top center\",\"x\":[0.4431192874908447],\"y\":[0.13777650892734528],\"z\":[0.30272457003593445],\"type\":\"scatter3d\"},{\"marker\":{\"size\":5},\"mode\":\"markers+text\",\"text\":[\"city\"],\"textposition\":\"top center\",\"x\":[0.2887994647026062],\"y\":[0.32685717940330505],\"z\":[0.950876772403717],\"type\":\"scatter3d\"},{\"marker\":{\"size\":5},\"mode\":\"markers+text\",\"text\":[\"give\"],\"textposition\":\"top center\",\"x\":[-0.606547474861145],\"y\":[-0.08500172942876816],\"z\":[-0.3884603679180145],\"type\":\"scatter3d\"},{\"marker\":{\"size\":5},\"mode\":\"markers+text\",\"text\":[\"thereof\"],\"textposition\":\"top center\",\"x\":[0.40967291593551636],\"y\":[-1.1824404001235962],\"z\":[0.4578479826450348],\"type\":\"scatter3d\"},{\"marker\":{\"size\":5},\"mode\":\"markers+text\",\"text\":[\"heart\"],\"textposition\":\"top center\",\"x\":[-1.1341540813446045],\"y\":[-0.05484143644571304],\"z\":[-0.16178202629089355],\"type\":\"scatter3d\"},{\"marker\":{\"size\":5},\"mode\":\"markers+text\",\"text\":[\"neither\"],\"textposition\":\"top center\",\"x\":[-0.9040404558181763],\"y\":[-0.27737289667129517],\"z\":[-0.13039185106754303],\"type\":\"scatter3d\"},{\"marker\":{\"size\":5},\"mode\":\"markers+text\",\"text\":[\"two\"],\"textposition\":\"top center\",\"x\":[1.1727821826934814],\"y\":[-0.3761962354183197],\"z\":[-0.4526911675930023],\"type\":\"scatter3d\"},{\"marker\":{\"size\":5},\"mode\":\"markers+text\",\"text\":[\"judah\"],\"textposition\":\"top center\",\"x\":[0.6099400520324707],\"y\":[0.9431840181350708],\"z\":[0.3658348619937897],\"type\":\"scatter3d\"},{\"marker\":{\"size\":5},\"mode\":\"markers+text\",\"text\":[\"know\"],\"textposition\":\"top center\",\"x\":[-1.1246521472930908],\"y\":[0.3306547701358795],\"z\":[-0.05460958927869797],\"type\":\"scatter3d\"},{\"marker\":{\"size\":5},\"mode\":\"markers+text\",\"text\":[\"took\"],\"textposition\":\"top center\",\"x\":[0.9338809251785278],\"y\":[0.3186325430870056],\"z\":[0.07513989508152008],\"type\":\"scatter3d\"},{\"marker\":{\"size\":5},\"mode\":\"markers+text\",\"text\":[\"thus\"],\"textposition\":\"top center\",\"x\":[-0.1961878091096878],\"y\":[0.6873825788497925],\"z\":[0.1440071016550064],\"type\":\"scatter3d\"},{\"marker\":{\"size\":5},\"mode\":\"markers+text\",\"text\":[\"according\"],\"textposition\":\"top center\",\"x\":[-0.03262066841125488],\"y\":[0.20809628069400787],\"z\":[-0.8690671324729919],\"type\":\"scatter3d\"},{\"marker\":{\"size\":5},\"mode\":\"markers+text\",\"text\":[\"jerusalem\"],\"textposition\":\"top center\",\"x\":[0.3900463879108429],\"y\":[0.5478949546813965],\"z\":[0.5762505531311035],\"type\":\"scatter3d\"},{\"marker\":{\"size\":5},\"mode\":\"markers+text\",\"text\":[\"good\"],\"textposition\":\"top center\",\"x\":[-1.2042049169540405],\"y\":[0.035420775413513184],\"z\":[-0.3927738070487976],\"type\":\"scatter3d\"},{\"marker\":{\"size\":5},\"mode\":\"markers+text\",\"text\":[\"bring\"],\"textposition\":\"top center\",\"x\":[-0.39193761348724365],\"y\":[-0.2670421302318573],\"z\":[0.036952901631593704],\"type\":\"scatter3d\"},{\"marker\":{\"size\":5},\"mode\":\"markers+text\",\"text\":[\"word\"],\"textposition\":\"top center\",\"x\":[-0.4841838479042053],\"y\":[1.0431591272354126],\"z\":[-0.14301776885986328],\"type\":\"scatter3d\"},{\"marker\":{\"size\":5},\"mode\":\"markers+text\",\"text\":[\"yet\"],\"textposition\":\"top center\",\"x\":[-0.7871967554092407],\"y\":[0.329449862241745],\"z\":[0.03497187793254852],\"type\":\"scatter3d\"},{\"marker\":{\"size\":5},\"mode\":\"markers+text\",\"text\":[\"set\"],\"textposition\":\"top center\",\"x\":[0.043856602162122726],\"y\":[-0.29013553261756897],\"z\":[0.29255566000938416],\"type\":\"scatter3d\"},{\"marker\":{\"size\":5},\"mode\":\"markers+text\",\"text\":[\"offering\"],\"textposition\":\"top center\",\"x\":[0.570701539516449],\"y\":[-0.9438732266426086],\"z\":[-1.490361213684082],\"type\":\"scatter3d\"},{\"marker\":{\"size\":5},\"mode\":\"markers+text\",\"text\":[\"sent\"],\"textposition\":\"top center\",\"x\":[0.2581636905670166],\"y\":[1.3220340013504028],\"z\":[0.09017661958932877],\"type\":\"scatter3d\"},{\"marker\":{\"size\":5},\"mode\":\"markers+text\",\"text\":[\"way\"],\"textposition\":\"top center\",\"x\":[-0.5974590182304382],\"y\":[0.09268925338983536],\"z\":[0.8650676608085632],\"type\":\"scatter3d\"},{\"marker\":{\"size\":5},\"mode\":\"markers+text\",\"text\":[\"place\"],\"textposition\":\"top center\",\"x\":[-0.15007516741752625],\"y\":[-0.3715149760246277],\"z\":[0.44531357288360596],\"type\":\"scatter3d\"},{\"marker\":{\"size\":5},\"mode\":\"markers+text\",\"text\":[\"like\"],\"textposition\":\"top center\",\"x\":[-0.2700519561767578],\"y\":[-0.8367624282836914],\"z\":[0.5008707642555237],\"type\":\"scatter3d\"},{\"marker\":{\"size\":5},\"mode\":\"markers+text\",\"text\":[\"ofthe\"],\"textposition\":\"top center\",\"x\":[0.2906491756439209],\"y\":[-0.2939859628677368],\"z\":[0.2100362777709961],\"type\":\"scatter3d\"},{\"marker\":{\"size\":5},\"mode\":\"markers+text\",\"text\":[\"heard\"],\"textposition\":\"top center\",\"x\":[-0.3386039137840271],\"y\":[0.9977917671203613],\"z\":[0.40518537163734436],\"type\":\"scatter3d\"},{\"marker\":{\"size\":5},\"mode\":\"markers+text\",\"text\":[\"eat\"],\"textposition\":\"top center\",\"x\":[-0.3697485625743866],\"y\":[-0.5201086401939392],\"z\":[-0.3768286108970642],\"type\":\"scatter3d\"},{\"marker\":{\"size\":5},\"mode\":\"markers+text\",\"text\":[\"fathers\"],\"textposition\":\"top center\",\"x\":[-0.0313011035323143],\"y\":[0.9159696698188782],\"z\":[-0.3776801526546478],\"type\":\"scatter3d\"},{\"marker\":{\"size\":5},\"mode\":\"markers+text\",\"text\":[\"time\"],\"textposition\":\"top center\",\"x\":[-0.36150598526000977],\"y\":[0.4373433291912079],\"z\":[0.23519006371498108],\"type\":\"scatter3d\"},{\"marker\":{\"size\":5},\"mode\":\"markers+text\",\"text\":[\"mine\"],\"textposition\":\"top center\",\"x\":[-0.8978646397590637],\"y\":[-0.04235154390335083],\"z\":[0.32056739926338196],\"type\":\"scatter3d\"},{\"marker\":{\"size\":5},\"mode\":\"markers+text\",\"text\":[\"spake\"],\"textposition\":\"top center\",\"x\":[-0.011041050776839256],\"y\":[1.3313274383544922],\"z\":[-0.020136525854468346],\"type\":\"scatter3d\"},{\"marker\":{\"size\":5},\"mode\":\"markers+text\",\"text\":[\"called\"],\"textposition\":\"top center\",\"x\":[0.13867820799350739],\"y\":[0.9801925420761108],\"z\":[-0.1768600344657898],\"type\":\"scatter3d\"},{\"marker\":{\"size\":5},\"mode\":\"markers+text\",\"text\":[\"evil\"],\"textposition\":\"top center\",\"x\":[-1.187103509902954],\"y\":[0.24496494233608246],\"z\":[0.012677296996116638],\"type\":\"scatter3d\"},{\"marker\":{\"size\":5},\"mode\":\"markers+text\",\"text\":[\"see\"],\"textposition\":\"top center\",\"x\":[-0.8510416150093079],\"y\":[0.26358717679977417],\"z\":[0.3524073660373688],\"type\":\"scatter3d\"},{\"marker\":{\"size\":5},\"mode\":\"markers+text\",\"text\":[\"holy\"],\"textposition\":\"top center\",\"x\":[-0.47373855113983154],\"y\":[-0.4610968828201294],\"z\":[-0.5969388484954834],\"type\":\"scatter3d\"},{\"marker\":{\"size\":5},\"mode\":\"markers+text\",\"text\":[\"kings\"],\"textposition\":\"top center\",\"x\":[0.4042837619781494],\"y\":[0.6417238712310791],\"z\":[0.3473506271839142],\"type\":\"scatter3d\"},{\"marker\":{\"size\":5},\"mode\":\"markers+text\",\"text\":[\"egypt\"],\"textposition\":\"top center\",\"x\":[0.0036975927650928497],\"y\":[0.4873877763748169],\"z\":[1.0603916645050049],\"type\":\"scatter3d\"},{\"marker\":{\"size\":5},\"mode\":\"markers+text\",\"text\":[\"saw\"],\"textposition\":\"top center\",\"x\":[0.18655501306056976],\"y\":[0.7673226594924927],\"z\":[0.6546671986579895],\"type\":\"scatter3d\"},{\"marker\":{\"size\":5},\"mode\":\"markers+text\",\"text\":[\"heaven\"],\"textposition\":\"top center\",\"x\":[-0.4663703441619873],\"y\":[-0.32798874378204346],\"z\":[0.438731849193573],\"type\":\"scatter3d\"},{\"marker\":{\"size\":5},\"mode\":\"markers+text\",\"text\":[\"words\"],\"textposition\":\"top center\",\"x\":[-0.8026207685470581],\"y\":[0.9069439172744751],\"z\":[-0.2472844123840332],\"type\":\"scatter3d\"},{\"marker\":{\"size\":5},\"mode\":\"markers+text\",\"text\":[\"hear\"],\"textposition\":\"top center\",\"x\":[-1.1131154298782349],\"y\":[0.6396209597587585],\"z\":[0.07954075187444687],\"type\":\"scatter3d\"},{\"marker\":{\"size\":5},\"mode\":\"markers+text\",\"text\":[\"done\"],\"textposition\":\"top center\",\"x\":[-0.7560135126113892],\"y\":[0.6213015913963318],\"z\":[-0.207428976893425],\"type\":\"scatter3d\"}],                        {\"template\":{\"data\":{\"histogram2dcontour\":[{\"type\":\"histogram2dcontour\",\"colorbar\":{\"outlinewidth\":0,\"ticks\":\"\"},\"colorscale\":[[0.0,\"#0d0887\"],[0.1111111111111111,\"#46039f\"],[0.2222222222222222,\"#7201a8\"],[0.3333333333333333,\"#9c179e\"],[0.4444444444444444,\"#bd3786\"],[0.5555555555555556,\"#d8576b\"],[0.6666666666666666,\"#ed7953\"],[0.7777777777777778,\"#fb9f3a\"],[0.8888888888888888,\"#fdca26\"],[1.0,\"#f0f921\"]]}],\"choropleth\":[{\"type\":\"choropleth\",\"colorbar\":{\"outlinewidth\":0,\"ticks\":\"\"}}],\"histogram2d\":[{\"type\":\"histogram2d\",\"colorbar\":{\"outlinewidth\":0,\"ticks\":\"\"},\"colorscale\":[[0.0,\"#0d0887\"],[0.1111111111111111,\"#46039f\"],[0.2222222222222222,\"#7201a8\"],[0.3333333333333333,\"#9c179e\"],[0.4444444444444444,\"#bd3786\"],[0.5555555555555556,\"#d8576b\"],[0.6666666666666666,\"#ed7953\"],[0.7777777777777778,\"#fb9f3a\"],[0.8888888888888888,\"#fdca26\"],[1.0,\"#f0f921\"]]}],\"heatmap\":[{\"type\":\"heatmap\",\"colorbar\":{\"outlinewidth\":0,\"ticks\":\"\"},\"colorscale\":[[0.0,\"#0d0887\"],[0.1111111111111111,\"#46039f\"],[0.2222222222222222,\"#7201a8\"],[0.3333333333333333,\"#9c179e\"],[0.4444444444444444,\"#bd3786\"],[0.5555555555555556,\"#d8576b\"],[0.6666666666666666,\"#ed7953\"],[0.7777777777777778,\"#fb9f3a\"],[0.8888888888888888,\"#fdca26\"],[1.0,\"#f0f921\"]]}],\"heatmapgl\":[{\"type\":\"heatmapgl\",\"colorbar\":{\"outlinewidth\":0,\"ticks\":\"\"},\"colorscale\":[[0.0,\"#0d0887\"],[0.1111111111111111,\"#46039f\"],[0.2222222222222222,\"#7201a8\"],[0.3333333333333333,\"#9c179e\"],[0.4444444444444444,\"#bd3786\"],[0.5555555555555556,\"#d8576b\"],[0.6666666666666666,\"#ed7953\"],[0.7777777777777778,\"#fb9f3a\"],[0.8888888888888888,\"#fdca26\"],[1.0,\"#f0f921\"]]}],\"contourcarpet\":[{\"type\":\"contourcarpet\",\"colorbar\":{\"outlinewidth\":0,\"ticks\":\"\"}}],\"contour\":[{\"type\":\"contour\",\"colorbar\":{\"outlinewidth\":0,\"ticks\":\"\"},\"colorscale\":[[0.0,\"#0d0887\"],[0.1111111111111111,\"#46039f\"],[0.2222222222222222,\"#7201a8\"],[0.3333333333333333,\"#9c179e\"],[0.4444444444444444,\"#bd3786\"],[0.5555555555555556,\"#d8576b\"],[0.6666666666666666,\"#ed7953\"],[0.7777777777777778,\"#fb9f3a\"],[0.8888888888888888,\"#fdca26\"],[1.0,\"#f0f921\"]]}],\"surface\":[{\"type\":\"surface\",\"colorbar\":{\"outlinewidth\":0,\"ticks\":\"\"},\"colorscale\":[[0.0,\"#0d0887\"],[0.1111111111111111,\"#46039f\"],[0.2222222222222222,\"#7201a8\"],[0.3333333333333333,\"#9c179e\"],[0.4444444444444444,\"#bd3786\"],[0.5555555555555556,\"#d8576b\"],[0.6666666666666666,\"#ed7953\"],[0.7777777777777778,\"#fb9f3a\"],[0.8888888888888888,\"#fdca26\"],[1.0,\"#f0f921\"]]}],\"mesh3d\":[{\"type\":\"mesh3d\",\"colorbar\":{\"outlinewidth\":0,\"ticks\":\"\"}}],\"scatter\":[{\"fillpattern\":{\"fillmode\":\"overlay\",\"size\":10,\"solidity\":0.2},\"type\":\"scatter\"}],\"parcoords\":[{\"type\":\"parcoords\",\"line\":{\"colorbar\":{\"outlinewidth\":0,\"ticks\":\"\"}}}],\"scatterpolargl\":[{\"type\":\"scatterpolargl\",\"marker\":{\"colorbar\":{\"outlinewidth\":0,\"ticks\":\"\"}}}],\"bar\":[{\"error_x\":{\"color\":\"#2a3f5f\"},\"error_y\":{\"color\":\"#2a3f5f\"},\"marker\":{\"line\":{\"color\":\"#E5ECF6\",\"width\":0.5},\"pattern\":{\"fillmode\":\"overlay\",\"size\":10,\"solidity\":0.2}},\"type\":\"bar\"}],\"scattergeo\":[{\"type\":\"scattergeo\",\"marker\":{\"colorbar\":{\"outlinewidth\":0,\"ticks\":\"\"}}}],\"scatterpolar\":[{\"type\":\"scatterpolar\",\"marker\":{\"colorbar\":{\"outlinewidth\":0,\"ticks\":\"\"}}}],\"histogram\":[{\"marker\":{\"pattern\":{\"fillmode\":\"overlay\",\"size\":10,\"solidity\":0.2}},\"type\":\"histogram\"}],\"scattergl\":[{\"type\":\"scattergl\",\"marker\":{\"colorbar\":{\"outlinewidth\":0,\"ticks\":\"\"}}}],\"scatter3d\":[{\"type\":\"scatter3d\",\"line\":{\"colorbar\":{\"outlinewidth\":0,\"ticks\":\"\"}},\"marker\":{\"colorbar\":{\"outlinewidth\":0,\"ticks\":\"\"}}}],\"scattermapbox\":[{\"type\":\"scattermapbox\",\"marker\":{\"colorbar\":{\"outlinewidth\":0,\"ticks\":\"\"}}}],\"scatterternary\":[{\"type\":\"scatterternary\",\"marker\":{\"colorbar\":{\"outlinewidth\":0,\"ticks\":\"\"}}}],\"scattercarpet\":[{\"type\":\"scattercarpet\",\"marker\":{\"colorbar\":{\"outlinewidth\":0,\"ticks\":\"\"}}}],\"carpet\":[{\"aaxis\":{\"endlinecolor\":\"#2a3f5f\",\"gridcolor\":\"white\",\"linecolor\":\"white\",\"minorgridcolor\":\"white\",\"startlinecolor\":\"#2a3f5f\"},\"baxis\":{\"endlinecolor\":\"#2a3f5f\",\"gridcolor\":\"white\",\"linecolor\":\"white\",\"minorgridcolor\":\"white\",\"startlinecolor\":\"#2a3f5f\"},\"type\":\"carpet\"}],\"table\":[{\"cells\":{\"fill\":{\"color\":\"#EBF0F8\"},\"line\":{\"color\":\"white\"}},\"header\":{\"fill\":{\"color\":\"#C8D4E3\"},\"line\":{\"color\":\"white\"}},\"type\":\"table\"}],\"barpolar\":[{\"marker\":{\"line\":{\"color\":\"#E5ECF6\",\"width\":0.5},\"pattern\":{\"fillmode\":\"overlay\",\"size\":10,\"solidity\":0.2}},\"type\":\"barpolar\"}],\"pie\":[{\"automargin\":true,\"type\":\"pie\"}]},\"layout\":{\"autotypenumbers\":\"strict\",\"colorway\":[\"#636efa\",\"#EF553B\",\"#00cc96\",\"#ab63fa\",\"#FFA15A\",\"#19d3f3\",\"#FF6692\",\"#B6E880\",\"#FF97FF\",\"#FECB52\"],\"font\":{\"color\":\"#2a3f5f\"},\"hovermode\":\"closest\",\"hoverlabel\":{\"align\":\"left\"},\"paper_bgcolor\":\"white\",\"plot_bgcolor\":\"#E5ECF6\",\"polar\":{\"bgcolor\":\"#E5ECF6\",\"angularaxis\":{\"gridcolor\":\"white\",\"linecolor\":\"white\",\"ticks\":\"\"},\"radialaxis\":{\"gridcolor\":\"white\",\"linecolor\":\"white\",\"ticks\":\"\"}},\"ternary\":{\"bgcolor\":\"#E5ECF6\",\"aaxis\":{\"gridcolor\":\"white\",\"linecolor\":\"white\",\"ticks\":\"\"},\"baxis\":{\"gridcolor\":\"white\",\"linecolor\":\"white\",\"ticks\":\"\"},\"caxis\":{\"gridcolor\":\"white\",\"linecolor\":\"white\",\"ticks\":\"\"}},\"coloraxis\":{\"colorbar\":{\"outlinewidth\":0,\"ticks\":\"\"}},\"colorscale\":{\"sequential\":[[0.0,\"#0d0887\"],[0.1111111111111111,\"#46039f\"],[0.2222222222222222,\"#7201a8\"],[0.3333333333333333,\"#9c179e\"],[0.4444444444444444,\"#bd3786\"],[0.5555555555555556,\"#d8576b\"],[0.6666666666666666,\"#ed7953\"],[0.7777777777777778,\"#fb9f3a\"],[0.8888888888888888,\"#fdca26\"],[1.0,\"#f0f921\"]],\"sequentialminus\":[[0.0,\"#0d0887\"],[0.1111111111111111,\"#46039f\"],[0.2222222222222222,\"#7201a8\"],[0.3333333333333333,\"#9c179e\"],[0.4444444444444444,\"#bd3786\"],[0.5555555555555556,\"#d8576b\"],[0.6666666666666666,\"#ed7953\"],[0.7777777777777778,\"#fb9f3a\"],[0.8888888888888888,\"#fdca26\"],[1.0,\"#f0f921\"]],\"diverging\":[[0,\"#8e0152\"],[0.1,\"#c51b7d\"],[0.2,\"#de77ae\"],[0.3,\"#f1b6da\"],[0.4,\"#fde0ef\"],[0.5,\"#f7f7f7\"],[0.6,\"#e6f5d0\"],[0.7,\"#b8e186\"],[0.8,\"#7fbc41\"],[0.9,\"#4d9221\"],[1,\"#276419\"]]},\"xaxis\":{\"gridcolor\":\"white\",\"linecolor\":\"white\",\"ticks\":\"\",\"title\":{\"standoff\":15},\"zerolinecolor\":\"white\",\"automargin\":true,\"zerolinewidth\":2},\"yaxis\":{\"gridcolor\":\"white\",\"linecolor\":\"white\",\"ticks\":\"\",\"title\":{\"standoff\":15},\"zerolinecolor\":\"white\",\"automargin\":true,\"zerolinewidth\":2},\"scene\":{\"xaxis\":{\"backgroundcolor\":\"#E5ECF6\",\"gridcolor\":\"white\",\"linecolor\":\"white\",\"showbackground\":true,\"ticks\":\"\",\"zerolinecolor\":\"white\",\"gridwidth\":2},\"yaxis\":{\"backgroundcolor\":\"#E5ECF6\",\"gridcolor\":\"white\",\"linecolor\":\"white\",\"showbackground\":true,\"ticks\":\"\",\"zerolinecolor\":\"white\",\"gridwidth\":2},\"zaxis\":{\"backgroundcolor\":\"#E5ECF6\",\"gridcolor\":\"white\",\"linecolor\":\"white\",\"showbackground\":true,\"ticks\":\"\",\"zerolinecolor\":\"white\",\"gridwidth\":2}},\"shapedefaults\":{\"line\":{\"color\":\"#2a3f5f\"}},\"annotationdefaults\":{\"arrowcolor\":\"#2a3f5f\",\"arrowhead\":0,\"arrowwidth\":1},\"geo\":{\"bgcolor\":\"white\",\"landcolor\":\"#E5ECF6\",\"subunitcolor\":\"white\",\"showland\":true,\"showlakes\":true,\"lakecolor\":\"white\"},\"title\":{\"x\":0.05},\"mapbox\":{\"style\":\"light\"}}},\"title\":{\"text\":\"Word Embeddings (PCA 3D)\"},\"scene\":{\"xaxis\":{\"title\":{\"text\":\"Principal Component 1\"}},\"yaxis\":{\"title\":{\"text\":\"Principal Component 2\"}},\"zaxis\":{\"title\":{\"text\":\"Principal Component 3\"}}}},                        {\"responsive\": true}                    ).then(function(){\n",
              "                            \n",
              "var gd = document.getElementById('8bfb44de-7284-4e3f-9655-30075c851d1a');\n",
              "var x = new MutationObserver(function (mutations, observer) {{\n",
              "        var display = window.getComputedStyle(gd).display;\n",
              "        if (!display || display === 'none') {{\n",
              "            console.log([gd, 'removed!']);\n",
              "            Plotly.purge(gd);\n",
              "            observer.disconnect();\n",
              "        }}\n",
              "}});\n",
              "\n",
              "// Listen for the removal of the full notebook cells\n",
              "var notebookContainer = gd.closest('#notebook-container');\n",
              "if (notebookContainer) {{\n",
              "    x.observe(notebookContainer, {childList: true});\n",
              "}}\n",
              "\n",
              "// Listen for the clearing of the current output cell\n",
              "var outputEl = gd.closest('.output');\n",
              "if (outputEl) {{\n",
              "    x.observe(outputEl, {childList: true});\n",
              "}}\n",
              "\n",
              "                        })                };                            </script>        </div>\n",
              "</body>\n",
              "</html>"
            ]
          },
          "metadata": {}
        }
      ]
    },
    {
      "cell_type": "markdown",
      "source": [
        "## **[tensorflow projector](https://projector.tensorflow.org/)**\n",
        "### 시각화를 해보시오 > Load 텝에서 데이터 확인하고 동일한 유형의 데이터를 만들기\n",
        "- ✅ Word2Vec → TSV 변환 코드 (vector + metadata 파일 만들기)\n",
        "아래 코드를 실행하면, 1) 벡터.tsv, 2) 메타데이터.tsv 두 파일이 생성되고, 이를 Embedding Projector에 업로드하면 돼.\n",
        "- 🔄 파일 업로드 순서 (Embedding Projector에서)\n",
        "\n",
        ">> Step 1에 업로드: vectors.tsv\n",
        "\n",
        ">> Step 2에 업로드: metadata.tsv\n",
        "\n",
        ">> \"Load\" 누르면 시각화 가능"
      ],
      "metadata": {
        "id": "b9CuihZ6vrYV"
      },
      "id": "b9CuihZ6vrYV"
    },
    {
      "cell_type": "code",
      "source": [
        "model.wv.index_to_key[:10]"
      ],
      "metadata": {
        "colab": {
          "base_uri": "https://localhost:8080/"
        },
        "id": "_wTra0yFw_2k",
        "outputId": "15abea04-35ee-4788-ed4e-c4cc56969ea9"
      },
      "id": "_wTra0yFw_2k",
      "execution_count": 38,
      "outputs": [
        {
          "output_type": "execute_result",
          "data": {
            "text/plain": [
              "['shall', 'unto', 'lord', 'thou', 'god', 'thy', 'said', 'ye', 'thee', 'upon']"
            ]
          },
          "metadata": {},
          "execution_count": 38
        }
      ]
    },
    {
      "cell_type": "code",
      "source": [
        "len(model.wv.index_to_key)  # 전체 단어 개 수"
      ],
      "metadata": {
        "colab": {
          "base_uri": "https://localhost:8080/"
        },
        "id": "gPkqj-M3yBOJ",
        "outputId": "c809eea2-bef6-45a5-ff18-b8ff2f0bd2f2"
      },
      "id": "gPkqj-M3yBOJ",
      "execution_count": 39,
      "outputs": [
        {
          "output_type": "execute_result",
          "data": {
            "text/plain": [
              "6196"
            ]
          },
          "metadata": {},
          "execution_count": 39
        }
      ]
    },
    {
      "cell_type": "code",
      "source": [
        "# 모델에서 vocab 단어 추출\n",
        "words = list(model.wv.index_to_key)\n",
        "\n",
        "# Embedding 벡터 추출\n",
        "vectors = np.array([model.wv[word] for word in words])\n",
        "\n",
        "# 1. 벡터 저장 (vectors.tsv)\n",
        "np.savetxt(\"vectors.tsv\", vectors, delimiter='\\t')\n",
        "\n",
        "# 2. 메타데이터 저장 (metadata.tsv)\n",
        "# ✅ 수정된 metadata.tsv 생성 코드\n",
        "with open(\"metadata.tsv\", \"w\", encoding=\"utf-8\") as f:\n",
        "    for word in words:\n",
        "        f.write(f\"{word}\\n\")"
      ],
      "metadata": {
        "id": "O-Wrro8YvqLg"
      },
      "id": "O-Wrro8YvqLg",
      "execution_count": 40,
      "outputs": []
    },
    {
      "cell_type": "code",
      "source": [
        "print(\"벡터 수:\", len(vectors))\n",
        "print(\"메타데이터 수:\", len(words))"
      ],
      "metadata": {
        "colab": {
          "base_uri": "https://localhost:8080/"
        },
        "id": "1i0zqiPfx9iw",
        "outputId": "c126c72c-725b-4b68-e9a5-976dc7c49444"
      },
      "id": "1i0zqiPfx9iw",
      "execution_count": 41,
      "outputs": [
        {
          "output_type": "stream",
          "name": "stdout",
          "text": [
            "벡터 수: 6196\n",
            "메타데이터 수: 6196\n"
          ]
        }
      ]
    },
    {
      "cell_type": "code",
      "source": [
        "from google.colab import files\n",
        "files.download(\"vectors.tsv\")\n",
        "files.download(\"metadata.tsv\")"
      ],
      "metadata": {
        "colab": {
          "base_uri": "https://localhost:8080/",
          "height": 17
        },
        "id": "ugxBvYgCxQ8k",
        "outputId": "8d2c95ce-f1f3-4e58-89ce-da21fb44e2c9"
      },
      "id": "ugxBvYgCxQ8k",
      "execution_count": 42,
      "outputs": [
        {
          "output_type": "display_data",
          "data": {
            "text/plain": [
              "<IPython.core.display.Javascript object>"
            ],
            "application/javascript": [
              "\n",
              "    async function download(id, filename, size) {\n",
              "      if (!google.colab.kernel.accessAllowed) {\n",
              "        return;\n",
              "      }\n",
              "      const div = document.createElement('div');\n",
              "      const label = document.createElement('label');\n",
              "      label.textContent = `Downloading \"${filename}\": `;\n",
              "      div.appendChild(label);\n",
              "      const progress = document.createElement('progress');\n",
              "      progress.max = size;\n",
              "      div.appendChild(progress);\n",
              "      document.body.appendChild(div);\n",
              "\n",
              "      const buffers = [];\n",
              "      let downloaded = 0;\n",
              "\n",
              "      const channel = await google.colab.kernel.comms.open(id);\n",
              "      // Send a message to notify the kernel that we're ready.\n",
              "      channel.send({})\n",
              "\n",
              "      for await (const message of channel.messages) {\n",
              "        // Send a message to notify the kernel that we're ready.\n",
              "        channel.send({})\n",
              "        if (message.buffers) {\n",
              "          for (const buffer of message.buffers) {\n",
              "            buffers.push(buffer);\n",
              "            downloaded += buffer.byteLength;\n",
              "            progress.value = downloaded;\n",
              "          }\n",
              "        }\n",
              "      }\n",
              "      const blob = new Blob(buffers, {type: 'application/binary'});\n",
              "      const a = document.createElement('a');\n",
              "      a.href = window.URL.createObjectURL(blob);\n",
              "      a.download = filename;\n",
              "      div.appendChild(a);\n",
              "      a.click();\n",
              "      div.remove();\n",
              "    }\n",
              "  "
            ]
          },
          "metadata": {}
        },
        {
          "output_type": "display_data",
          "data": {
            "text/plain": [
              "<IPython.core.display.Javascript object>"
            ],
            "application/javascript": [
              "download(\"download_7c050cc0-650f-4a8c-885f-b865d060ffc8\", \"vectors.tsv\", 15801133)"
            ]
          },
          "metadata": {}
        },
        {
          "output_type": "display_data",
          "data": {
            "text/plain": [
              "<IPython.core.display.Javascript object>"
            ],
            "application/javascript": [
              "\n",
              "    async function download(id, filename, size) {\n",
              "      if (!google.colab.kernel.accessAllowed) {\n",
              "        return;\n",
              "      }\n",
              "      const div = document.createElement('div');\n",
              "      const label = document.createElement('label');\n",
              "      label.textContent = `Downloading \"${filename}\": `;\n",
              "      div.appendChild(label);\n",
              "      const progress = document.createElement('progress');\n",
              "      progress.max = size;\n",
              "      div.appendChild(progress);\n",
              "      document.body.appendChild(div);\n",
              "\n",
              "      const buffers = [];\n",
              "      let downloaded = 0;\n",
              "\n",
              "      const channel = await google.colab.kernel.comms.open(id);\n",
              "      // Send a message to notify the kernel that we're ready.\n",
              "      channel.send({})\n",
              "\n",
              "      for await (const message of channel.messages) {\n",
              "        // Send a message to notify the kernel that we're ready.\n",
              "        channel.send({})\n",
              "        if (message.buffers) {\n",
              "          for (const buffer of message.buffers) {\n",
              "            buffers.push(buffer);\n",
              "            downloaded += buffer.byteLength;\n",
              "            progress.value = downloaded;\n",
              "          }\n",
              "        }\n",
              "      }\n",
              "      const blob = new Blob(buffers, {type: 'application/binary'});\n",
              "      const a = document.createElement('a');\n",
              "      a.href = window.URL.createObjectURL(blob);\n",
              "      a.download = filename;\n",
              "      div.appendChild(a);\n",
              "      a.click();\n",
              "      div.remove();\n",
              "    }\n",
              "  "
            ]
          },
          "metadata": {}
        },
        {
          "output_type": "display_data",
          "data": {
            "text/plain": [
              "<IPython.core.display.Javascript object>"
            ],
            "application/javascript": [
              "download(\"download_dc219fb6-2b52-4771-9f2d-4438fd4823ad\", \"metadata.tsv\", 48848)"
            ]
          },
          "metadata": {}
        }
      ]
    },
    {
      "cell_type": "code",
      "source": [],
      "metadata": {
        "id": "YfX3NoJ127dp"
      },
      "id": "YfX3NoJ127dp",
      "execution_count": null,
      "outputs": []
    }
  ],
  "metadata": {
    "kernelspec": {
      "display_name": "Python 3",
      "language": "python",
      "name": "python3"
    },
    "language_info": {
      "name": "python",
      "version": "3.9"
    },
    "colab": {
      "provenance": [],
      "include_colab_link": true
    }
  },
  "nbformat": 4,
  "nbformat_minor": 5
}