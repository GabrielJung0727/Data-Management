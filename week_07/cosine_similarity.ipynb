{
  "nbformat": 4,
  "nbformat_minor": 0,
  "metadata": {
    "colab": {
      "provenance": [],
      "authorship_tag": "ABX9TyOAgtM0uQOGa+7PVDkXu7lP",
      "include_colab_link": true
    },
    "kernelspec": {
      "name": "python3",
      "display_name": "Python 3"
    },
    "language_info": {
      "name": "python"
    }
  },
  "cells": [
    {
      "cell_type": "markdown",
      "metadata": {
        "id": "view-in-github",
        "colab_type": "text"
      },
      "source": [
        "<a href=\"https://colab.research.google.com/github/ancestor9/2025_Spring_Data-Management/blob/main/week_07/cosine_similarity.ipynb\" target=\"_parent\"><img src=\"https://colab.research.google.com/assets/colab-badge.svg\" alt=\"Open In Colab\"/></a>"
      ]
    },
    {
      "cell_type": "markdown",
      "source": [
        "### **Vector_Similarity_Measures_Cosine_Similarity**\n",
        "<img src='https://assets.zilliz.com/Vector_Similarity_Measures_Cosine_Zilliz_f3ebfcfd7e.png'>"
      ],
      "metadata": {
        "id": "tKQxGNAf7xso"
      }
    },
    {
      "cell_type": "code",
      "execution_count": 1,
      "metadata": {
        "id": "G6wzvedw57gA"
      },
      "outputs": [],
      "source": [
        "import numpy as np\n",
        "import math\n",
        "\n",
        "# 벡터의 내적(dot product) 계산 함수\n",
        "def dot_product(vec_a, vec_b):\n",
        "    if len(vec_a) != len(vec_b):\n",
        "        raise ValueError(\"벡터의 길이가 동일해야 합니다.\")\n",
        "\n",
        "    result = 0\n",
        "    for i in range(len(vec_a)):\n",
        "        result += vec_a[i] * vec_b[i]\n",
        "\n",
        "    return result\n",
        "\n",
        "# 벡터의 크기(magnitude, norm) 계산 함수\n",
        "def magnitude(vec):\n",
        "    sum_of_squares = 0\n",
        "    for i in range(len(vec)):\n",
        "        sum_of_squares += vec[i] ** 2\n",
        "\n",
        "    return math.sqrt(sum_of_squares)\n",
        "\n",
        "# 코사인 유사도 계산 함수\n",
        "def cosine_similarity(vec_a, vec_b):\n",
        "    dot = dot_product(vec_a, vec_b)\n",
        "    mag_a = magnitude(vec_a)\n",
        "    mag_b = magnitude(vec_b)\n",
        "\n",
        "    if mag_a == 0 or mag_b == 0:\n",
        "        raise ValueError(\"영벡터(크기가 0인 벡터)의 코사인 유사도는 정의되지 않습니다.\")\n",
        "\n",
        "    return dot / (mag_a * mag_b)\n",
        "\n",
        "# NumPy를 사용한 계산 함수들\n",
        "def np_dot_product(vec_a, vec_b):\n",
        "    return np.dot(vec_a, vec_b)\n",
        "\n",
        "def np_magnitude(vec):\n",
        "    return np.linalg.norm(vec)\n",
        "\n",
        "def np_cosine_similarity(vec_a, vec_b):\n",
        "    return np.dot(vec_a, vec_b) / (np.linalg.norm(vec_a) * np.linalg.norm(vec_b))\n",
        "\n",
        "def print_results(name, vec_a, vec_b):\n",
        "    print(f\"===== {name} =====\")\n",
        "    print(f\"벡터 A: {vec_a}\")\n",
        "    print(f\"벡터 B: {vec_b}\")\n",
        "\n",
        "    # 직접 구현한 함수 사용\n",
        "    dot = dot_product(vec_a, vec_b)\n",
        "    mag_a = magnitude(vec_a)\n",
        "    mag_b = magnitude(vec_b)\n",
        "    cos_sim = cosine_similarity(vec_a, vec_b)\n",
        "\n",
        "    print(\"\\n[직접 구현한 함수 결과]\")\n",
        "    print(f\"내적: {dot}\")\n",
        "    print(f\"벡터 A의 크기: {mag_a}\")\n",
        "    print(f\"벡터 B의 크기: {mag_b}\")\n",
        "    print(f\"코사인 유사도: {cos_sim}\")\n",
        "\n",
        "    # 코사인 유사도에서 각도 계산\n",
        "    angle_rad = math.acos(min(1.0, max(-1.0, cos_sim)))  # 수치 오차 방지\n",
        "    angle_deg = angle_rad * (180 / math.pi)\n",
        "    print(f\"각도(라디안): {angle_rad}\")\n",
        "    print(f\"각도(도): {angle_deg}\")\n",
        "\n",
        "    # NumPy 함수 사용\n",
        "    np_dot = np_dot_product(vec_a, vec_b)\n",
        "    np_mag_a = np_magnitude(vec_a)\n",
        "    np_mag_b = np_magnitude(vec_b)\n",
        "    np_cos_sim = np_cosine_similarity(vec_a, vec_b)\n",
        "\n",
        "    print(\"\\n[NumPy 함수 결과]\")\n",
        "    print(f\"내적: {np_dot}\")\n",
        "    print(f\"벡터 A의 크기: {np_mag_a}\")\n",
        "    print(f\"벡터 B의 크기: {np_mag_b}\")\n",
        "    print(f\"코사인 유사도: {np_cos_sim}\")\n",
        "    print(\"\\n\")\n"
      ]
    },
    {
      "cell_type": "code",
      "source": [
        "# 예제 1: 동일한 방향의 벡터\n",
        "vec1 = [1, 4]\n",
        "vec2 = [3, 8]  # vec1의 스칼라 배\n",
        "print_results(\"동일한 방향의 벡터\", vec1, vec2)"
      ],
      "metadata": {
        "colab": {
          "base_uri": "https://localhost:8080/"
        },
        "id": "hSlB0paM5-22",
        "outputId": "8e2d8636-43d2-4ae1-8b1f-c6d920be48b9"
      },
      "execution_count": 7,
      "outputs": [
        {
          "output_type": "stream",
          "name": "stdout",
          "text": [
            "===== 동일한 방향의 벡터 =====\n",
            "벡터 A: [1, 4]\n",
            "벡터 B: [3, 8]\n",
            "\n",
            "[직접 구현한 함수 결과]\n",
            "내적: 35\n",
            "벡터 A의 크기: 4.123105625617661\n",
            "벡터 B의 크기: 8.54400374531753\n",
            "코사인 유사도: 0.9935326726564043\n",
            "각도(라디안): 0.11379200714370685\n",
            "각도(도): 6.5198017516569164\n",
            "\n",
            "[NumPy 함수 결과]\n",
            "내적: 35\n",
            "벡터 A의 크기: 4.123105625617661\n",
            "벡터 B의 크기: 8.54400374531753\n",
            "코사인 유사도: 0.9935326726564043\n",
            "\n",
            "\n"
          ]
        }
      ]
    },
    {
      "cell_type": "code",
      "source": [
        "# 예제 2: 직각인 벡터\n",
        "vec3 = [1, 0,]\n",
        "vec4 = [0, 1,]\n",
        "print_results(\"직각인 벡터\", vec3, vec4)\n",
        "\n",
        "# 예제 3: 반대 방향의 벡터\n",
        "vec5 = [1, 2]\n",
        "vec6 = [-1, -2]\n",
        "print_results(\"반대 방향의 벡터\", vec5, vec6)\n"
      ],
      "metadata": {
        "colab": {
          "base_uri": "https://localhost:8080/"
        },
        "id": "RqWahvui6C7-",
        "outputId": "0bd00a80-79cb-46a4-c16f-ca3a98ff855b"
      },
      "execution_count": 12,
      "outputs": [
        {
          "output_type": "stream",
          "name": "stdout",
          "text": [
            "===== 직각인 벡터 =====\n",
            "벡터 A: [1, 0]\n",
            "벡터 B: [0, 1]\n",
            "\n",
            "[직접 구현한 함수 결과]\n",
            "내적: 0\n",
            "벡터 A의 크기: 1.0\n",
            "벡터 B의 크기: 1.0\n",
            "코사인 유사도: 0.0\n",
            "각도(라디안): 1.5707963267948966\n",
            "각도(도): 90.0\n",
            "\n",
            "[NumPy 함수 결과]\n",
            "내적: 0\n",
            "벡터 A의 크기: 1.0\n",
            "벡터 B의 크기: 1.0\n",
            "코사인 유사도: 0.0\n",
            "\n",
            "\n",
            "===== 반대 방향의 벡터 =====\n",
            "벡터 A: [1, 2]\n",
            "벡터 B: [-1, -2]\n",
            "\n",
            "[직접 구현한 함수 결과]\n",
            "내적: -5\n",
            "벡터 A의 크기: 2.23606797749979\n",
            "벡터 B의 크기: 2.23606797749979\n",
            "코사인 유사도: -0.9999999999999998\n",
            "각도(라디안): 3.1415926325163688\n",
            "각도(도): 179.99999879258172\n",
            "\n",
            "[NumPy 함수 결과]\n",
            "내적: -5\n",
            "벡터 A의 크기: 2.23606797749979\n",
            "벡터 B의 크기: 2.23606797749979\n",
            "코사인 유사도: -0.9999999999999998\n",
            "\n",
            "\n"
          ]
        }
      ]
    },
    {
      "cell_type": "code",
      "source": [
        "# 예제 4: 문서 유사도 응용 (단어 빈도 벡터)\n",
        "# 문서 1: \"나는 사과와 바나나를 좋아한다\"\n",
        "# 문서 2: \"나는 사과를 매우 좋아한다\"\n",
        "# 단어 벡터: [나는, 사과, 바나나, 좋아한다, 매우]\n",
        "doc1 = [1, 1, 1, 1, 0]\n",
        "doc2 = [1, 1, 0, 1, 1]\n",
        "print_results(\"문서 유사도 예제\", doc1, doc2)\n"
      ],
      "metadata": {
        "colab": {
          "base_uri": "https://localhost:8080/"
        },
        "id": "ql1hH2zX7Imm",
        "outputId": "e73c058d-371c-4396-eff7-04e32773a4d2"
      },
      "execution_count": 14,
      "outputs": [
        {
          "output_type": "stream",
          "name": "stdout",
          "text": [
            "===== 문서 유사도 예제 =====\n",
            "벡터 A: [1, 1, 1, 1, 0]\n",
            "벡터 B: [1, 1, 0, 1, 1]\n",
            "\n",
            "[직접 구현한 함수 결과]\n",
            "내적: 3\n",
            "벡터 A의 크기: 2.0\n",
            "벡터 B의 크기: 2.0\n",
            "코사인 유사도: 0.75\n",
            "각도(라디안): 0.7227342478134157\n",
            "각도(도): 41.40962210927086\n",
            "\n",
            "[NumPy 함수 결과]\n",
            "내적: 3\n",
            "벡터 A의 크기: 2.0\n",
            "벡터 B의 크기: 2.0\n",
            "코사인 유사도: 0.75\n",
            "\n",
            "\n"
          ]
        }
      ]
    },
    {
      "cell_type": "code",
      "source": [
        "! pip install konlpy --quiet"
      ],
      "metadata": {
        "colab": {
          "base_uri": "https://localhost:8080/"
        },
        "id": "kqYmUZI68GW0",
        "outputId": "d2389cc8-2ec7-4555-fa7b-bd9a90228a4e"
      },
      "execution_count": 15,
      "outputs": [
        {
          "output_type": "stream",
          "name": "stdout",
          "text": [
            "\u001b[2K   \u001b[90m━━━━━━━━━━━━━━━━━━━━━━━━━━━━━━━━━━━━━━━━\u001b[0m \u001b[32m19.4/19.4 MB\u001b[0m \u001b[31m38.3 MB/s\u001b[0m eta \u001b[36m0:00:00\u001b[0m\n",
            "\u001b[2K   \u001b[90m━━━━━━━━━━━━━━━━━━━━━━━━━━━━━━━━━━━━━━━━\u001b[0m \u001b[32m494.1/494.1 kB\u001b[0m \u001b[31m23.8 MB/s\u001b[0m eta \u001b[36m0:00:00\u001b[0m\n",
            "\u001b[?25h"
          ]
        }
      ]
    },
    {
      "cell_type": "code",
      "source": [
        "# 예제 1: 앞서 사용했던 예제\n",
        "doc1 = \"나는 사과와 바나나를 좋아한다\"\n",
        "doc2 = \"나는 사과를 매우 좋아한다\""
      ],
      "metadata": {
        "id": "VW_8lKhM8v5T"
      },
      "execution_count": 17,
      "outputs": []
    },
    {
      "cell_type": "code",
      "source": [
        "# prompt: doc1, doc2에서 추출한 후 countevector를 만들어라\n",
        "\n",
        "from konlpy.tag import Okt\n",
        "from sklearn.feature_extraction.text import CountVectorizer\n",
        "\n",
        "okt = Okt()\n",
        "\n",
        "def build_count_vectorizer(docs):\n",
        "    vectorizer = CountVectorizer()\n",
        "    vectorizer.fit(docs)\n",
        "    return vectorizer\n",
        "\n",
        "def get_count_vectors(vectorizer, docs):\n",
        "    return vectorizer.transform(docs).toarray()\n",
        "\n",
        "doc1 = \"나는 사과와 바나나를 좋아한다\"\n",
        "doc2 = \"나는 사과를 매우 좋아한다\"\n",
        "\n",
        "docs = [doc1, doc2]\n",
        "docs"
      ],
      "metadata": {
        "colab": {
          "base_uri": "https://localhost:8080/"
        },
        "id": "QkfLMX-F9qM9",
        "outputId": "229a82f0-3b07-4607-c9e5-f130678d28c2"
      },
      "execution_count": 40,
      "outputs": [
        {
          "output_type": "execute_result",
          "data": {
            "text/plain": [
              "['나는 사과와 바나나를 좋아한다', '나는 사과를 매우 좋아한다']"
            ]
          },
          "metadata": {},
          "execution_count": 40
        }
      ]
    },
    {
      "cell_type": "code",
      "source": [
        "# CountVectorizer 생성\n",
        "vectorizer = build_count_vectorizer(docs)\n",
        "\n",
        "# Count Vectors 계산\n",
        "count_vectors = get_count_vectors(vectorizer, docs)\n",
        "\n",
        "print(\"Count Vectors:\")\n",
        "print(count_vectors)\n",
        "print(\"\\nVocabulary:\")\n",
        "vectorizer.vocabulary_"
      ],
      "metadata": {
        "colab": {
          "base_uri": "https://localhost:8080/"
        },
        "id": "-pV6knG8-AKE",
        "outputId": "ccbf17c1-fae6-4575-98a8-5a16b3d31fad"
      },
      "execution_count": 35,
      "outputs": [
        {
          "output_type": "stream",
          "name": "stdout",
          "text": [
            "Count Vectors:\n",
            "[[1 1 1 1]\n",
            " [1 1 1 1]]\n",
            "\n",
            "Vocabulary:\n"
          ]
        },
        {
          "output_type": "execute_result",
          "data": {
            "text/plain": [
              "{'나는': 0, '사과와': 2, '바나나를': 1, '좋아한다': 3}"
            ]
          },
          "metadata": {},
          "execution_count": 35
        }
      ]
    },
    {
      "cell_type": "code",
      "source": [
        "count_vectors"
      ],
      "metadata": {
        "colab": {
          "base_uri": "https://localhost:8080/"
        },
        "id": "JRQbmEkM-GoC",
        "outputId": "560f1f6b-9000-49d0-d372-7339004b88bb"
      },
      "execution_count": 36,
      "outputs": [
        {
          "output_type": "execute_result",
          "data": {
            "text/plain": [
              "array([[1, 1, 1, 1],\n",
              "       [1, 1, 1, 1]])"
            ]
          },
          "metadata": {},
          "execution_count": 36
        }
      ]
    },
    {
      "cell_type": "code",
      "source": [
        "count_vectors[0]"
      ],
      "metadata": {
        "colab": {
          "base_uri": "https://localhost:8080/"
        },
        "id": "bPrYmFP4-cie",
        "outputId": "59eca4f3-9582-4e9f-bd19-eba3cfa8ced3"
      },
      "execution_count": 37,
      "outputs": [
        {
          "output_type": "execute_result",
          "data": {
            "text/plain": [
              "array([1, 1, 1, 1])"
            ]
          },
          "metadata": {},
          "execution_count": 37
        }
      ]
    },
    {
      "cell_type": "code",
      "source": [
        "count_vectors[1]"
      ],
      "metadata": {
        "colab": {
          "base_uri": "https://localhost:8080/"
        },
        "id": "G-eHRshj-eY8",
        "outputId": "97eaceb0-db10-4a1d-a0c5-652fb75c2ddb"
      },
      "execution_count": 38,
      "outputs": [
        {
          "output_type": "execute_result",
          "data": {
            "text/plain": [
              "array([1, 1, 1, 1])"
            ]
          },
          "metadata": {},
          "execution_count": 38
        }
      ]
    },
    {
      "cell_type": "code",
      "source": [
        "np_cosine_similarity(count_vectors[0], count_vectors[1])"
      ],
      "metadata": {
        "colab": {
          "base_uri": "https://localhost:8080/"
        },
        "id": "OGP2X0DB-a5U",
        "outputId": "348e643e-76e7-43fd-a988-7af3fcde8756"
      },
      "execution_count": 39,
      "outputs": [
        {
          "output_type": "execute_result",
          "data": {
            "text/plain": [
              "np.float64(1.0)"
            ]
          },
          "metadata": {},
          "execution_count": 39
        }
      ]
    },
    {
      "cell_type": "markdown",
      "source": [
        "## **실습하기**\n",
        "### **아래 문장끼리의 코사인 유사도를 구하라**"
      ],
      "metadata": {
        "id": "U9tOGn3c9K_D"
      }
    },
    {
      "cell_type": "code",
      "source": [
        "# 예제 2: 주제가 비슷한 다른 문장\n",
        "doc3 = \"인공지능 기술은 빠르게 발전하고 있다\"\n",
        "doc4 = \"인공지능의 발전 속도는 매우 빠르다\"\n",
        "\n",
        "# 예제 3: 주제가 다른 문장\n",
        "doc5 = \"오늘 날씨가 매우 좋아서 산책을 했다\"\n",
        "doc6 = \"인공지능 기술은 우리의 삶을 변화시킨다\"\n",
        "\n",
        "# 예제 4: 복잡한 문장들\n",
        "doc7 = \"한국의 전통 음식에는 김치, 불고기, 비빔밥 등이 있으며 세계적으로 인기가 높아지고 있다\"\n",
        "doc8 = \"김치와 비빔밥은 한국의 대표적인 음식으로 영양가가 높고 맛있다\""
      ],
      "metadata": {
        "id": "Rh4HucbV8nin"
      },
      "execution_count": null,
      "outputs": []
    },
    {
      "cell_type": "code",
      "source": [],
      "metadata": {
        "id": "cE3torMq8nmU"
      },
      "execution_count": null,
      "outputs": []
    },
    {
      "cell_type": "code",
      "source": [],
      "metadata": {
        "id": "jzb85Sbs8npA"
      },
      "execution_count": null,
      "outputs": []
    },
    {
      "cell_type": "code",
      "source": [],
      "metadata": {
        "id": "B8FlIVFc8nsX"
      },
      "execution_count": null,
      "outputs": []
    },
    {
      "cell_type": "code",
      "source": [
        "\n",
        "# 시각화 예제 (matplotlib 사용)\n",
        "print(\"===== 2D 벡터 시각화 예제 =====\")\n",
        "import matplotlib.pyplot as plt\n",
        "\n",
        "# 2D 벡터 정의\n",
        "vec_a = [3, 4]\n",
        "vec_b = [4, 3]\n",
        "\n",
        "# 코사인 유사도 계산\n",
        "cos_sim = cosine_similarity(vec_a, vec_b)\n",
        "angle_rad = math.acos(cos_sim)\n",
        "angle_deg = angle_rad * (180 / math.pi)\n",
        "\n",
        "print(f\"벡터 A: {vec_a}\")\n",
        "print(f\"벡터 B: {vec_b}\")\n",
        "print(f\"내적: {dot_product(vec_a, vec_b)}\")\n",
        "print(f\"코사인 유사도: {cos_sim}\")\n",
        "print(f\"각도(도): {angle_deg}\")\n"
      ],
      "metadata": {
        "colab": {
          "base_uri": "https://localhost:8080/"
        },
        "id": "UHxLcg_y8ECP",
        "outputId": "b0c72798-ae3e-4e49-c987-095f659232f1"
      },
      "execution_count": 18,
      "outputs": [
        {
          "output_type": "stream",
          "name": "stdout",
          "text": [
            "===== 2D 벡터 시각화 예제 =====\n",
            "벡터 A: [3, 4]\n",
            "벡터 B: [4, 3]\n",
            "내적: 24\n",
            "코사인 유사도: 0.96\n",
            "각도(도): 16.260204708311967\n"
          ]
        }
      ]
    },
    {
      "cell_type": "code",
      "source": [
        "\n",
        "# 벡터 시각화 코드\n",
        "plt.figure(figsize=(10, 8))\n",
        "plt.quiver(0, 0, vec_a[0], vec_a[1], angles='xy', scale_units='xy', scale=1, color='r', label='Vector A')\n",
        "plt.quiver(0, 0, vec_b[0], vec_b[1], angles='xy', scale_units='xy', scale=1, color='b', label='Vector B')\n",
        "plt.xlim(-1, 6)\n",
        "plt.ylim(-1, 6)\n",
        "plt.grid()\n",
        "plt.axhline(y=0, color='k', linestyle='-', alpha=0.3)\n",
        "plt.axvline(x=0, color='k', linestyle='-', alpha=0.3)\n",
        "plt.title(f'2D Vector and Innner Product/Cosine Similarity: {cos_sim:.4f}, Angle: {angle_deg:.2f}°')\n",
        "plt.xlabel('x')\n",
        "plt.ylabel('y')\n",
        "plt.legend()\n",
        "plt.gca().set_aspect('equal')\n",
        "# plt.savefig('cosine_similarity_visualization.png')\n",
        "plt.show()  # 실제 실행 환경에서 그래프를 표시하려면 이 줄의 주석을 해제하세요\n",
        "\n",
        "print(\"\\n코사인 유사도 수식: cos(θ) = (A·B) / (|A|·|B|)\")\n",
        "print(\"내적과 코사인 유사도의 관계:\")\n",
        "print(\"- 내적(A·B)은 두 벡터의 각 성분을 곱한 후 합한 값\")\n",
        "print(\"- 코사인 유사도는 내적을 두 벡터의 크기로 나눈 값\")\n",
        "print(\"- 두 벡터가 완전히 같은 방향일 때: 코사인 유사도 = 1 (각도 0°)\")\n",
        "print(\"- 두 벡터가 직각일 때: 코사인 유사도 = 0 (각도 90°)\")\n",
        "print(\"- 두 벡터가 반대 방향일 때: 코사인 유사도 = -1 (각도 180°)\")"
      ],
      "metadata": {
        "colab": {
          "base_uri": "https://localhost:8080/",
          "height": 863
        },
        "id": "bGzrF4Sb7BgL",
        "outputId": "995bc35e-a587-4224-e00b-54afe82347e1"
      },
      "execution_count": 20,
      "outputs": [
        {
          "output_type": "display_data",
          "data": {
            "text/plain": [
              "<Figure size 1000x800 with 1 Axes>"
            ],
            "image/png": "[encoded data removed]"
          },
          "metadata": {}
        },
        {
          "output_type": "stream",
          "name": "stdout",
          "text": [
            "\n",
            "코사인 유사도 수식: cos(θ) = (A·B) / (|A|·|B|)\n",
            "내적과 코사인 유사도의 관계:\n",
            "- 내적(A·B)은 두 벡터의 각 성분을 곱한 후 합한 값\n",
            "- 코사인 유사도는 내적을 두 벡터의 크기로 나눈 값\n",
            "- 두 벡터가 완전히 같은 방향일 때: 코사인 유사도 = 1 (각도 0°)\n",
            "- 두 벡터가 직각일 때: 코사인 유사도 = 0 (각도 90°)\n",
            "- 두 벡터가 반대 방향일 때: 코사인 유사도 = -1 (각도 180°)\n"
          ]
        }
      ]
    },
    {
      "cell_type": "markdown",
      "source": [
        "## **[선형대수](https://amber-chaeeunk.tistory.com/69)**\n",
        "<img src='https://blog.kakaocdn.net/dn/F84OW/btrblRGtEXQ/2FqWHniXPZzsROvuyunQF0/img.png'>"
      ],
      "metadata": {
        "id": "HTLRwsXH_aK_"
      }
    },
    {
      "cell_type": "code",
      "source": [],
      "metadata": {
        "id": "hL07oZpF69A1"
      },
      "execution_count": null,
      "outputs": []
    }
  ]
}