{
  "cells": [
    {
      "cell_type": "markdown",
      "metadata": {
        "id": "wA5kRiX-MUKF"
      },
      "source": [
        "## 0. 필요한 패키지 설치하기"
      ]
    },
    {
      "cell_type": "code",
      "execution_count": 2,
      "metadata": {
        "id": "alhkMjUNMUKN",
        "outputId": "e03054f0-6d39-4948-8ea2-53ba63068f7a"
      },
      "outputs": [],
      "source": [
        "from selenium import webdriver\n",
        "from selenium.webdriver.chrome.service import Service\n",
        "from webdriver_manager.chrome import ChromeDriverManager\n",
        "from selenium.webdriver.common.by import By\n",
        "\n",
        "# 올바른 방식\n",
        "service = Service(ChromeDriverManager().install())\n",
        "driver = webdriver.Chrome(service=service)"
      ]
    },
    {
      "cell_type": "code",
      "execution_count": null,
      "metadata": {},
      "outputs": [],
      "source": [
        "from selenium import webdriver\n",
        "from selenium.webdriver.chrome.service import Service\n",
        "from webdriver_manager.chrome import ChromeDriverManager\n",
        "\n",
        "# 최신 ChromeDriver 설치\n",
        "service = Service(ChromeDriverManager().install())\n",
        "driver = webdriver.Chrome(service=service)"
      ]
    },
    {
      "cell_type": "markdown",
      "metadata": {
        "id": "iyIQJVzUMUKQ"
      },
      "source": [
        "## 1. 네이버 뉴스의 “스포츠” 카테고리의 모든 기사링크 긁어오기"
      ]
    },
    {
      "cell_type": "markdown",
      "metadata": {
        "id": "7jHm6W3RMUKR"
      },
      "source": [
        "### 1-1. 원하는 사이트를 가져와 창 띄워보기"
      ]
    },
    {
      "cell_type": "code",
      "execution_count": 3,
      "metadata": {
        "id": "gsH_-oQUMUKS"
      },
      "outputs": [],
      "source": [
        "driver.get('https://www.naver.com/')"
      ]
    },
    {
      "cell_type": "markdown",
      "metadata": {
        "id": "Xw2Qrr6XMUKT"
      },
      "source": [
        "### 1-2. 원하는 부분 클릭해보기 & 링크 가져오기"
      ]
    },
    {
      "cell_type": "code",
      "execution_count": 27,
      "metadata": {
        "id": "5yW1v7-5MUKU"
      },
      "outputs": [],
      "source": [
        "browser.get('https://search.naver.com/search.naver?ssc=tab.news.all&where=news&sm=tab_jum&query=ChatGPT')"
      ]
    },
    {
      "cell_type": "code",
      "execution_count": 5,
      "metadata": {
        "id": "JKpcrFDuMUKV"
      },
      "outputs": [],
      "source": [
        "sel = driver.find_element(By.ID, 'sp_nws1')"
      ]
    },
    {
      "cell_type": "code",
      "execution_count": 6,
      "metadata": {
        "id": "uXkz4FhsMUKV"
      },
      "outputs": [],
      "source": [
        "sel.click()"
      ]
    },
    {
      "cell_type": "markdown",
      "metadata": {
        "id": "k9CE3OwgMUKV"
      },
      "source": [
        "네이버 스포츠 뉴스 링크 : https://sports.news.naver.com/index"
      ]
    },
    {
      "cell_type": "code",
      "execution_count": 7,
      "metadata": {
        "id": "zaACKGnNMUKW"
      },
      "outputs": [],
      "source": [
        "driver.get('https://sports.news.naver.com/index')"
      ]
    },
    {
      "cell_type": "code",
      "execution_count": 8,
      "metadata": {
        "id": "QpiQppFRMUKW"
      },
      "outputs": [],
      "source": [
        "news_links = driver.find_elements(By.CLASS_NAME, 'link_today')"
      ]
    },
    {
      "cell_type": "code",
      "execution_count": 9,
      "metadata": {
        "id": "189E22nmMUKX",
        "outputId": "e1c0dcb2-06f8-463e-e6a8-858f715ae183"
      },
      "outputs": [
        {
          "data": {
            "text/plain": [
              "'https://m.sports.naver.com/article/076/0004256847'"
            ]
          },
          "execution_count": 9,
          "metadata": {},
          "output_type": "execute_result"
        }
      ],
      "source": [
        "news_links[0].get_attribute(\"href\")"
      ]
    },
    {
      "cell_type": "code",
      "execution_count": 10,
      "metadata": {
        "id": "fMq4FDg0MUKX",
        "outputId": "37dfe47f-9a2b-4e04-a010-2afe409d6c26"
      },
      "outputs": [
        {
          "name": "stdout",
          "output_type": "stream",
          "text": [
            "[오늘의  1 번째 뉴스]\n",
            "https://m.sports.naver.com/article/076/0004256847\n",
            "[오늘의  2 번째 뉴스]\n",
            "https://m.sports.naver.com/article/109/0005265636\n",
            "[오늘의  3 번째 뉴스]\n",
            "https://m.sports.naver.com/article/144/0001027027\n",
            "[오늘의  4 번째 뉴스]\n",
            "https://m.sports.naver.com/article/117/0003924149\n",
            "[오늘의  5 번째 뉴스]\n",
            "https://m.sports.naver.com/article/477/0000540507\n",
            "[오늘의  6 번째 뉴스]\n",
            "https://m.sports.naver.com/article/382/0001185639\n"
          ]
        }
      ],
      "source": [
        "cnt = 1\n",
        "for news in news_links:\n",
        "    print(\"[오늘의 \", cnt, \"번째 뉴스]\")\n",
        "    print(news.get_attribute(\"href\"))\n",
        "    cnt+=1"
      ]
    },
    {
      "cell_type": "markdown",
      "metadata": {
        "id": "3kNqfiCmMUKZ"
      },
      "source": [
        "## 2. 각 기사 속 제목과 본문을 긁어오기"
      ]
    },
    {
      "cell_type": "markdown",
      "metadata": {
        "id": "pokjRJjqMUKZ"
      },
      "source": [
        "### 2-1. 각 뉴스 기사 링크에 접속해보기"
      ]
    },
    {
      "cell_type": "code",
      "execution_count": 11,
      "metadata": {
        "id": "Fqxbc-I4MUKa",
        "outputId": "afac0cc1-0878-487a-da24-6c64cc9546fb"
      },
      "outputs": [
        {
          "name": "stdout",
          "output_type": "stream",
          "text": [
            "[오늘의  1 번째 뉴스]\n",
            "https://m.sports.naver.com/article/076/0004256847\n",
            "[오늘의  2 번째 뉴스]\n",
            "https://m.sports.naver.com/article/109/0005265636\n",
            "[오늘의  3 번째 뉴스]\n",
            "https://m.sports.naver.com/article/144/0001027027\n",
            "[오늘의  4 번째 뉴스]\n",
            "https://m.sports.naver.com/article/117/0003924149\n",
            "[오늘의  5 번째 뉴스]\n",
            "https://m.sports.naver.com/article/477/0000540507\n",
            "[오늘의  6 번째 뉴스]\n",
            "https://m.sports.naver.com/article/382/0001185639\n"
          ]
        }
      ],
      "source": [
        "news_list = []\n",
        "\n",
        "cnt = 1\n",
        "for news in news_links:\n",
        "    print(\"[오늘의 \", cnt, \"번째 뉴스]\")\n",
        "    print(news.get_attribute(\"href\"))\n",
        "    news_list.append(news.get_attribute(\"href\"))\n",
        "    cnt+=1"
      ]
    },
    {
      "cell_type": "code",
      "execution_count": 12,
      "metadata": {
        "id": "k3u6U2LqMUKb",
        "outputId": "2f47aa63-db62-4463-a27b-9c301ea15ca6"
      },
      "outputs": [
        {
          "data": {
            "text/plain": [
              "['https://m.sports.naver.com/article/076/0004256847',\n",
              " 'https://m.sports.naver.com/article/109/0005265636',\n",
              " 'https://m.sports.naver.com/article/144/0001027027',\n",
              " 'https://m.sports.naver.com/article/117/0003924149',\n",
              " 'https://m.sports.naver.com/article/477/0000540507',\n",
              " 'https://m.sports.naver.com/article/382/0001185639']"
            ]
          },
          "execution_count": 12,
          "metadata": {},
          "output_type": "execute_result"
        }
      ],
      "source": [
        "news_list"
      ]
    },
    {
      "cell_type": "code",
      "execution_count": 13,
      "metadata": {
        "id": "FnoxBHb8MUKc"
      },
      "outputs": [],
      "source": [
        "for news in news_list:\n",
        "    driver.get(news)"
      ]
    },
    {
      "cell_type": "markdown",
      "metadata": {
        "id": "Kix-IHMkMUKc"
      },
      "source": [
        "### 2-2. 각 뉴스의 제목과 본문을 가져오기"
      ]
    },
    {
      "cell_type": "markdown",
      "metadata": {
        "id": "iTP3aFiMMUKd"
      },
      "source": [
        "**제목 가져오기**"
      ]
    },
    {
      "cell_type": "code",
      "execution_count": 14,
      "metadata": {
        "id": "2IheNlCNMUKd"
      },
      "outputs": [],
      "source": [
        "driver.get(news_list[0])"
      ]
    },
    {
      "cell_type": "code",
      "execution_count": 15,
      "metadata": {
        "id": "1UkTC-KyMUKe"
      },
      "outputs": [],
      "source": [
        "news_title = driver.find_element(By.CLASS_NAME, 'NewsEndMain_article_title__kqEzS')"
      ]
    },
    {
      "cell_type": "code",
      "execution_count": 16,
      "metadata": {
        "id": "moaxJRVNMUKe",
        "outputId": "ba60ed19-d047-4d7d-d699-96c5d6494528"
      },
      "outputs": [
        {
          "data": {
            "text/plain": [
              "<selenium.webdriver.remote.webelement.WebElement (session=\"15b8e19db99361d24de3abe892efee0c\", element=\"f.5CC06EA579F7068B8D4C3D9C80F6581B.d.9C077A784C01EECBA668CF4E31E1E111.e.10851\")>"
            ]
          },
          "execution_count": 16,
          "metadata": {},
          "output_type": "execute_result"
        }
      ],
      "source": [
        "news_title"
      ]
    },
    {
      "cell_type": "code",
      "execution_count": 17,
      "metadata": {
        "id": "S80AqxXhMUKf",
        "outputId": "ed05b6e4-6a7c-46f1-edbc-d18ac7ffa05f"
      },
      "outputs": [
        {
          "data": {
            "text/plain": [
              "\"'6강 보인다' 정관장, DB와 공동 6위 도약…초반 기선제압, '부상병동' KCC 압도\""
            ]
          },
          "execution_count": 17,
          "metadata": {},
          "output_type": "execute_result"
        }
      ],
      "source": [
        "news_title.text"
      ]
    },
    {
      "cell_type": "markdown",
      "metadata": {
        "id": "3N5Ox5ObMUKf"
      },
      "source": [
        "**본문 가져오기**"
      ]
    },
    {
      "cell_type": "code",
      "execution_count": 18,
      "metadata": {
        "id": "n0O8kgZ6MUKg",
        "outputId": "1a3a2403-7380-45d4-e49d-7f8f1d7cbc8b"
      },
      "outputs": [
        {
          "data": {
            "text/plain": [
              "<selenium.webdriver.remote.webelement.WebElement (session=\"15b8e19db99361d24de3abe892efee0c\", element=\"f.5CC06EA579F7068B8D4C3D9C80F6581B.d.9C077A784C01EECBA668CF4E31E1E111.e.10963\")>"
            ]
          },
          "execution_count": 18,
          "metadata": {},
          "output_type": "execute_result"
        }
      ],
      "source": [
        "driver.find_element(By.CLASS_NAME, '_article_content')"
      ]
    },
    {
      "cell_type": "code",
      "execution_count": 19,
      "metadata": {
        "id": "Yt3VhQP2MUKg",
        "outputId": "150a5901-6622-4a01-9551-9a0353e93158",
        "scrolled": true
      },
      "outputs": [
        {
          "data": {
            "text/plain": [
              "\"[스포츠조선 최만식 기자] 남자프로농구 안양 정관장이 3연승을 달리며 6강 희망을 이어나갔다.\\n\\n정관장은 21일 안양 정관장아레나에서 벌어진 '2024~2025 KCC 프로농구' KCC와의 홈경기서 초반 여유있는 리드를 끝까지 지키며 91대70으로 대승했다.\\n\\n리그 3연승, KCC전 3연승을 달린 정관장은 20승27패로 원주 DB와 공동 6위에 성공했다.\\n\\n1쿼터부터 우열이 뚜렷했다. 허웅 최준용 송교창 등 3대 에이스가 빠진 KCC는 정관장의 적수가 안되는 듯, 공격과 수비 모두 총체적 난국을 보였다. 여기에 팀 분위기도 크게 떨어진 모습이었다.\\n\\n쿼터 후반이 되도록 4득점에 그칠 정도로 공격 패턴에서 손발이 맞지 않았다. 반면 정관장은 오브라이언트와 디온테 버튼을 적절하게 투입하는 가운데 박지훈의 리드를 앞세워 기선제압에 성공, 1쿼터를 25-12로 마쳤다.\\n\\n2쿼터 KCC의 부진은 계속됐다. 한때 22점 차로 벌어지기도 했다. 쿼터 중반 이후 이근휘의 외곽포가 터지고, 이호현과 캐디 라렌이 득점에 가담하면서 한 자릿수 점수 차 추격 직전까지 갔지만 턴오버로 정관장의 반격을 허용하기 일쑤였다.\\n\\n그나마 전반을 37-50으로 더 벌어지지 않은 채 마친 것은 KCC로서는 다행이었다. 3쿼터 들어서도 KCC가 추격세를 잡으려고 하면 턴오버나 완성도 떨어지는 공격으로 제 발목을 잡는 상황이 계속됐다.\\n\\nKCC가 여전한 난조를 보이는 사이 정관장은 쿼터 종료 5분여 전, 변준형의 뒷공간 기습 침투 레이업으로 58-42로 더 달아났다. 종료 4분19초 전에는 변준형의 3점포까지 터졌다.\\n\\n벤치 스쿼드가 약한 KCC는 식스맨 이주영 정창영 이호현을 번갈아 투입하며 안간힘을 썼다. 반짝 효과는 있었다. 에피스톨라의 연속 득점을 앞세우며 51-61까지 추격했다.\\n\\n하지만 정관장은 박지훈의 쿼터 종료 버저비터를 앞세워 다시 64-51로 달아나며 찬물을 끼얹었다. 짜릿한 버저비터로 신바람을 더한 정관장은 종료 4분26초 전, 무려 24점 차로 성큼 달아나며 일찌감치 승리를 예고했다.\""
            ]
          },
          "execution_count": 19,
          "metadata": {},
          "output_type": "execute_result"
        }
      ],
      "source": [
        "driver.find_element(By.CLASS_NAME, '_article_content').text"
      ]
    },
    {
      "cell_type": "code",
      "execution_count": 20,
      "metadata": {
        "id": "aSpxCI7sMUKh"
      },
      "outputs": [],
      "source": [
        "news_texts = driver.find_element(By.CLASS_NAME, '_article_content')"
      ]
    },
    {
      "cell_type": "code",
      "execution_count": 21,
      "metadata": {
        "id": "sl9A95_PMUKh",
        "outputId": "299f2610-d684-436c-e04b-9b0ce39347b2",
        "scrolled": true
      },
      "outputs": [
        {
          "name": "stdout",
          "output_type": "stream",
          "text": [
            "[스포츠조선 최만식 기자] 남자프로농구 안양 정관장이 3연승을 달리며 6강 희망을 이어나갔다.\n",
            "\n",
            "정관장은 21일 안양 정관장아레나에서 벌어진 '2024~2025 KCC 프로농구' KCC와의 홈경기서 초반 여유있는 리드를 끝까지 지키며 91대70으로 대승했다.\n",
            "\n",
            "리그 3연승, KCC전 3연승을 달린 정관장은 20승27패로 원주 DB와 공동 6위에 성공했다.\n",
            "\n",
            "1쿼터부터 우열이 뚜렷했다. 허웅 최준용 송교창 등 3대 에이스가 빠진 KCC는 정관장의 적수가 안되는 듯, 공격과 수비 모두 총체적 난국을 보였다. 여기에 팀 분위기도 크게 떨어진 모습이었다.\n",
            "\n",
            "쿼터 후반이 되도록 4득점에 그칠 정도로 공격 패턴에서 손발이 맞지 않았다. 반면 정관장은 오브라이언트와 디온테 버튼을 적절하게 투입하는 가운데 박지훈의 리드를 앞세워 기선제압에 성공, 1쿼터를 25-12로 마쳤다.\n",
            "\n",
            "2쿼터 KCC의 부진은 계속됐다. 한때 22점 차로 벌어지기도 했다. 쿼터 중반 이후 이근휘의 외곽포가 터지고, 이호현과 캐디 라렌이 득점에 가담하면서 한 자릿수 점수 차 추격 직전까지 갔지만 턴오버로 정관장의 반격을 허용하기 일쑤였다.\n",
            "\n",
            "그나마 전반을 37-50으로 더 벌어지지 않은 채 마친 것은 KCC로서는 다행이었다. 3쿼터 들어서도 KCC가 추격세를 잡으려고 하면 턴오버나 완성도 떨어지는 공격으로 제 발목을 잡는 상황이 계속됐다.\n",
            "\n",
            "KCC가 여전한 난조를 보이는 사이 정관장은 쿼터 종료 5분여 전, 변준형의 뒷공간 기습 침투 레이업으로 58-42로 더 달아났다. 종료 4분19초 전에는 변준형의 3점포까지 터졌다.\n",
            "\n",
            "벤치 스쿼드가 약한 KCC는 식스맨 이주영 정창영 이호현을 번갈아 투입하며 안간힘을 썼다. 반짝 효과는 있었다. 에피스톨라의 연속 득점을 앞세우며 51-61까지 추격했다.\n",
            "\n",
            "하지만 정관장은 박지훈의 쿼터 종료 버저비터를 앞세워 다시 64-51로 달아나며 찬물을 끼얹었다. 짜릿한 버저비터로 신바람을 더한 정관장은 종료 4분26초 전, 무려 24점 차로 성큼 달아나며 일찌감치 승리를 예고했다.\n"
          ]
        }
      ],
      "source": [
        "print(news_texts.text)"
      ]
    },
    {
      "cell_type": "markdown",
      "metadata": {
        "id": "LjoUljpxMUKh"
      },
      "source": [
        "**전체 기사별 제목과 본문 한번에 가져오기**"
      ]
    },
    {
      "cell_type": "code",
      "execution_count": 22,
      "metadata": {
        "id": "CV5Z5DUPMUKh"
      },
      "outputs": [],
      "source": [
        "import time\n",
        "\n",
        "news_content_list = []\n",
        "for news in news_list:\n",
        "    news_content = dict()\n",
        "    # 뉴스 링크 접속\n",
        "    driver.get(news)\n",
        "    time.sleep(2) # 사이트가 로딩될 때 까지 기다림\n",
        "    # 뉴스 제목 가져오기\n",
        "    news_title = driver.find_element(By.CLASS_NAME, 'NewsEndMain_article_title__kqEzS')\n",
        "    news_content['title'] = news_title.text\n",
        "    # 뉴스 본문 가져오기\n",
        "    news_texts = driver.find_element(By.CLASS_NAME, '_article_content')\n",
        "    news_content['main_text'] = news_texts.text\n",
        "    news_content_list.append(news_content)"
      ]
    },
    {
      "cell_type": "code",
      "execution_count": 23,
      "metadata": {
        "id": "ci2Qk05iMUKh",
        "outputId": "76932604-5b0e-4da0-eb20-e3a2a0e2a7cc"
      },
      "outputs": [
        {
          "data": {
            "text/plain": [
              "[{'title': \"'6강 보인다' 정관장, DB와 공동 6위 도약…초반 기선제압, '부상병동' KCC 압도\",\n",
              "  'main_text': \"[스포츠조선 최만식 기자] 남자프로농구 안양 정관장이 3연승을 달리며 6강 희망을 이어나갔다.\\n\\n정관장은 21일 안양 정관장아레나에서 벌어진 '2024~2025 KCC 프로농구' KCC와의 홈경기서 초반 여유있는 리드를 끝까지 지키며 91대70으로 대승했다.\\n\\n리그 3연승, KCC전 3연승을 달린 정관장은 20승27패로 원주 DB와 공동 6위에 성공했다.\\n\\n1쿼터부터 우열이 뚜렷했다. 허웅 최준용 송교창 등 3대 에이스가 빠진 KCC는 정관장의 적수가 안되는 듯, 공격과 수비 모두 총체적 난국을 보였다. 여기에 팀 분위기도 크게 떨어진 모습이었다.\\n\\n쿼터 후반이 되도록 4득점에 그칠 정도로 공격 패턴에서 손발이 맞지 않았다. 반면 정관장은 오브라이언트와 디온테 버튼을 적절하게 투입하는 가운데 박지훈의 리드를 앞세워 기선제압에 성공, 1쿼터를 25-12로 마쳤다.\\n\\n2쿼터 KCC의 부진은 계속됐다. 한때 22점 차로 벌어지기도 했다. 쿼터 중반 이후 이근휘의 외곽포가 터지고, 이호현과 캐디 라렌이 득점에 가담하면서 한 자릿수 점수 차 추격 직전까지 갔지만 턴오버로 정관장의 반격을 허용하기 일쑤였다.\\n\\n그나마 전반을 37-50으로 더 벌어지지 않은 채 마친 것은 KCC로서는 다행이었다. 3쿼터 들어서도 KCC가 추격세를 잡으려고 하면 턴오버나 완성도 떨어지는 공격으로 제 발목을 잡는 상황이 계속됐다.\\n\\nKCC가 여전한 난조를 보이는 사이 정관장은 쿼터 종료 5분여 전, 변준형의 뒷공간 기습 침투 레이업으로 58-42로 더 달아났다. 종료 4분19초 전에는 변준형의 3점포까지 터졌다.\\n\\n벤치 스쿼드가 약한 KCC는 식스맨 이주영 정창영 이호현을 번갈아 투입하며 안간힘을 썼다. 반짝 효과는 있었다. 에피스톨라의 연속 득점을 앞세우며 51-61까지 추격했다.\\n\\n하지만 정관장은 박지훈의 쿼터 종료 버저비터를 앞세워 다시 64-51로 달아나며 찬물을 끼얹었다. 짜릿한 버저비터로 신바람을 더한 정관장은 종료 4분26초 전, 무려 24점 차로 성큼 달아나며 일찌감치 승리를 예고했다.\"},\n",
              " {'title': '브라이튼, \"대전으로부터 윙어 윤도영 영입해 기쁘다\"... \"대전으로 돌아겠다\" [공식발표]',\n",
              "  'main_text': '[OSEN=우충원 기자] 윤도영(대전)이 프리미어리그 브라이튼 앤 호브 알비온으로 이적한다. \\n\\n브라이튼은 21일(이하 한국시간) 홈페이지 등 공식 소셜미디어(SNS)를 통해 “대전하나시티즌으로부터 윙어 윤도영을 영입하게 돼 매우 기쁘다”며 “윤도영은 6월 말까지 대전에 잔류한 뒤 이적시장이 다시 열리는 7월 1일부로 브라이튼 앤 호브 알비온에 공식 합류할 예정이다”라고 전했다. 브라이턴은 윤도영과 2030년 6월까지 계약을 맺었다. 구단은 “다음 시즌 임대가 유력하게 예상되고 있습니다”라고 전했다.\\n\\n브라이튼 데이비드 위어 기술 이사는 구단을 통해 “윤도영 선수는 아시아에서 가장 유망한 젊은 재능 중 하나로 평가받고 있으며, 그가 브라이턴을 선택해 매우 기쁘다”고 했다.\\n\\n이어 “우리는 그가 여름까지 K리그에서 계속 성장해 나가는 모습을 면밀히 지켜볼 것이며, 이후 그에게 적합한 임대 팀을 찾을 예정”이라고 했다.\\n\\n2006년생 윤도영은 고교 시절부터 특급 유망주로 주목받던 선수였다. 2019년 대전하나시티즌U-15에 입단하여, 2021년U-15 대회 3관왕 달성의 핵심 주역이었으며, U-18(충남기계공고) 소속으로 2023년 AFC U-17 아시안컵(태국) 준우승, FIFA U-17월드컵(인도네시아)에 참가하여 맹활약 하였다.\\n\\n가능성을 인정받은 윤도영은 2024년 1월 충남기계공고 소속으로, 대전하나시티즌 역대 두 번째 준프로 계약을 맺었으며, 2024 시즌 K리그1 14라운드 울산과의 경기에서 17세 6개월 27일의 나이로 구단 최연소 프로 데뷔전을 치뤘으며, 16라운드 대구와의 홈경기에서 귀중한 도움을 달성 데뷔 공격 포인트를 올렸다.\\n\\n특히, 20라운드 수원FC와의 홈경기 종료 후, 황선홍 감독은 “윤도영의 적극적이고 도전적 플레이에 매우 큰 만족감을 느끼며 모두가 본 받아야 한다”고 했다.\\n\\n이러한 활약을 바탕으로, 2024년 7월 쿠팡플레이 시리즈의 일환으로 열린 토트넘과의 경기에 팀 K리그의 일원으로 출전하여 자신감 넘치는 플레이로 팬들과 세계적인 선수들 앞에서 깊은 인상을 남겼다.\\n\\n2024년 8월에 대전하나시티즌 최초로, 준프로 기간 중 정식 프로 계약을 체결하였으며, 29라운드 광주와의 홈경기에서 선발 출전, 시작 1분이 되지 않아 K리그1 데뷔골을 성공시켰다. 이는 17세 10개월 4일의 득점으로, 구단 및 2013년 승강제 도입 후 최연소 득점 기록으로, K리그 역사의 한 페이지를 작성했다. \\n\\n최상의 데뷔시즌을 보낸 윤도영은 대전하나시티즌 소속으로 2024년 K리그1 19경기 1득점 3도움을 달성하였으며, 마사 등과 팀 내 최다 도움을 달성하였다.\\n\\n2025 시즌 전, AFC U-20 아시안컵(중국) 대표팀에 차출되어 9월 칠레에서 열리는 FIFA U-20 월드컵 본선 진출권을 획득하였다. 전 경기 출전하며 1골1도움을 올리는 등, 대표팀 3위 달성에 결정적 공헌을 하였다.\\n\\n윤도영의 뛰어난 재능과 잠재력은 자연스레 유럽 다수 구단으로부터 주목을 받았으며, 영입에 가장 적극적이고, 빅클럽 이적의 교두보로 불리는 브라이턴으로 최종 이적이 확정되었다. 윤도영은 유럽 이적시장이 열리는 올 여름에 브라이턴에 합류할 예정이다.\\n\\n윤도영은 “대전이라는 팀 덕분에 선수로서 많은 성장을 할 수 있었고 중학교 시절부터 지금까지 대전에서 보낸 만큼 대전에 대한 애정이 너무나 큽니다. 저에게 과분할 만큼 많은 응원, 사랑으로 모든 도움을 주신분들에 대한 감사함 잊지 않겠습니다. 남은 기간 동안 마지막까지 최선을 다해 팀에 보탬이 되도록 더 노력하겠으며, 대전이라는 구단을 빛내는 자랑스러운 선수가 되어 돌아오겠습니다” 라고 소감을 전했다. / 10bird@osen.co.kr\\n\\n[사진] 브라이튼 캡처. '},\n",
              " {'title': '“손흥민보다 높은 연봉 대우” 토트넘, 로메로에 ‘최후통첩’ 준비···그럼에도 로메로는 “챔피언스리그 나서길 원해” 이적 전망',\n",
              "  'main_text': '토트넘 크리스티안 로메로. Getty Images코리아\\n\\n\\n\\n토트넘 홋스퍼의 행보는 참으로 이해할 수 없다.\\n\\n주장 손흥민과의 재계약은 끝내 없었지만 부주장 크리스티안 로메로는 거액의 연봉 인상을 통해서라도 잡으려 하고 있다. 하지만 이마저도 무산될 가능성이 커 보이는 것이 현실이다.\\n\\n토트넘 소식을 전하는 영국 ‘스퍼스웹’은 20일(한국시간) “토트넘, 레알 마드리드의 관심 속에 크리스티안 로메로에게 최후통첩 준비 완료”라는 제목으로 로메로의 재계약 상황과 관련한 소식을 전했다.\\n\\n엔제 포스테코글루 토트넘 감독과 크리스티안 로메로. 영국 ‘스퍼스웹’\\n\\n\\n‘스퍼스웹’은 “토트넘은 로메로와 새로운 계약을 체결하기 위해 그를 설득하는 데 조급해하고 있는 것으로 알려졌으며, 이러한 상황에서 로메로는 여름 이적시장을 앞두고 큰 관심을 받을 예정이다”라고 전했다.\\n\\n이어 “토트넘의 부주장인 로메로는 다가오는 6월, 계약의 마지막 2년을 맞이하게 된다. 현재 토트넘이 로메로와의 장기 재계약을 위해 거액의 연봉 인상을 제안할 준비가 됐다는 소식이 널리 알려져 있다”라고 덧붙였다.\\n\\n그러면서 “하지만 로메로는 아직 결정을 미루고 있는 것으로 보인다”라며 “여러 소식통에 따르면, 로메로는 다음 시즌 챔피언스리그에 나서길 원하고 있으며 그로 인해 토트넘과의 재계약을 주저하고 있다고 알려졌다”라고 전했다.\\n\\n크리스티안 로메로. Getty Images\\n\\n\\n\\n로메로는 토트넘의 핵심 수비수다. 토트넘 합류 후, 리그 정상급 수비수로 올라섰으며 지난 시즌부터는 팀의 부주장을 맡아 주장 손흥민, 또 다른 부주장 제임스 매디슨과 함께 팀을 이끌고 있다.\\n\\n지난해 여름 이적시장부터 레알 마드리드와 연결되고 있다. 수비진 개편을 노리는 레알 마드리드는 로메로를 영입 목표로 낙점했으며, 계속해서 이적설로 연결되며 관심을 드러내고 있다. 현재 다가오는 여름, 레알 마드리드가 로메로 영입을 위해 본격적으로 움직일 것이라는 전망이 지배적인 상태다.\\n\\nspurslive\\n\\n\\n로메로 역시 레알 마드리드의 러브콜이 온다면 이적을 마다하지 않겠다는 입장이다. 지난 19일, 영국 ‘풋볼 인사이더’의 보도에 따르면, “토트넘 전 스카우트 믹 브라운은 만약 레알 마드리드에서 연락이 온다면 로메로는 당연히 이적하고 싶어할 것이라고 밝혔다”라고 보도했다.\\n\\n그러면서 토트넘도 로메로와의 결별을 어느 정도 예감하고 있는 것으로 보인다. ‘스퍼스웹’은 “‘기브미 스포츠’의 보도에 따르면, 로메로가 시즌이 끝나기 전 재계약에 서명하지 않는다면 여름 이적시장에서 그를 현금화할 것이라고 주장했다. 토트넘 내부에서는 이미 최후통첩을 보낼 준비를 마쳤으며, 로메로가 응하지 않는다면 여름에 매각할 것임을 분명히 했다”라고 전했다.\\n\\n토트넘과 로메로의 동행은 결국 다가오는 여름, 끝을 맺게 될까.\\n\\n크리스티안 로메로 Getty Images코리아\\n\\n\\n\\n박찬기 온라인기자 chan@kyunghyang.com'},\n",
              " {'title': '10명의 사령탑 의견 수렴! KBO, 피치클락 세부 시행 세칙 보완…투수 피치클락 위반 이후 타자 타격 결과 무효',\n",
              "  'main_text': '피치클락./롯데 자이언츠\\n\\n[마이데일리 = 이정원 기자] 피치클락 관련 세부 시행 세칙에 일부 변화가 생긴다.\\n\\nKBO는 지난 20일 롯데호텔 월드에서 개최된 ‘2025 신한 SOL Bank KBO 리그 미디어데이 & 팬페스트’에 앞서 KBO 김병주 심판위원장, 진철훈 기록위원장이 참석한 가운데, 10개 구단 감독과 간담회를 가졌다.\\n\\n이날 KBO는 시범경기 기간 중 보완이 필요하다는 의견이 제기된 피치클락 관련 세부 시행 세칙에 대해서 논의하고 감독들의 현장 의견을 수렴했다. 이날 정립된 내용을 바탕으로 내일(22일)부터 열리는 개막전부터는 다음과 같은 세칙이 추가로 적용된다.\\n\\n▲ 투수 피치클락 위반 이후 타자의 타격 결과는 무효\\n\\n‘투수는 피치클락이 만료되기 전(0초 표기 시점)까지 타자에게 투구하는 자연스러운 동작을 시작해야 한다’는 피치클락 규정 관련, 0초 표기 시점까지 투구 동작을 시작하지 않은 경우 즉시 볼데드가 되며 투수에게는 볼이 부과된다.\\n\\n이때 타자의 타격 결과는 인정되지 않고 무효로 처리한다. 타자 또는 포수가 피치클락을 위반하는 경우에도 마찬가지로 볼데드 상황이 된다. 이는 기존에 피치클락 규정에 명시된 사항으로, 규정의 명확한 이해와 일관된 적용을 위해 다시 한번 강조되었다.\\n\\n▲ 타석의 타자가 스윙 후 배트 스프레이를 사용하는 경우 타임 요청 횟수에 포함하지 않기로\\n\\n타자가 스윙 후 배트 스프레이를 사용하는 경우 타임 요청 횟수에 포함하지 않기로 했다. 그러나 스윙 직후가 아닌, 투수가 투구할 준비를 하고 있는 상황에서 타석을 벗어나는 경우는 타임 1회를 사용한 것으로 간주하기로 했다. 타자의 타임 요청은 타석당 2회까지 가능하며, 이를 초과하는 경우 타자에게 스트라이크가 부과된다.\\n\\n▲ 피치클락 잔여 시간을 이용해 투수가 고의적으로 경기를 지연시키면 주의 또는 경고 조치 가능\\n\\n‘불필요한 경기 시간 단축으로 박진감 넘치는 경기 제공’이라는 피치클락 규정 도입 목적과 기존 스피드업 규정에 따라 투수가 피치클락 잔여 시간을 이용해 고의적으로 경기를 지연시킨다고 심판이 판단할 경우, 주의 또는 경고 조치가 가능하다.'},\n",
              " {'title': 'KIA 신인 역전 홈런 사고쳤다… 개막 엔트리 신인 8명 승선, 키움-한화-삼성 대어 신인상 경쟁 스타트',\n",
              "  'main_text': '▲ 1,2차 캠프에 모두 참가하지 않고도 개막 엔트리 승선이라는 역전 레이스를 만들어 낸 KIA 박재현 ⓒKIA타이거즈\\n▲ 시범경기 들어 최고 시속 154km의 강속구를 던지며 코칭스태프와 팬들의 기대를 한몸에 받고 있는 2025년 삼성의 1라운더 배찬승 ⓒ삼성라이온즈\\n\\n\\n[스포티비뉴스=김태우 기자] 인천고를 졸업하고 2025년 신인드래프트에서 KIA의 3라운드(전체 25순위) 지명을 받은 신인 외야수 박재현(19·KIA)은 올해 미 캘리포니아주 어바인에서 열린 팀의 1차 전지훈련에 참가하지 못했다. KIA는 11명의 신인 지명 선수 중 1라운더인 김태형(19)만 캠프에 데리고 갔다.\\n\\n보통 1차 캠프에 합류하는 선수들은 구단이 올 시즌 1군에서 활용하기 위한 전력들이다. 1군 엔트리는 28명이지만, 한 시즌을 치르다보면 부상이나 부진 등으로 대체 자원들이 필요하기 때문이다. 구단마다 상황의 차이는 있지만 대략 40~50명 선의 선수들이 1군에 등록된다. 그런데 박재현은 신인이라 아직은 시간이 필요하다고 봤다. 팀 선수층이 강한 KIA에서는 어쩔 수 없는 일이기도 했다. 우선권을 가진 선배들이 너무 많았다.\\n\\n박재현은 실전 위주의 오키나와 2차 캠프에도 참가하지 못했다. 보통 팀들은 1차 캠프가 끝난 뒤 5~8명 정도의 선수들을 한국에 내려놓고 2차 캠프에 간다. 경기 수는 한정되어 있는데 선수가 너무 많아도 출전 시간을 배분하기가 애매하기 때문이다. 실제 KIA도 일본 고치에서 열린 퓨처스팀(2군) 캠프에서 1군에 올라온 선수는 극소수였다. 박재현은 이 명단에도 없었다. 그렇게 2군 스타트가 확실시되는 듯했다.\\n\\n그런데 시범경기에서 역전 홈런을 쳤다. 박재현은 시범경기 중반 1군의 부름을 받아 테스트를 거쳤다. 이범호 KIA 감독을 비롯해 1군 코칭스태프가 주목한 것은 박재현의 빠른 발이었다. 물리적인 스피드가 김도영만큼 빠른 것은 아니지만 도루 스타트와 슬라이딩 등 여러 기술도 가지고 있었다. KIA는 야수층이 강하지만 팀 전반적으로 기동력이 좋은 팀은 아니다. 실제 나가면 높은 확률로 도루를 성공시킬 만한 대주자 요원이 부족했다. 이 감독은 이 문제의 실마리를 박재현이 풀어 나갈 수 있다고 봤다.\\n\\n여기에 수비에서도 무난한 모습을 보여줬고, 시범경기 내내 타격에서도 쏠쏠한 모습이 있었다. 시범경기 6경기에서 타율 0.417(12타수 5안타)의 좋은 활약을 선보였다. 헛스윙이 적은 모습도 있었고, 자신의 존에 들어오는 공을 야무지게 쳤다. 결국 박재현은 치열한 팀 내 개막 엔트리 경쟁 속에 당당히 이름을 올렸다. 캠프가 시작할 때까지만 해도 누구도 예상하지 못했던 역전 홈런 레이스였다.\\n\\nKBO는 21일 정규시즌 개막(3월 22일)을 하루 앞두고 10개 구단의 엔트리를 발표했다. 관심을 모았던 신인 선수들의 이름도 눈에 보였다. 박재현을 비롯, 배찬승(삼성), 김영우(LG), 권민규 정우주(이상 한화), 권혁빈 여동욱 전태현(이상 키움)까지 총 8명의 신인 선수가 개막 엔트리에 이름을 올렸다.\\n\\n물론 아직 투수들이 100% 다 들어온 건 아니다. 실제 개막 1·2선발을 제외하고 나머지 4~5선발들은 개막부터 엔트리에 들어올 필요가 없다. 다음 주에 등판 일정에 맞춰 순차적으로 등록하면 된다. 이 때문에 이 신인 투수들이 다음 주말까지 생존해 있을지는 봐야 한다. 반대로 정현우(키움)처럼 순번과 등록을 기다리는 선수도 있다. 치열할 것으로 예상되는 신인상 레이스가 벌써부터 불이 붙은 느낌이다.\\n\\n▲ 160km 기대주로 큰 관심을 모으고 있는 정우주는 개막 엔트리 승선이라는 1차 목표를 이뤄냈다. ⓒ한화이글스\\n▲ LG 불펜에 힘을 불어넣어줄 것으로 큰 기대를 모으는 김영우 ⓒ곽혜미 기자\\n\\n\\n배찬승은 일찌감치 개막 엔트리가 확정된 선수다. 올해 1라운드 전체 3순위로 삼성의 유니폼을 입은 배찬승은 시속 154㎞ 수준의 강속구를 던지며 삼성 불펜에 큰 희망을 안겼다. 지난해 마무리캠프, 올해 전지훈련, 그리고 시범경기까지 구위를 이어 가면서 삼성 팬들의 큰 기대를 모았다. 구종은 단조로운 편이지만 안정된 밸런스에서 나오는 좌완의 150㎞ 패스트볼은 항상 매력이 있다. 여기에 좋은 위력을 가진 슬라이더가 뒤를 받친다.\\n\\n삼성은 좌완 불펜 쪽에 구위형 투수가 다소 부족하다는 약점이 있었다. 우완 쪽은 젊은 선수들이 몇몇 나왔지만 좌완은 배찬승이 150㎞를 던질 수 있는 유일한 불펜 자원이라고 해도 과언은 아니다. 박진만 삼성 감독은 오키나와 연습경기 막판부터 배찬승이 이기는 상황에서도 중압감을 이겨낼 수 있는지 실험했을 정도로 기대가 크다. 장기적으로는 선발 쪽에서 육성되어야 할 선수지만, 일단 지금은 불펜에서 1군 경험을 지속적으로 쌓을 가능성이 높다.\\n\\nLG의 1라운드 지명자인 김영우 또한 강력한 구위를 바탕으로 역시 일찌감치 개막 엔트리 진입을 확정한 선수다. 역시 시속 150㎞ 이상을 던질 수 있고, 패스트볼의 세부 내용도 뛰어나다. 회전 수, 수직 무브먼트 모두 일품이다. 지난해 마무리였던 유영찬이 팔꿈치 부상으로 이탈해 언제쯤 복귀할지는 아직 확실하지 않은 LG는 올 시즌을 앞두고 프리에이전트(FA)로 영입한 장현식마저 1차 캠프 막판 발목 부상으로 이탈하며 마무리 자리가 고민이다. 한때 그 자리를 차지할 후보 중 하나로 거론됐을 정도로 구위에 대한 기대감이 크다. 올해 LG 불펜의 재건을 도울 기대주로 뽑힌다.\\n\\n한화는 전체 2순위 지명자인 정우주, 그리고 팀의 2라운드 지명자인 권민규가 모두 1군 엔트리에 합류했다. 두 선수는 캠프 때부터 좋은 활약을 선보이며 김경문 한화 감독의 눈을 사로잡았다. 정우주는 시속 150㎞대 중반의 강속구를 던지는 투수로 이미 고교 시절부터 유명세를 탔던 선수다. 1순위 지명을 받아도 이상하지 않은 선수였다. 정우주는 연습경기와 시범경기에서도 150㎞대 초·중반의 위력적인 패스트볼을 꾸준하게 던지면서 자신의 명성이 과장되지 않음을 증명했다. 한화의 선발진이 어느 정도 다 찬 상황에서 당장 선발로 올라가기는 쉽지 않겠지만, 불펜에서 힘을 보태며 1군 경험을 쌓는다면 유의미한 경력 시작을 알릴 수 있다.\\n\\n권민규는 연습경기와 시범경기까지 전반적인 성적만 놓고 보면 오히려 정우주보다 못할 것이 없었다. 좌완으로 구속이 빠른 선수는 아니지만 안정적인 제구력을 갖춰 캠프 당시부터 한화의 베테랑 코칭스태프들을 깜짝 놀라게 했다. 팀의 좌완 불펜 경쟁을 이겨내며 당당하게 개막 엔트리에 이름을 올렸고, 조만간 1군 데뷔도 기대할 수 있을 것으로 보인다. 안정된 제구력과 배짱이 정규시즌에서도 이어진다면 즉시 전력감으로 활용할 수 있다는 기대감이 크다.\\n\\n리빌딩 절차를 밟고 있는 키움은 대구상원고를 졸업하고 3라운드 지명을 받은 우타 내야수 여동욱, 용마고를 졸업하고 5라운드 지명을 받은 좌타 내야수전태현, 대구고를 졸업하고 7라운드 지명을 받은 우타 내야 권혁빈까지 세 명의 신인 야수들을 1군 엔트리에 등록했다. 지난해에는 상위 지명을 받은 투수들을 집중적으로 시즌 초반에 활용하며 가능성을 타진했다면, 올해는 반대의 양상이라고도 볼 수 있다. 이중 여동욱은 시범경기 10경기에 나서 집중적인 테스트를 받았고 두 개의 홈런을 터뜨리며 장타력이 주목받았다. 전태현도 10경기에서 타율 0.200, 1홈런, 4타점을 기록했다. 이들이 현재 약해진 키움 내야진을 장기적으로 이끌어갈 만한 잠재력을 보여줄 수 있느냐도 시즌 초반 키움의 화제가 될 것으로 보인다.\\n\\n키움은 올라올 선수가 또 있다. 2025년 신인드래프트 1순위 지명자인 대형 좌완 정현우가 그 주인공이다. 정현우는 안정적인 제구력과 위력적인 구위를 모두 갖춘 선수로 벌써부터 완성형 선발이라는 호평이 자자하다. 시범경기 세 차례 등판에서도 11이닝을 던지며 2승 평균자책점 0.82, 피안타율 0.162라는 빼어난 성적으로 선발 로테이션 한 자리를 확정지었다. 정현우는 시범경기 순번상 26일 선발 등판이 유력해 개막 로스터에는 이름이 없었지만, 선발 등판을 앞두고 정상적으로 등록될 전망이다.\\n\\n▲ 시범경기에서 전체 1순위 지명자의 진가를 과시하며 벌써부터 신인상 유력 후보로 치고 나간 키움 정현우 ⓒ 키움 히어로즈'},\n",
              " {'title': '‘배지환 vs 스윈스키’ PIT 마지막 한 자리는 누구에게',\n",
              "  'main_text': '잭 스윈스키 vs 배지환. 사진=게티이미지코리아\\n\\n[동아닷컴]\\n\\n‘배지환 vs 잭 스윈스키‘ 피츠버그 파이어리츠 2025시즌 개막 로스터 한자리를 놓고 다투고 있는 두 선수 중 누가 승리하게 될까.\\n\\n미국 피츠버그 지역 매체 피츠버그 베이스볼 나우는 21일(이하 한국시각) 피츠버그의 2025시즌 개막 로스터 경쟁에 대해 언급했다.\\n\\n배지환. 사진=게티이미지코리아\\n\\n이 매체는 외야수 잭 스윈스키(27)가 개막 로스터에 합류할 것이라 예상했다. 스윈스키와 경쟁하고 있는 선수는 다름 아닌 배지환.\\n\\n배지환은 21일까지 17차례의 시범경기에서 타율 0.444와 1홈런 4타점 12득점 16안타, 출루율 0.474 OPS 1.168 등을 기록했다.\\n\\n배지환. 사진=게티이미지코리아\\n\\n이번 시범경기에서 더 보여줄 수 있는 게 없을 만큼 좋은 모습. 문제는 경쟁을 펼치고 있는 스윈스키 역시 만만치 않다는 것이다.\\n\\n스윈스키는 12차례의 시범경기에서 타율 0.371와 1홈런 9타점 13득점 21안타, 출루율 0.425 OPS 1.025 등을 기록했다.\\n\\n여기에 스윈스키는 지난해 부진한 모습을 보였으나, 2022시즌 19개와 2023시즌 26개의 홈런을 기록한 경력이 있다.\\n\\n잭 스윈스키. 사진=게티이미지코리아\\n\\n즉 스윈스키는 이미 한 차례 검증을 마친 선수인 것. 반면 배지환은 지난 2023시즌 111경기에서 2홈런과 OPS 0.608을 기록하는데 그쳤다.\\n\\n이에 이 매체는 두 선수 중 하나를 택하라면 스윈스키가 개막 로스터에 합류할 것으로 예상했다. 스윈스키가 안정적인 선택이라는 것.\\n\\n배지환. 사진=게티이미지코리아\\n\\n단 배지환은 이미 마이너리그에서 더 보여줄 것이 없는 선수다. 지난해 트리플A 66경기에서 타율 0.342 출루율 0.433 OPS 0.937을 기록했다.\\n\\n또 이번 시범경기에서 놀라운 타격 능력을 자랑하고 있다. 이에 피츠버그가 배지환의 마이너리그행을 쉽사리 결정하지 못하는 것이다.\\n\\n배지환. 사진=게티이미지코리아\\n\\n피츠버그는 오는 22일부터 25일까지 4차례 시범경기를 남겨둔 상황. 배지환이 시범경기 막바지에 더 뜨거운 타격으로 메이저리그 생존에 성공할지 주목된다.\\n\\n조성운 동아닷컴 기자 madduxly@donga.com'}]"
            ]
          },
          "execution_count": 23,
          "metadata": {},
          "output_type": "execute_result"
        }
      ],
      "source": [
        "news_content_list"
      ]
    },
    {
      "cell_type": "code",
      "execution_count": 24,
      "metadata": {
        "id": "tPkn4boZMUKi",
        "outputId": "30e550a3-ac55-4d46-b575-da6ccffad572",
        "scrolled": true
      },
      "outputs": [
        {
          "data": {
            "text/plain": [
              "{'title': \"'6강 보인다' 정관장, DB와 공동 6위 도약…초반 기선제압, '부상병동' KCC 압도\",\n",
              " 'main_text': \"[스포츠조선 최만식 기자] 남자프로농구 안양 정관장이 3연승을 달리며 6강 희망을 이어나갔다.\\n\\n정관장은 21일 안양 정관장아레나에서 벌어진 '2024~2025 KCC 프로농구' KCC와의 홈경기서 초반 여유있는 리드를 끝까지 지키며 91대70으로 대승했다.\\n\\n리그 3연승, KCC전 3연승을 달린 정관장은 20승27패로 원주 DB와 공동 6위에 성공했다.\\n\\n1쿼터부터 우열이 뚜렷했다. 허웅 최준용 송교창 등 3대 에이스가 빠진 KCC는 정관장의 적수가 안되는 듯, 공격과 수비 모두 총체적 난국을 보였다. 여기에 팀 분위기도 크게 떨어진 모습이었다.\\n\\n쿼터 후반이 되도록 4득점에 그칠 정도로 공격 패턴에서 손발이 맞지 않았다. 반면 정관장은 오브라이언트와 디온테 버튼을 적절하게 투입하는 가운데 박지훈의 리드를 앞세워 기선제압에 성공, 1쿼터를 25-12로 마쳤다.\\n\\n2쿼터 KCC의 부진은 계속됐다. 한때 22점 차로 벌어지기도 했다. 쿼터 중반 이후 이근휘의 외곽포가 터지고, 이호현과 캐디 라렌이 득점에 가담하면서 한 자릿수 점수 차 추격 직전까지 갔지만 턴오버로 정관장의 반격을 허용하기 일쑤였다.\\n\\n그나마 전반을 37-50으로 더 벌어지지 않은 채 마친 것은 KCC로서는 다행이었다. 3쿼터 들어서도 KCC가 추격세를 잡으려고 하면 턴오버나 완성도 떨어지는 공격으로 제 발목을 잡는 상황이 계속됐다.\\n\\nKCC가 여전한 난조를 보이는 사이 정관장은 쿼터 종료 5분여 전, 변준형의 뒷공간 기습 침투 레이업으로 58-42로 더 달아났다. 종료 4분19초 전에는 변준형의 3점포까지 터졌다.\\n\\n벤치 스쿼드가 약한 KCC는 식스맨 이주영 정창영 이호현을 번갈아 투입하며 안간힘을 썼다. 반짝 효과는 있었다. 에피스톨라의 연속 득점을 앞세우며 51-61까지 추격했다.\\n\\n하지만 정관장은 박지훈의 쿼터 종료 버저비터를 앞세워 다시 64-51로 달아나며 찬물을 끼얹었다. 짜릿한 버저비터로 신바람을 더한 정관장은 종료 4분26초 전, 무려 24점 차로 성큼 달아나며 일찌감치 승리를 예고했다.\"}"
            ]
          },
          "execution_count": 24,
          "metadata": {},
          "output_type": "execute_result"
        }
      ],
      "source": [
        "news_content_list[0]"
      ]
    },
    {
      "cell_type": "code",
      "execution_count": null,
      "metadata": {
        "id": "Q7eIiJWuMUKi"
      },
      "outputs": [],
      "source": []
    },
    {
      "cell_type": "markdown",
      "metadata": {
        "id": "9-pbt65IMUKi"
      },
      "source": [
        "## 3. 긁어온 기사들을 ChatGPT로 요약하기"
      ]
    },
    {
      "cell_type": "markdown",
      "metadata": {
        "id": "uYhsWHNpMUKi"
      },
      "source": [
        "### 3-1. ChatGPT API 사용해보기"
      ]
    },
    {
      "cell_type": "markdown",
      "metadata": {
        "id": "Bv5kdnolMUKp"
      },
      "source": [
        "OpenAI API 사용법 : https://platform.openai.com/docs/overview"
      ]
    },
    {
      "cell_type": "markdown",
      "metadata": {
        "id": "O7H17bp7MUKq"
      },
      "source": [
        "OpenAI API 사용하기 : https://openai.com/chatgpt/ (product > API Login)"
      ]
    },
    {
      "cell_type": "code",
      "execution_count": null,
      "metadata": {
        "collapsed": true,
        "id": "6d-EDAsTMUKq",
        "outputId": "d9048184-dec4-4575-fb9b-c065f6faedf5"
      },
      "outputs": [
        {
          "name": "stdout",
          "output_type": "stream",
          "text": [
            "Requirement already satisfied: openai in c:\\users\\pnylo\\anaconda3\\lib\\site-packages (1.13.3)\n",
            "Requirement already satisfied: distro<2,>=1.7.0 in c:\\users\\pnylo\\anaconda3\\lib\\site-packages (from openai) (1.9.0)\n",
            "Requirement already satisfied: sniffio in c:\\users\\pnylo\\anaconda3\\lib\\site-packages (from openai) (1.3.1)\n",
            "Requirement already satisfied: anyio<5,>=3.5.0 in c:\\users\\pnylo\\anaconda3\\lib\\site-packages (from openai) (4.3.0)\n",
            "Requirement already satisfied: typing-extensions<5,>=4.7 in c:\\users\\pnylo\\anaconda3\\lib\\site-packages (from openai) (4.10.0)\n",
            "Requirement already satisfied: pydantic<3,>=1.9.0 in c:\\users\\pnylo\\anaconda3\\lib\\site-packages (from openai) (2.6.3)\n",
            "Requirement already satisfied: httpx<1,>=0.23.0 in c:\\users\\pnylo\\anaconda3\\lib\\site-packages (from openai) (0.27.0)\n",
            "Requirement already satisfied: tqdm>4 in c:\\users\\pnylo\\anaconda3\\lib\\site-packages (from openai) (4.50.2)\n",
            "Requirement already satisfied: idna>=2.8 in c:\\users\\pnylo\\anaconda3\\lib\\site-packages (from anyio<5,>=3.5.0->openai) (2.10)\n",
            "Requirement already satisfied: exceptiongroup>=1.0.2; python_version < \"3.11\" in c:\\users\\pnylo\\anaconda3\\lib\\site-packages (from anyio<5,>=3.5.0->openai) (1.2.0)\n",
            "Requirement already satisfied: annotated-types>=0.4.0 in c:\\users\\pnylo\\anaconda3\\lib\\site-packages (from pydantic<3,>=1.9.0->openai) (0.6.0)\n",
            "Requirement already satisfied: pydantic-core==2.16.3 in c:\\users\\pnylo\\anaconda3\\lib\\site-packages (from pydantic<3,>=1.9.0->openai) (2.16.3)\n",
            "Requirement already satisfied: httpcore==1.* in c:\\users\\pnylo\\anaconda3\\lib\\site-packages (from httpx<1,>=0.23.0->openai) (1.0.4)\n",
            "Requirement already satisfied: certifi in c:\\users\\pnylo\\anaconda3\\lib\\site-packages (from httpx<1,>=0.23.0->openai) (2020.6.20)\n",
            "Requirement already satisfied: h11<0.15,>=0.13 in c:\\users\\pnylo\\anaconda3\\lib\\site-packages (from httpcore==1.*->httpx<1,>=0.23.0->openai) (0.14.0)\n"
          ]
        }
      ],
      "source": [
        "!pip install openai"
      ]
    },
    {
      "cell_type": "code",
      "execution_count": null,
      "metadata": {
        "id": "J_4FdFGnMUKq"
      },
      "outputs": [],
      "source": [
        "import os\n",
        "\n",
        "os.environ[\"OPENAI_API_KEY\"] = \"sk-...\""
      ]
    },
    {
      "cell_type": "code",
      "execution_count": null,
      "metadata": {
        "id": "wlb2heXBMUKr",
        "outputId": "0d146833-6727-41c2-8d84-f16e723b0db6",
        "scrolled": true
      },
      "outputs": [
        {
          "name": "stdout",
          "output_type": "stream",
          "text": [
            "ChatCompletionMessage(content='안녕하세요! 어떻게 도와드릴까요?', role='assistant', function_call=None, tool_calls=None)\n"
          ]
        }
      ],
      "source": [
        "from openai import OpenAI\n",
        "client = OpenAI()\n",
        "\n",
        "'''completion = client.chat.completions.create(\n",
        "  model=\"gpt-4o-mini\", #gpt-3.5-turbo-0125\n",
        "  messages=[\n",
        "    {\"role\": \"system\", \"content\": \"You are a poetic assistant, skilled in explaining complex programming concepts with creative flair.\"},\n",
        "    {\"role\": \"user\", \"content\": \"Compose a poem that explains the concept of recursion in programming.\"}\n",
        "  ]\n",
        ")'''\n",
        "\n",
        "completion = client.chat.completions.create(\n",
        "  model=\"gpt-4o-mini\", #gpt-3.5-turbo-0125\n",
        "  messages=[\n",
        "    {\"role\": \"user\", \"content\": \"안녕\"}\n",
        "  ]\n",
        ")\n",
        "\n",
        "print(completion.choices[0].message)"
      ]
    },
    {
      "cell_type": "code",
      "execution_count": null,
      "metadata": {
        "id": "oB9R3rneMUKr",
        "outputId": "e0510202-8e97-4ed0-88d6-5a3533b58aaf"
      },
      "outputs": [
        {
          "name": "stdout",
          "output_type": "stream",
          "text": [
            "안녕하세요! 어떻게 도와드릴까요?\n"
          ]
        }
      ],
      "source": [
        "print(completion.choices[0].message.content)"
      ]
    },
    {
      "cell_type": "code",
      "execution_count": null,
      "metadata": {
        "id": "ntpAXXNCMUKr"
      },
      "outputs": [],
      "source": []
    },
    {
      "cell_type": "markdown",
      "metadata": {
        "id": "cCvcOBCGMUKr"
      },
      "source": [
        "### 3-2. 기사를 요약하고 분석하여 정리하기"
      ]
    },
    {
      "cell_type": "code",
      "execution_count": null,
      "metadata": {
        "id": "yBU0v1mvMUKs",
        "outputId": "42a68db6-4afb-4cc6-8c0c-b824709fd419"
      },
      "outputs": [
        {
          "data": {
            "text/plain": [
              "'“라커룸 안 들어갔다, 에어컨 바람에 땀 식으니까…” 이래서 KIA 176승 대투수, 38분 정전사태에 대처하는 자세[MD대전]'"
            ]
          },
          "execution_count": 29,
          "metadata": {},
          "output_type": "execute_result"
        }
      ],
      "source": [
        "news_content_list[0]['title']"
      ]
    },
    {
      "cell_type": "code",
      "execution_count": null,
      "metadata": {
        "id": "oB8LccMSMUKs",
        "outputId": "9f09d3aa-ae7b-4137-a6d9-f1653cf97cda",
        "scrolled": true
      },
      "outputs": [
        {
          "data": {
            "text/plain": [
              "'양현종/KIA 타이거즈\\n\\n[마이데일리 = 대전 김진성 기자] “최대한 좀 안 들어가려고 했다.”\\n\\n괜히 KIA 타이거즈 대투수가 아니다. 양현종(36)은 3일 대전 한화 이글스전이 18분33분부터 19시11분까지 38분간 정전사태로 중단되자 놀거나 멍 때리지 않았다. 어떻게든 경기 재개 및 등판을 기다리며 만반의 준비를 했다.\\n양현종/KIA 타이거즈\\n\\n산전수전을 겪은 양현종에게도 생소한 일이었다. 2회말 최재훈에게 선제 스리런포를 맞고 이원석을 유격수 땅볼로 처리한 상황. 후속 요나단 페라자를 상대하려고 할 때 갑자기 대전한화생명이글스파크의 전광판과 조명탑, 방송 시스템 모두 먹통이 됐다. 폭염에 의한 전력공급 과부하로 순간적으로 야구장의 운영 시스템이 순식간에 올 스톱.\\n\\n정전이 된 시간은 실제 4분이었다. 그러나 경기는 38분간 중단됐다. 다시 전력을 공급받고 최대치의 출력을 내는데 시간이 필요했다. 팬들이 가장 짜증났지만, 마운드의 양현종도 당황스러웠다. 선수들이 덕아웃으로 철수했고, 기약 없는 기다림을 시작했다.\\n\\n덕아웃에 남아있던 선수들도 있었고, 시원한 라커룸으로 들어가서 대기한 선수들도 있었다는 후문. 양현종은 전자였다. 아니, 19시13분에 경기개시가 예고되자(실제 19시11분에 재개) 곧바로 3루 덕아웃 앞으로 나와 롱토스를 소화하는 모습이 보였다.\\n\\n양현종은 “금방 돌아올 것이라고 생각해서 크게 의식을 안 했다. 감독님이 30분 이상 길어지는데 바꾸는 게 낫지 않겠냐고 했다. 그래도 내가 던지는 경기는 최대한 내가 던지는 게 맞다고 생각했다. 중간 투수들도 너무 고생해서 내가 최대한 컨디션을 조절해서 던지겠다고 말씀 드렸다”라고 했다.\\n\\n양현종은 38분을 어떻게 보냈을까. 일단 에어컨에 나오는 라커룸을 멀리 했다. “안에 들어가면 찬바람이 나오니까. 땀이 식으면 안 된다. 날씨가 덥긴 했지만, 최대한 그 점을 감안했다. 계속 걸으려고 했다”라고 했다. 일부러 더운 라커룸에서 걸어다니면서 최대한 몸에 열을 유지하고자 했다. 그런 다음 롱토스를 했다.\\n\\n결과적으로 양현종은 6이닝 7피안타(1피홈런) 7탈삼진 1볼넷 3실점(2자책)으로 시즌 8승(3패)을 따냈다. 평균자책점을 3.60으로 조금 내렸다. 그는 “초반에 실점했지만, (김)도영이 홈런으로 팀 분위기가 올라왔다. 나도 이기는 상황에는 막아야 한다고 생각하고, 점수를 지켜야 한다고 생각했다”라고 했다.\\n\\n이날 양현종은 최고 144km 포심에 슬라이더와 체인지업으로 잘 나가던 한화 타선을 요리했다. 결과적으로 정전 이후 경기흐름도 KIA로 넘어왔고, 양현종도 상승세를 탔다. 운도 따랐지만, 양현종도 돌발상황에 잘 대처했다.\\n양현종/KIA 타이거즈\\n\\n양현종은 “연패 중에 나가서 부담도 됐는데 선수 전부 연패를 꺼려는 마음이 느껴졌다. 나 또한 연패가 길어지면 순위를 유지하는데 위험하다고 생각했다. 나부터 열심히 던졌다”라고 했다. 그렇게 176승, 2459⅔이닝을 마크했다.'"
            ]
          },
          "execution_count": 30,
          "metadata": {},
          "output_type": "execute_result"
        }
      ],
      "source": [
        "news_content_list[0]['main_text']"
      ]
    },
    {
      "cell_type": "code",
      "execution_count": null,
      "metadata": {
        "id": "5KfqVWC2MUKs",
        "outputId": "f14b406b-2392-40fb-9395-6565a7760840"
      },
      "outputs": [
        {
          "name": "stdout",
          "output_type": "stream",
          "text": [
            "ChatCompletionMessage(content='KIA 타이거즈의 양현종은 정전 사태에도 불구하고 경기를 준비하며 최상의 컨디션을 유지해 6이닝 동안 3실점을 기록하며 시즌 8승을 달성했다. 그는 에어컨 바람을 피하고 더운 라커룸에서 몸의 열을 유지하며 집중력을 잃지 않기 위한 노력을 보여주었다.\\n\\n후속 기사에서는 양현종의 경기 후 인터뷰와 그가 보여준 집중력, 경기 운영과 관련한 기술적인 분석, 혹은 KIA 타이거즈의 팀 분위기와 향후 경기 계획에 대한 내용이 다루어질 가능성이 있다.', role='assistant', function_call=None, tool_calls=None)\n"
          ]
        }
      ],
      "source": [
        "completion = client.chat.completions.create(\n",
        "  model=\"gpt-4o-mini\", #gpt-3.5-turbo-0125\n",
        "  messages=[\n",
        "      {\"role\": \"user\", \"content\":\n",
        "       \"\"\"아래 뉴스 내용을 읽고, 핵심내용을 파악하여 2줄 정도로 요약해주세요. 그리고 이 뉴스기사를 통해 후속 기사는 어떤 내용일 지 추론해 알려주세요.\n",
        "       뉴스 제목 : {}\n",
        "       뉴스 본문 : {}\n",
        "       \"\"\".format(news_content_list[0]['title'], news_content_list[0]['main_text'])}\n",
        "  ]\n",
        ")\n",
        "\n",
        "print(completion.choices[0].message)"
      ]
    },
    {
      "cell_type": "code",
      "execution_count": null,
      "metadata": {
        "id": "JXe3ybpsMUKt",
        "outputId": "ec5eeb07-fc4b-4409-9127-f3f0116b128d"
      },
      "outputs": [
        {
          "name": "stdout",
          "output_type": "stream",
          "text": [
            "KIA 타이거즈의 양현종은 정전 사태에도 불구하고 경기를 준비하며 최상의 컨디션을 유지해 6이닝 동안 3실점을 기록하며 시즌 8승을 달성했다. 그는 에어컨 바람을 피하고 더운 라커룸에서 몸의 열을 유지하며 집중력을 잃지 않기 위한 노력을 보여주었다.\n",
            "\n",
            "후속 기사에서는 양현종의 경기 후 인터뷰와 그가 보여준 집중력, 경기 운영과 관련한 기술적인 분석, 혹은 KIA 타이거즈의 팀 분위기와 향후 경기 계획에 대한 내용이 다루어질 가능성이 있다.\n"
          ]
        }
      ],
      "source": [
        "print(completion.choices[0].message.content)"
      ]
    },
    {
      "cell_type": "markdown",
      "metadata": {
        "id": "LuyXQ5FqMUKu"
      },
      "source": [
        "## 4. 결과물 구글 스프레드 시트에 저장"
      ]
    },
    {
      "cell_type": "markdown",
      "metadata": {
        "id": "a2dJfboyMUKv"
      },
      "source": [
        "구글 클라우드 접속 : https://console.cloud.google.com/"
      ]
    },
    {
      "cell_type": "markdown",
      "metadata": {
        "id": "3vpouJFlMUKv"
      },
      "source": [
        "### 4-1 구글 스프레드 시트에 값 저장하기"
      ]
    },
    {
      "cell_type": "code",
      "execution_count": null,
      "metadata": {
        "collapsed": true,
        "id": "CHFR7lqKMUKw",
        "outputId": "95b2c53a-4f94-435a-e7a5-e0ac10361488"
      },
      "outputs": [
        {
          "name": "stdout",
          "output_type": "stream",
          "text": [
            "Collecting gspread\n",
            "  Downloading gspread-6.1.2-py3-none-any.whl (57 kB)\n",
            "Requirement already satisfied: google-auth>=1.12.0 in c:\\users\\pnylo\\anaconda3\\lib\\site-packages (from gspread) (2.32.0)\n",
            "Collecting google-auth-oauthlib>=0.4.1\n",
            "  Downloading google_auth_oauthlib-1.2.1-py2.py3-none-any.whl (24 kB)\n",
            "Requirement already satisfied: cachetools<6.0,>=2.0.0 in c:\\users\\pnylo\\anaconda3\\lib\\site-packages (from google-auth>=1.12.0->gspread) (5.4.0)\n",
            "Requirement already satisfied: rsa<5,>=3.1.4 in c:\\users\\pnylo\\anaconda3\\lib\\site-packages (from google-auth>=1.12.0->gspread) (4.9)\n",
            "Requirement already satisfied: pyasn1-modules>=0.2.1 in c:\\users\\pnylo\\anaconda3\\lib\\site-packages (from google-auth>=1.12.0->gspread) (0.4.0)\n",
            "Collecting requests-oauthlib>=0.7.0\n",
            "  Downloading requests_oauthlib-2.0.0-py2.py3-none-any.whl (24 kB)\n",
            "Requirement already satisfied: pyasn1>=0.1.3 in c:\\users\\pnylo\\anaconda3\\lib\\site-packages (from rsa<5,>=3.1.4->google-auth>=1.12.0->gspread) (0.6.0)\n",
            "Requirement already satisfied: requests>=2.0.0 in c:\\users\\pnylo\\anaconda3\\lib\\site-packages (from requests-oauthlib>=0.7.0->google-auth-oauthlib>=0.4.1->gspread) (2.31.0)\n",
            "Collecting oauthlib>=3.0.0\n",
            "  Downloading oauthlib-3.2.2-py3-none-any.whl (151 kB)\n",
            "Requirement already satisfied: urllib3<3,>=1.21.1 in c:\\users\\pnylo\\anaconda3\\lib\\site-packages (from requests>=2.0.0->requests-oauthlib>=0.7.0->google-auth-oauthlib>=0.4.1->gspread) (1.26.19)\n",
            "Requirement already satisfied: idna<4,>=2.5 in c:\\users\\pnylo\\anaconda3\\lib\\site-packages (from requests>=2.0.0->requests-oauthlib>=0.7.0->google-auth-oauthlib>=0.4.1->gspread) (2.10)\n",
            "Requirement already satisfied: certifi>=2017.4.17 in c:\\users\\pnylo\\anaconda3\\lib\\site-packages (from requests>=2.0.0->requests-oauthlib>=0.7.0->google-auth-oauthlib>=0.4.1->gspread) (2020.6.20)\n",
            "Requirement already satisfied: charset-normalizer<4,>=2 in c:\\users\\pnylo\\anaconda3\\lib\\site-packages (from requests>=2.0.0->requests-oauthlib>=0.7.0->google-auth-oauthlib>=0.4.1->gspread) (3.3.2)\n",
            "Installing collected packages: oauthlib, requests-oauthlib, google-auth-oauthlib, gspread\n",
            "Successfully installed google-auth-oauthlib-1.2.1 gspread-6.1.2 oauthlib-3.2.2 requests-oauthlib-2.0.0\n"
          ]
        }
      ],
      "source": [
        "!pip install gspread"
      ]
    },
    {
      "cell_type": "code",
      "execution_count": null,
      "metadata": {
        "id": "Q76rBNATMUKx",
        "outputId": "725ef7a7-cdab-4f32-8d84-0bf637e1e90c"
      },
      "outputs": [
        {
          "data": {
            "text/plain": [
              "{'spreadsheetId': '1Q2SUsymwjlzsu_uXX_DgZJBntM96o3mL-vcbM2D-bbA',\n",
              " 'updatedRange': \"'시트1'!A1\",\n",
              " 'updatedRows': 1,\n",
              " 'updatedColumns': 1,\n",
              " 'updatedCells': 1}"
            ]
          },
          "execution_count": 33,
          "metadata": {},
          "output_type": "execute_result"
        }
      ],
      "source": [
        "import gspread\n",
        "\n",
        "json_file_path = \"./key.json\"\n",
        "gc = gspread.service_account(json_file_path)\n",
        "spreadsheet_url = \"https://docs.google.com/spreadsheets/d...\"\n",
        "doc = gc.open_by_url(spreadsheet_url)\n",
        "\n",
        "worksheet = doc.worksheet(\"시트1\")\n",
        "worksheet.update_acell('A1','자동화 완료!')"
      ]
    },
    {
      "cell_type": "markdown",
      "metadata": {
        "id": "Rwe0DW59MUKx"
      },
      "source": [
        "### 4-2 ChatGPT 결과물을 구글 스프레드 시트에 바로 저장하기"
      ]
    },
    {
      "cell_type": "code",
      "execution_count": null,
      "metadata": {
        "id": "SyWg9aZsMUKx",
        "outputId": "41950946-26d1-4a85-c39e-ee1f1a413c57",
        "scrolled": true
      },
      "outputs": [
        {
          "name": "stdout",
          "output_type": "stream",
          "text": [
            "**요약**: KIA 타이거즈의 양현종은 대전 한화 이글스전 중 38분간의 정전사태에서도 몸을 유지하기 위해 라커룸에 들어가지 않고 준비에 만전을 기하며 6이닝 3실점으로 팀 승리에 기여했다. 그의 철저한 대처와 노력이 시즌 8승을 이끌었고, 팀의 연패 탈출에도 일조했다.\n",
            "\n",
            "**후속 기사 추론**: 후속 기사는 양현종의 활약과 함께 KIA 타이거즈의 최근 성과, 팀 순위 변화 및 선수단의 분위기 변화에 대해 다루거나, 향후 경기에 대한 전략과 각 선수들의 역할 변화에 초점을 맞출 가능성이 높다.\n",
            "뉴스 요약: 조슈아 키미히가 김민재의 능력을 높이 평가하며 지원 메시지를 전했다. 김민재는 뮌헨에서 첫 시즌에 고전했지만, 키미히는 그에게 자신감을 회복할 필요가 있다고 강조했다.\n",
            "\n",
            "후속 기사 추론: 후속 기사는 김민재의 시즌 성과와 관련된 분석, 그의 미래를 위한 전략, 그리고 뮌헨의 다음 시즌 목표와 팀 내 변화에 대한 내용이 포함될 가능성이 높다. 또한, 김민재의 위치와 역할에 대한 전문가 의견이나 팬 반응도 다뤄질 수 있다.\n",
            "**요약:** 야구가 2028 LA 올림픽과 2032 브리즈번 올림픽에서 정식 종목으로 복귀하며, 한국 야구는 피치 클락 도입을 통해 경기 시간을 단축하고 중장기 계획을 실행하고 있다. KBO는 2025 시즌부터 피치 클락을 정식 도입할 예정이며, 이는 국제 대회에서의 효율성을 높이기 위한 조치다.\n",
            "\n",
            "**후속 기사 추론:** 후속 기사는 KBO의 피치 클락 도입에 따른 구체적인 규정 변경 사항, 시범 운영 결과, 팀과 선수들의 대응, 그리고 국제 대회에서의 경과 등을 다룰 가능성이 높다. 또한, 올림픽 및 아시안게임에서의 야구 경기 진행 방식 변화에 대한 분석도 포함될 수 있다.\n",
            "요약: 레알 마드리드의 유망 수비수 호안 마르티네스가 훈련장에서 비니시우스 주니오르를 압도하며 팬들의 기대를 모으고 있으며, '제2의 세르히오 라모스'로 불리고 있다. 그는 스페인 U-17 대표팀에서도 활발히 활약하고 있다.\n",
            "\n",
            "후속 기사 추론: 후속 기사는 마르티네스의 훈련 성과와 더불어 그가 1군 경기에 정식으로 출전할 가능성, 팀 내 위치 경쟁 이야기를 다룰 것으로 예상된다. 또한, 그의 성장 과정과 레알 마드리드에서의 미래 전망에 관한 내용도 포함될 수 있다.\n",
            "**요약**: LA 레이커스의 오스틴 리브스는 르브론 제임스를 역대 최고의 선수로 존경하며, 그와 함께 팀에서 뛰는 것에 대해 큰 감사를 표했다. 리브스는 팀의 기존 선수들로서의 협력과 관계의 중요성을 강조하며, 긍정적인 시즌 전망을 밝혔다.\n",
            "\n",
            "**후속 기사 추론**: 후속 기사에서는 리브스와 르브론의 팀워크가 이번 시즌 레이커스의 성과에 미치는 영향, 그리고 리브스가 팀의 핵심 선수로 자리 잡을 가능성이나 현재 팀 구성에 대해 더 깊이 있는 분석이 이어질 것으로 보인다.\n",
            "**요약:** 전 축구 대표팀 이천수는 축구협회에 대한 감사 및 해체를 요구하는 청원이 5만 명을 넘은 상황에서 축구협회의 부적절한 행정과 특혜 논란에 대한 자신의 의견을 밝혔다. 이천수는 과거 축구협회에서 문체부와의 예산 관련 방식에 대해 언급하며, 감사의 필요성을 강조했다.\n",
            "\n",
            "**후속 기사 추론:** 후속 기사에서는 축구협회의 국정감사 결과와 팬들의 반응, 이천수의 발언에 대한 해설 및 축구협회의 향후 대책에 대한 내용을 다룰 가능성이 높다. 또한, 새로운 감독인 홍명보의 역할과 향후 한국 축구의 방향에 대한 논의도 포함될 수 있다.\n"
          ]
        }
      ],
      "source": [
        "for idx, news_content in enumerate(news_content_list):\n",
        "    completion = client.chat.completions.create(\n",
        "      model=\"gpt-4o-mini\", #gpt-3.5-turbo-0125\n",
        "      messages=[\n",
        "          {\"role\": \"user\", \"content\":\n",
        "           \"\"\"아래 뉴스 내용을 읽고, 핵심내용을 파악하여 2줄 정도로 요약해주세요. 그리고 이 뉴스기사를 통해 후속 기사는 어떤 내용일 지 추론해 알려주세요.\n",
        "           뉴스 제목 : {}\n",
        "           뉴스 본문 : {}\n",
        "           \"\"\".format(news_content['title'], news_content['main_text'])}\n",
        "      ]\n",
        "    )\n",
        "\n",
        "    print(completion.choices[0].message.content)\n",
        "    worksheet = doc.worksheet(\"시트2\")\n",
        "    ## 제목 업데이트\n",
        "    worksheet.update_acell('A{}'.format(idx+2),news_content['title'])\n",
        "    ## 본문 업데이트\n",
        "    worksheet.update_acell('B{}'.format(idx+2),news_content['main_text'])\n",
        "    ## ChatGPT 결과물 업데이트\n",
        "    worksheet.update_acell('C{}'.format(idx+2),completion.choices[0].message.content)"
      ]
    },
    {
      "cell_type": "markdown",
      "metadata": {
        "id": "2icHltQdMUKy"
      },
      "source": [
        "### D열에 뉴스 기사 url 도 추가해보자!"
      ]
    },
    {
      "cell_type": "code",
      "execution_count": null,
      "metadata": {
        "id": "dWAfHdUnMUKz",
        "outputId": "74dd9f59-8b7e-47d1-94f5-1361423ba9c2"
      },
      "outputs": [
        {
          "data": {
            "text/plain": [
              "['https://m.sports.naver.com/article/117/0003858181',\n",
              " 'https://m.sports.naver.com/article/413/0000181419',\n",
              " 'https://m.sports.naver.com/article/468/0001082819',\n",
              " 'https://m.sports.naver.com/article/411/0000050114',\n",
              " 'https://m.sports.naver.com/article/398/0000080491',\n",
              " 'https://m.sports.naver.com/article/445/0000222353']"
            ]
          },
          "execution_count": 35,
          "metadata": {},
          "output_type": "execute_result"
        }
      ],
      "source": [
        "news_list"
      ]
    },
    {
      "cell_type": "code",
      "execution_count": null,
      "metadata": {
        "id": "SgFjEF_VMUK0",
        "outputId": "b50d7411-9d5f-4869-ce5f-9a4866e84512",
        "scrolled": true
      },
      "outputs": [
        {
          "name": "stdout",
          "output_type": "stream",
          "text": [
            "**요약:** KIA 타이거즈의 대투수 양현종은 대전 한화 이글스전 중 38분간의 정전사태 속에서도 적절한 대처로 컨디션을 유지하며 6이닝 3실점으로 시즌 8승을 기록했다. 그는 에어컨을 피하고 덥고 힘든 환경에서 몸을 지속적으로 움직이며 경기 준비를 했다고 밝혔다.\n",
            "\n",
            "**후속 기사 추론:** 후속 기사는 양현종의 경기력과 경험을 바탕으로 팀의 연패 탈출에 대한 분석과 KIA 타이거즈의 시즌 전망, 정전 사태 이후 경기 운영의 문제와 개선 방안에 대한 논의가 포함될 것으로 보인다. 또 다른 이야기로는 양현종의 커리어 경로와 그의 역할이 팀에 미치는 영향에 대한 심층 논의가 있을 수 있다.\n",
            "요약: 바이에른 뮌헨의 조슈아 키미히가 김민재의 능력을 강조하며 그를 지지하는 발언을 했고, 김민재는 시즌 초반 주전으로 활약했지만 후반기에 벤치로 밀려났다는 소식이 전해졌다. 뮌헨은 지난 시즌 무관으로 마무리했으나, 키미히는 더욱 강한 팀을 위한 목표를 다짐했다.\n",
            "\n",
            "후속 기사 추론: 후속 기사에서는 김민재의 현재 상황과 향후 계약 가능성에 대한 분석, 혹은 뮌헨의 수비 보강 전략과 팀 구성에 대한 이야기가 다뤄질 것으로 예상된다. 또한 아시안컵 이후 김민재의 역할 변화와 그가 팀에 다시 적응하는 과정에 대한 내용도 포함될 수 있다.\n",
            "요약: 야구가 2028 LA 올림픽과 2032 브리즈번 올림픽에 정식 종목으로 복귀하며, 한국은 중장기 계획을 통해 경쟁력을 강화하고 있다. 피치 클락 규정은 경기 시간 단축을 위해 필수적이며, 2025 KBO리그에서 정식 도입될 예정이다.\n",
            "\n",
            "후속 기사 추론: 후속 기사는 KBO에서의 피치 클락 운영의 실제 사례와 규정 변경이 선수들의 경기력에 미치는 영향, 그리고 올림픽에서의 한국 대표팀의 준비 상황 및 대회 전략을 다룰 가능성이 있다. 추가로, 국제 야구의 저변 확대를 위한 노력과 이와 관련된 각국의 반응도 포함될 수 있다.\n",
            "**요약:** 레알 마드리드의 유망 수비수 호안 마르티네스가 훈련 중 비니시우스 주니오르를 압도하며 팬들의 기대를 모으고 있다. 그의 강력한 수비와 태클은 '제2의 세르히오 라모스'라는 칭호를 받게 했다.\n",
            "\n",
            "**후속 기사 추론:** 후속 기사에서는 마르티네스의 공식 1군 데뷔전에서의 성과와 경기력, 그리고 그가 팀에 미칠 장기적인 영향에 대한 분석이 다뤄질 가능성이 높다. 또한, 레알 마드리드가 마르티네스를 어떻게 활용할지에 대한 감독의 계획과 전략도 포함될 수 있다.\n",
            "핵심 요약: LA 레이커스의 오스틴 리브스가 르브론 제임스를 \"역대 최고의 선수\"로 존경하며, 그의 자기 관리와 팀 내 존재가 인상적이라고 밝혔다. 리브스는 다가오는 시즌에서 르브론과의 호흡을 중요하게 생각하며 긍정적인 전망을 하고 있다.\n",
            "\n",
            "후속 기사 추론: 리브스와 르브론의 관계, 팀워크 그리고 레이커스의 시즌 전망 포함한 분석, 또는 리브스의 성장과 팀 내 역할 변화에 대한 심층 인터뷰가 나올 가능성이 높다.\n",
            "**요약:** 전 축구 대표팀 이천수는 축구협회의 국정감사와 관련해 과거 협회에서 예산을 받기 위해 정부에 빌어야 했던 경험을 언급하며, 협회의 행정 문제와 공정성 부족에 대해 비판하였다. 현재 축구협회에 대한 감사 청원이 5만 명을 넘기며 여론이 악화되고 있다.\n",
            "\n",
            "**후속 기사 추론:** 후속 기사에서는 정부의 감사 결과와 축구협회의 개선 방안, 청원이 진행된 배경 등에 대한 공식 입장과 함께 팬들의 반응을 다룰 가능성이 높다. 또, 축구협회 구성원들의 해명이나 이천수와 같은 전 선수들의 추가 발언이 포함될 수 있다.\n"
          ]
        }
      ],
      "source": [
        "for idx, news_content in enumerate(news_content_list):\n",
        "    completion = client.chat.completions.create(\n",
        "      model=\"gpt-4o-mini\", #gpt-3.5-turbo-0125\n",
        "      messages=[\n",
        "          {\"role\": \"user\", \"content\":\n",
        "           \"\"\"아래 뉴스 내용을 읽고, 핵심내용을 파악하여 2줄 정도로 요약해주세요. 그리고 이 뉴스기사를 통해 후속 기사는 어떤 내용일 지 추론해 알려주세요.\n",
        "           뉴스 제목 : {}\n",
        "           뉴스 본문 : {}\n",
        "           \"\"\".format(news_content['title'], news_content['main_text'])}\n",
        "      ]\n",
        "    )\n",
        "\n",
        "    print(completion.choices[0].message.content)\n",
        "    worksheet = doc.worksheet(\"시트2\")\n",
        "    ## 제목 업데이트\n",
        "    worksheet.update_acell('A{}'.format(idx+2),news_content['title'])\n",
        "    ## 본문 업데이트\n",
        "    worksheet.update_acell('B{}'.format(idx+2),news_content['main_text'])\n",
        "    ## ChatGPT 결과물 업데이트\n",
        "    worksheet.update_acell('C{}'.format(idx+2),completion.choices[0].message.content)\n",
        "    ## 뉴스 링크 추가\n",
        "    worksheet.update_acell('D{}'.format(idx+2),news_list[idx])\n",
        "\n"
      ]
    },
    {
      "cell_type": "code",
      "execution_count": null,
      "metadata": {
        "id": "4T6y2BO2MUK0"
      },
      "outputs": [],
      "source": []
    }
  ],
  "metadata": {
    "colab": {
      "provenance": []
    },
    "kernelspec": {
      "display_name": "env",
      "language": "python",
      "name": "python3"
    },
    "language_info": {
      "codemirror_mode": {
        "name": "ipython",
        "version": 3
      },
      "file_extension": ".py",
      "mimetype": "text/x-python",
      "name": "python",
      "nbconvert_exporter": "python",
      "pygments_lexer": "ipython3",
      "version": "3.12.3"
    }
  },
  "nbformat": 4,
  "nbformat_minor": 0
}
