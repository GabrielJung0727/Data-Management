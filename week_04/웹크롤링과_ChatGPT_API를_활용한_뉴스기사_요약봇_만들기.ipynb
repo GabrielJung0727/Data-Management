{
  "cells": [
    {
      "cell_type": "markdown",
      "metadata": {
        "id": "wA5kRiX-MUKF"
      },
      "source": [
        "## 0. 필요한 패키지 설치하기"
      ]
    },
    {
      "cell_type": "code",
      "execution_count": 1,
      "metadata": {
        "id": "alhkMjUNMUKN",
        "outputId": "e03054f0-6d39-4948-8ea2-53ba63068f7a"
      },
      "outputs": [],
      "source": [
        "from selenium import webdriver\n",
        "from selenium.webdriver.chrome.service import Service\n",
        "from webdriver_manager.chrome import ChromeDriverManager\n",
        "from selenium.webdriver.common.by import By\n",
        "\n",
        "# 올바른 방식\n",
        "service = Service(ChromeDriverManager().install())\n",
        "driver = webdriver.Chrome(service=service)"
      ]
    },
    {
      "cell_type": "markdown",
      "metadata": {
        "id": "iyIQJVzUMUKQ"
      },
      "source": [
        "## 1. 네이버 뉴스의 “스포츠” 카테고리의 모든 기사링크 긁어오기"
      ]
    },
    {
      "cell_type": "markdown",
      "metadata": {
        "id": "7jHm6W3RMUKR"
      },
      "source": [
        "### 1-1. 원하는 사이트를 가져와 창 띄워보기"
      ]
    },
    {
      "cell_type": "code",
      "execution_count": 2,
      "metadata": {
        "id": "gsH_-oQUMUKS"
      },
      "outputs": [],
      "source": [
        "driver.get('https://www.naver.com/')"
      ]
    },
    {
      "cell_type": "markdown",
      "metadata": {
        "id": "Xw2Qrr6XMUKT"
      },
      "source": [
        "### 1-2. 원하는 부분 클릭해보기 & 링크 가져오기"
      ]
    },
    {
      "cell_type": "code",
      "execution_count": 4,
      "metadata": {
        "id": "5yW1v7-5MUKU"
      },
      "outputs": [],
      "source": [
        "driver.get('https://search.naver.com/search.naver?ssc=tab.news.all&where=news&sm=tab_jum&query=ChatGPT')"
      ]
    },
    {
      "cell_type": "code",
      "execution_count": 7,
      "metadata": {
        "id": "JKpcrFDuMUKV"
      },
      "outputs": [
        {
          "data": {
            "text/plain": [
              "\"문서 저장하기\\n대학저널11시간 전\\n연세대 통합디자인학과, ‘합성 기억 워크숍’ 개최\\n모델인 ChatGPT의 도움을 받아 이를 생생하게 서술하는 시간을 가졌다. 톰 클린코스타인 교수는 호프스트라 대학교(Hofstra University) 교수이자 프랫... 참가자들은 유년기 또는 청소년기의 의미 있는 기억을 선별한 뒤, 를 활용해 해당 기억이 미래 삶과 경력에 어떤 영향을 줄 수 있을지를...\\n연세대 통합디자인학과, '합성 기억 워크숍' 국내 최초 개최\\n천지일보12시간 전\\n연세대 통합디자인학과 '합성 기억 워크숍' 국내 최초 개최\\n베리타스알파9시간 전\\n연세대 통합디자인학과, '합성 기억 워크숍' 국내 최초 개최\\n한국금융경제신문11시간 전\\n연세대학교 통합디자인학과, '합성 기억 워크숍' 국내 최초 개최\\n한국강사신문6시간 전\""
            ]
          },
          "execution_count": 7,
          "metadata": {},
          "output_type": "execute_result"
        }
      ],
      "source": [
        "sel = driver.find_element(By.ID, 'sp_nws1')\n",
        "sel.text"
      ]
    },
    {
      "cell_type": "code",
      "execution_count": 8,
      "metadata": {
        "id": "uXkz4FhsMUKV"
      },
      "outputs": [],
      "source": [
        "sel.click()"
      ]
    },
    {
      "cell_type": "markdown",
      "metadata": {
        "id": "k9CE3OwgMUKV"
      },
      "source": [
        "네이버 스포츠 뉴스 링크 : https://sports.news.naver.com/index"
      ]
    },
    {
      "cell_type": "code",
      "execution_count": 9,
      "metadata": {
        "id": "zaACKGnNMUKW"
      },
      "outputs": [],
      "source": [
        "driver.get('https://sports.news.naver.com/index')"
      ]
    },
    {
      "cell_type": "code",
      "execution_count": 10,
      "metadata": {
        "id": "QpiQppFRMUKW"
      },
      "outputs": [],
      "source": [
        "news_links = driver.find_elements(By.CLASS_NAME, 'link_today')"
      ]
    },
    {
      "cell_type": "code",
      "execution_count": 11,
      "metadata": {
        "id": "189E22nmMUKX",
        "outputId": "e1c0dcb2-06f8-463e-e6a8-858f715ae183"
      },
      "outputs": [
        {
          "data": {
            "text/plain": [
              "'https://m.sports.naver.com/article/076/0004256852'"
            ]
          },
          "execution_count": 11,
          "metadata": {},
          "output_type": "execute_result"
        }
      ],
      "source": [
        "news_links[0].get_attribute(\"href\")"
      ]
    },
    {
      "cell_type": "code",
      "execution_count": 12,
      "metadata": {
        "id": "fMq4FDg0MUKX",
        "outputId": "37dfe47f-9a2b-4e04-a010-2afe409d6c26"
      },
      "outputs": [
        {
          "name": "stdout",
          "output_type": "stream",
          "text": [
            "[오늘의  1 번째 뉴스]\n",
            "https://m.sports.naver.com/article/076/0004256852\n",
            "[오늘의  2 번째 뉴스]\n",
            "https://m.sports.naver.com/article/410/0001056817\n",
            "[오늘의  3 번째 뉴스]\n",
            "https://m.sports.naver.com/article/311/0001841126\n",
            "[오늘의  4 번째 뉴스]\n",
            "https://m.sports.naver.com/article/477/0000540507\n",
            "[오늘의  5 번째 뉴스]\n",
            "https://m.sports.naver.com/article/144/0001027000\n",
            "[오늘의  6 번째 뉴스]\n",
            "https://m.sports.naver.com/article/001/0015280578\n"
          ]
        }
      ],
      "source": [
        "cnt = 1\n",
        "for news in news_links:\n",
        "    print(\"[오늘의 \", cnt, \"번째 뉴스]\")\n",
        "    print(news.get_attribute(\"href\"))\n",
        "    cnt+=1"
      ]
    },
    {
      "cell_type": "markdown",
      "metadata": {
        "id": "3kNqfiCmMUKZ"
      },
      "source": [
        "## 2. 각 기사 속 제목과 본문을 긁어오기"
      ]
    },
    {
      "cell_type": "markdown",
      "metadata": {
        "id": "pokjRJjqMUKZ"
      },
      "source": [
        "### 2-1. 각 뉴스 기사 링크에 접속해보기"
      ]
    },
    {
      "cell_type": "code",
      "execution_count": 13,
      "metadata": {
        "id": "Fqxbc-I4MUKa",
        "outputId": "afac0cc1-0878-487a-da24-6c64cc9546fb"
      },
      "outputs": [
        {
          "name": "stdout",
          "output_type": "stream",
          "text": [
            "[오늘의  1 번째 뉴스]\n",
            "https://m.sports.naver.com/article/076/0004256852\n",
            "[오늘의  2 번째 뉴스]\n",
            "https://m.sports.naver.com/article/410/0001056817\n",
            "[오늘의  3 번째 뉴스]\n",
            "https://m.sports.naver.com/article/311/0001841126\n",
            "[오늘의  4 번째 뉴스]\n",
            "https://m.sports.naver.com/article/477/0000540507\n",
            "[오늘의  5 번째 뉴스]\n",
            "https://m.sports.naver.com/article/144/0001027000\n",
            "[오늘의  6 번째 뉴스]\n",
            "https://m.sports.naver.com/article/001/0015280578\n"
          ]
        }
      ],
      "source": [
        "news_list = []\n",
        "\n",
        "cnt = 1\n",
        "for news in news_links:\n",
        "    print(\"[오늘의 \", cnt, \"번째 뉴스]\")\n",
        "    print(news.get_attribute(\"href\"))\n",
        "    news_list.append(news.get_attribute(\"href\"))\n",
        "    cnt+=1"
      ]
    },
    {
      "cell_type": "code",
      "execution_count": 14,
      "metadata": {
        "id": "k3u6U2LqMUKb",
        "outputId": "2f47aa63-db62-4463-a27b-9c301ea15ca6"
      },
      "outputs": [
        {
          "data": {
            "text/plain": [
              "['https://m.sports.naver.com/article/076/0004256852',\n",
              " 'https://m.sports.naver.com/article/410/0001056817',\n",
              " 'https://m.sports.naver.com/article/311/0001841126',\n",
              " 'https://m.sports.naver.com/article/477/0000540507',\n",
              " 'https://m.sports.naver.com/article/144/0001027000',\n",
              " 'https://m.sports.naver.com/article/001/0015280578']"
            ]
          },
          "execution_count": 14,
          "metadata": {},
          "output_type": "execute_result"
        }
      ],
      "source": [
        "news_list"
      ]
    },
    {
      "cell_type": "code",
      "execution_count": 15,
      "metadata": {
        "id": "FnoxBHb8MUKc"
      },
      "outputs": [],
      "source": [
        "for news in news_list:\n",
        "    driver.get(news)"
      ]
    },
    {
      "cell_type": "markdown",
      "metadata": {
        "id": "Kix-IHMkMUKc"
      },
      "source": [
        "### 2-2. 각 뉴스의 제목과 본문을 가져오기"
      ]
    },
    {
      "cell_type": "markdown",
      "metadata": {
        "id": "iTP3aFiMMUKd"
      },
      "source": [
        "**제목 가져오기**"
      ]
    },
    {
      "cell_type": "code",
      "execution_count": 16,
      "metadata": {
        "id": "2IheNlCNMUKd"
      },
      "outputs": [],
      "source": [
        "driver.get(news_list[0])"
      ]
    },
    {
      "cell_type": "code",
      "execution_count": 17,
      "metadata": {
        "id": "1UkTC-KyMUKe"
      },
      "outputs": [],
      "source": [
        "news_title = driver.find_element(By.CLASS_NAME, 'NewsEndMain_article_title__kqEzS')"
      ]
    },
    {
      "cell_type": "code",
      "execution_count": 18,
      "metadata": {
        "id": "moaxJRVNMUKe",
        "outputId": "ba60ed19-d047-4d7d-d699-96c5d6494528"
      },
      "outputs": [
        {
          "data": {
            "text/plain": [
              "<selenium.webdriver.remote.webelement.WebElement (session=\"6e8e3681fa6c4459642f070f1aabd19c\", element=\"f.382918C2F3547DFCC46B0244FACC2E52.d.5E8308BB3C72CC6B941811E5086A7218.e.10887\")>"
            ]
          },
          "execution_count": 18,
          "metadata": {},
          "output_type": "execute_result"
        }
      ],
      "source": [
        "news_title"
      ]
    },
    {
      "cell_type": "code",
      "execution_count": 19,
      "metadata": {
        "id": "S80AqxXhMUKf",
        "outputId": "ed05b6e4-6a7c-46f1-edbc-d18ac7ffa05f"
      },
      "outputs": [
        {
          "data": {
            "text/plain": [
              "'FA 시즌에 선발 탈락, 좌절.. 그런데! → 기막힌 새옹지마. 개막 전날 3선발이 다치다니.. 기회가 이렇게도 오는구나'"
            ]
          },
          "execution_count": 19,
          "metadata": {},
          "output_type": "execute_result"
        }
      ],
      "source": [
        "news_title.text"
      ]
    },
    {
      "cell_type": "markdown",
      "metadata": {
        "id": "3N5Ox5ObMUKf"
      },
      "source": [
        "**본문 가져오기**"
      ]
    },
    {
      "cell_type": "code",
      "execution_count": 20,
      "metadata": {
        "id": "n0O8kgZ6MUKg",
        "outputId": "1a3a2403-7380-45d4-e49d-7f8f1d7cbc8b"
      },
      "outputs": [
        {
          "data": {
            "text/plain": [
              "<selenium.webdriver.remote.webelement.WebElement (session=\"6e8e3681fa6c4459642f070f1aabd19c\", element=\"f.382918C2F3547DFCC46B0244FACC2E52.d.5E8308BB3C72CC6B941811E5086A7218.e.10889\")>"
            ]
          },
          "execution_count": 20,
          "metadata": {},
          "output_type": "execute_result"
        }
      ],
      "source": [
        "driver.find_element(By.CLASS_NAME, '_article_content')"
      ]
    },
    {
      "cell_type": "code",
      "execution_count": 21,
      "metadata": {
        "id": "Yt3VhQP2MUKg",
        "outputId": "150a5901-6622-4a01-9551-9a0353e93158",
        "scrolled": true
      },
      "outputs": [
        {
          "data": {
            "text/plain": [
              "\"9일 청주야구장에서 열린 시범경기 두산-한화전. 두산 선발투수 최원준이 투구하고 있다. 청주=정재근 기자 cjg@sportschosun.com/2025.3.9/\\n9일 청주야구장에서 열린 시범경기 두산-한화전. 두산 선발투수 최원준이 1회를 무실점으로 마치며 내려오고 있다. 청주=정재근 기자 cjg@sportschosun.com/2025.3.9/\\n[스포츠조선 한동훈 기자] 그야말로 하늘이 딱히 여긴 모양이다.\\n\\n동료가 다쳐서 마냥 웃을 수 없는 노릇이지만 어쨌든 기회는 기회다. 두산 5선발에서 탈락한 최원준이 곽빈의 부상으로 마지막 찬스를 얻을 전망이다.\\n\\n최원준은 FA 시즌에 선발 경쟁에서 밀려나며 전망이 어두웠지만 인생사 '새옹지마'를 피부로 느끼게 됐다.\\n\\n두산은 개막 전날인 21일 청천벽력 같은 소식을 전했다.\\n두산은 개막엔트리를 발표하며 선발투수 곽빈과 구원투수 홍건희가 제외된 이유를 공개했다.\\n\\n홍건희는 16일 투구 훈련 중 우측 팔꿈치 통증을 느꼈다. 검진 결과 내측인대 손상 진단을 받았다.\\n\\n곽빈은 19일 퓨처스리그에 등판했다. 투구 도중 좌측 옆구리에 통증을 느꼈다. 내복사근 부분 손상이다.\\n\\n곽빈은 국내 1선발이자 두산 3선발이다.\\n\\n두산은 이미 선발 로테이션을 다 정했다. 콜 어빈-잭 로그-곽빈-최승용-김유성 순서다. 곽빈이 빠지면서 선발투수 1명이 더 필요해졌다. 시범경기 끝까지 5선발 자리를 두고 경합한 최원준이 1순위 후보다.\\n\\n최원준은 5선발 후보였다. 시범경기 2경기에서 7이닝 1실점 평균자책점 1.29로 매우 페이스가 좋았다.\\n\\n9일 청주야구장에서 열린 시범경기 두산-한화전. 두산 선발투수 최원준이 투구하고 있다. 청주=정재근 기자 cjg@sportschosun.com/2025.3.9/\\n하지만 김유성도 만만치 않았다. 김유성은 153km 강속구를 앞세워 신선한 충격을 불러일으켰다. 시범경기 평균자책점은 2.57(7이닝 2실점)으로 최원준보다 살짝 높았다. 하지만 이승엽 두산 감독은 시즌 초반 힘 있는 투수가 더 위력을 발휘할 것이라고 판단해 최원준에게 양해를 구했다.\\n\\n최원준은 결국 구원 임무를 받아들였다. 두산은 시즌 초반 최지강이 합류가 늦어지면서 최원준을 필승카드로 활용하기로 했다.\\n\\n그런데 곽빈이 다쳐 로테이션에 구멍이 생겼다. 곽빈은 약 2주 뒤 재검사를 받아 이상이 없으면 훈련을 재개할 전망이다. 아무리 빨라도 3~4주는 걸린다. 선발 로테이션 4~5회 정도 거른다는 계산이다.\\n\\n대체자 1순위는 바로 최원준이다. '하늘이 준 기회'를 최원준이 어떻게 살릴지 관심을 모은다.\""
            ]
          },
          "execution_count": 21,
          "metadata": {},
          "output_type": "execute_result"
        }
      ],
      "source": [
        "driver.find_element(By.CLASS_NAME, '_article_content').text"
      ]
    },
    {
      "cell_type": "code",
      "execution_count": 22,
      "metadata": {
        "id": "aSpxCI7sMUKh"
      },
      "outputs": [],
      "source": [
        "news_texts = driver.find_element(By.CLASS_NAME, '_article_content')"
      ]
    },
    {
      "cell_type": "code",
      "execution_count": 23,
      "metadata": {
        "id": "sl9A95_PMUKh",
        "outputId": "299f2610-d684-436c-e04b-9b0ce39347b2",
        "scrolled": true
      },
      "outputs": [
        {
          "name": "stdout",
          "output_type": "stream",
          "text": [
            "9일 청주야구장에서 열린 시범경기 두산-한화전. 두산 선발투수 최원준이 투구하고 있다. 청주=정재근 기자 cjg@sportschosun.com/2025.3.9/\n",
            "9일 청주야구장에서 열린 시범경기 두산-한화전. 두산 선발투수 최원준이 1회를 무실점으로 마치며 내려오고 있다. 청주=정재근 기자 cjg@sportschosun.com/2025.3.9/\n",
            "[스포츠조선 한동훈 기자] 그야말로 하늘이 딱히 여긴 모양이다.\n",
            "\n",
            "동료가 다쳐서 마냥 웃을 수 없는 노릇이지만 어쨌든 기회는 기회다. 두산 5선발에서 탈락한 최원준이 곽빈의 부상으로 마지막 찬스를 얻을 전망이다.\n",
            "\n",
            "최원준은 FA 시즌에 선발 경쟁에서 밀려나며 전망이 어두웠지만 인생사 '새옹지마'를 피부로 느끼게 됐다.\n",
            "\n",
            "두산은 개막 전날인 21일 청천벽력 같은 소식을 전했다.\n",
            "두산은 개막엔트리를 발표하며 선발투수 곽빈과 구원투수 홍건희가 제외된 이유를 공개했다.\n",
            "\n",
            "홍건희는 16일 투구 훈련 중 우측 팔꿈치 통증을 느꼈다. 검진 결과 내측인대 손상 진단을 받았다.\n",
            "\n",
            "곽빈은 19일 퓨처스리그에 등판했다. 투구 도중 좌측 옆구리에 통증을 느꼈다. 내복사근 부분 손상이다.\n",
            "\n",
            "곽빈은 국내 1선발이자 두산 3선발이다.\n",
            "\n",
            "두산은 이미 선발 로테이션을 다 정했다. 콜 어빈-잭 로그-곽빈-최승용-김유성 순서다. 곽빈이 빠지면서 선발투수 1명이 더 필요해졌다. 시범경기 끝까지 5선발 자리를 두고 경합한 최원준이 1순위 후보다.\n",
            "\n",
            "최원준은 5선발 후보였다. 시범경기 2경기에서 7이닝 1실점 평균자책점 1.29로 매우 페이스가 좋았다.\n",
            "\n",
            "9일 청주야구장에서 열린 시범경기 두산-한화전. 두산 선발투수 최원준이 투구하고 있다. 청주=정재근 기자 cjg@sportschosun.com/2025.3.9/\n",
            "하지만 김유성도 만만치 않았다. 김유성은 153km 강속구를 앞세워 신선한 충격을 불러일으켰다. 시범경기 평균자책점은 2.57(7이닝 2실점)으로 최원준보다 살짝 높았다. 하지만 이승엽 두산 감독은 시즌 초반 힘 있는 투수가 더 위력을 발휘할 것이라고 판단해 최원준에게 양해를 구했다.\n",
            "\n",
            "최원준은 결국 구원 임무를 받아들였다. 두산은 시즌 초반 최지강이 합류가 늦어지면서 최원준을 필승카드로 활용하기로 했다.\n",
            "\n",
            "그런데 곽빈이 다쳐 로테이션에 구멍이 생겼다. 곽빈은 약 2주 뒤 재검사를 받아 이상이 없으면 훈련을 재개할 전망이다. 아무리 빨라도 3~4주는 걸린다. 선발 로테이션 4~5회 정도 거른다는 계산이다.\n",
            "\n",
            "대체자 1순위는 바로 최원준이다. '하늘이 준 기회'를 최원준이 어떻게 살릴지 관심을 모은다.\n"
          ]
        }
      ],
      "source": [
        "print(news_texts.text)"
      ]
    },
    {
      "cell_type": "markdown",
      "metadata": {
        "id": "LjoUljpxMUKh"
      },
      "source": [
        "**전체 기사별 제목과 본문 한번에 가져오기**"
      ]
    },
    {
      "cell_type": "code",
      "execution_count": 24,
      "metadata": {
        "id": "CV5Z5DUPMUKh"
      },
      "outputs": [],
      "source": [
        "import time\n",
        "\n",
        "news_content_list = []\n",
        "for news in news_list:\n",
        "    news_content = dict()\n",
        "    # 뉴스 링크 접속\n",
        "    driver.get(news)\n",
        "    time.sleep(2) # 사이트가 로딩될 때 까지 기다림\n",
        "    # 뉴스 제목 가져오기\n",
        "    news_title = driver.find_element(By.CLASS_NAME, 'NewsEndMain_article_title__kqEzS')\n",
        "    news_content['title'] = news_title.text\n",
        "    # 뉴스 본문 가져오기\n",
        "    news_texts = driver.find_element(By.CLASS_NAME, '_article_content')\n",
        "    news_content['main_text'] = news_texts.text\n",
        "    news_content_list.append(news_content)"
      ]
    },
    {
      "cell_type": "code",
      "execution_count": 27,
      "metadata": {
        "id": "ci2Qk05iMUKh",
        "outputId": "76932604-5b0e-4da0-eb20-e3a2a0e2a7cc"
      },
      "outputs": [
        {
          "data": {
            "text/plain": [
              "[{'title': 'FA 시즌에 선발 탈락, 좌절.. 그런데! → 기막힌 새옹지마. 개막 전날 3선발이 다치다니.. 기회가 이렇게도 오는구나',\n",
              "  'main_text': \"9일 청주야구장에서 열린 시범경기 두산-한화전. 두산 선발투수 최원준이 투구하고 있다. 청주=정재근 기자 cjg@sportschosun.com/2025.3.9/\\n9일 청주야구장에서 열린 시범경기 두산-한화전. 두산 선발투수 최원준이 1회를 무실점으로 마치며 내려오고 있다. 청주=정재근 기자 cjg@sportschosun.com/2025.3.9/\\n[스포츠조선 한동훈 기자] 그야말로 하늘이 딱히 여긴 모양이다.\\n\\n동료가 다쳐서 마냥 웃을 수 없는 노릇이지만 어쨌든 기회는 기회다. 두산 5선발에서 탈락한 최원준이 곽빈의 부상으로 마지막 찬스를 얻을 전망이다.\\n\\n최원준은 FA 시즌에 선발 경쟁에서 밀려나며 전망이 어두웠지만 인생사 '새옹지마'를 피부로 느끼게 됐다.\\n\\n두산은 개막 전날인 21일 청천벽력 같은 소식을 전했다.\\n두산은 개막엔트리를 발표하며 선발투수 곽빈과 구원투수 홍건희가 제외된 이유를 공개했다.\\n\\n홍건희는 16일 투구 훈련 중 우측 팔꿈치 통증을 느꼈다. 검진 결과 내측인대 손상 진단을 받았다.\\n\\n곽빈은 19일 퓨처스리그에 등판했다. 투구 도중 좌측 옆구리에 통증을 느꼈다. 내복사근 부분 손상이다.\\n\\n곽빈은 국내 1선발이자 두산 3선발이다.\\n\\n두산은 이미 선발 로테이션을 다 정했다. 콜 어빈-잭 로그-곽빈-최승용-김유성 순서다. 곽빈이 빠지면서 선발투수 1명이 더 필요해졌다. 시범경기 끝까지 5선발 자리를 두고 경합한 최원준이 1순위 후보다.\\n\\n최원준은 5선발 후보였다. 시범경기 2경기에서 7이닝 1실점 평균자책점 1.29로 매우 페이스가 좋았다.\\n\\n9일 청주야구장에서 열린 시범경기 두산-한화전. 두산 선발투수 최원준이 투구하고 있다. 청주=정재근 기자 cjg@sportschosun.com/2025.3.9/\\n하지만 김유성도 만만치 않았다. 김유성은 153km 강속구를 앞세워 신선한 충격을 불러일으켰다. 시범경기 평균자책점은 2.57(7이닝 2실점)으로 최원준보다 살짝 높았다. 하지만 이승엽 두산 감독은 시즌 초반 힘 있는 투수가 더 위력을 발휘할 것이라고 판단해 최원준에게 양해를 구했다.\\n\\n최원준은 결국 구원 임무를 받아들였다. 두산은 시즌 초반 최지강이 합류가 늦어지면서 최원준을 필승카드로 활용하기로 했다.\\n\\n그런데 곽빈이 다쳐 로테이션에 구멍이 생겼다. 곽빈은 약 2주 뒤 재검사를 받아 이상이 없으면 훈련을 재개할 전망이다. 아무리 빨라도 3~4주는 걸린다. 선발 로테이션 4~5회 정도 거른다는 계산이다.\\n\\n대체자 1순위는 바로 최원준이다. '하늘이 준 기회'를 최원준이 어떻게 살릴지 관심을 모은다.\"},\n",
              " {'title': '19번째 한국인 프리미어리거 탄생! 윤도영, 日 미토마 활약 중인 브라이턴 이적 확정···“대전을 빛낸 자랑스러운 선수 될 것”',\n",
              "  'main_text': '19번째 한국인 프리미어리거가 탄생했다.\\n\\n대전하나시티즌은 3월 21일 “윤도영(18)이 잉글랜드 프리미어리그(EPL) 브라이턴 앤 호브 앨비언으로 이적한다”며 “유럽 이적 시장이 문을 여는 올여름 브라이턴에 합류할 것”이라고 전했다.\\n\\n브라이턴도 홈페이지를 통해 윤도영 영입을 알렸다.\\n\\n윤도영. 사진=이근승 기자\\n윤도영이 경기 전 팬들에게 사인을 해주고 있다. 사진=이근승 기자\\n‘대전의 아들’ 윤도영(사진 왼쪽). 사진=이근승 기자\\n브라이턴은 “윤도영은 이적 시장이 문을 여는 7월 1일 팀에 합류한다. 계약 기간은 2030년 6월까지다. 다만, 다음 시즌엔 (다른 팀으로) 임대를 가야 할 것”이라고 전했다.\\n\\n윤도영은 2006년생이다. 18세 4개월 24일의 나이로 EPL 구단과 계약을 맺었다.\\n박지성, 이영표, 설기현, 이동국, 김두현 등에 이어 19번째다. 현재는 손흥민, 황희찬, 김지수가 EPL에서 활약 중이다.\\n\\n윤도영과 동갑내기 친구인 양민혁은 1월 토트넘 합류 후 잉글랜드 챔피언십(2부) 퀸즈 파크 레인저스로 임대 이적해 경험을 쌓고 있다.\\n\\n윤도영도 2025-26시즌엔 임대를 떠나 경험을 쌓을 것으로 보인다.\\n\\n윤도영은 대전 유소년 팀에서 성장해 지난해 K리그1에 데뷔했다.\\n\\n윤도영은 지난 시즌 K리그1 9경기에서 1골 3도움을 기록했다. 올 시즌엔 K리그1 3경기에 출전 중이다.\\n\\n드리블을 시도하는 윤도영. 사진=천정환 기자\\n윤도영은 대전을 통해 “대전이란 팀을 만나 큰 성장을 이룰 수 있었다”며 “중학교 때부터 대전에서 기량을 갈고닦았던 만큼 이 팀을 향한 애정이 아주 크다”고 전했다.\\n\\n이어 “대전이란 구단을 빛내는 자랑스러운 선수가 되겠다. 내게 과분할 만큼 큰 응원과 사랑을 보내주신 분들께 감사함을 잊지 않겠다”고 했다.\\n\\n브라이턴엔 일본 축구 대표팀 공격 핵심 미토마 카오루가 활약하고 있다.\\n\\n브라이턴은 올 시즌 EPL 29경기에서 12승 11무 6패(승점 47점)를 기록하고 있다. 브라이턴은 EPL 20개 구단 가운데 7위에 올라 있다.\\n\\n윤도영(사진 왼쪽). 사진=이근승 기자\\n[이근승 MK스포츠 기자]'},\n",
              " {'title': '\\'SON보다 많은 돈? 필요 없어\\' 부주장 토트넘 떠날 준비…\"유럽 대회 성적 불만\"→\"챔스 뛰는 레알 원한다\" 최후통첩 예고',\n",
              "  'main_text': '(엑스포츠뉴스 나승우 기자) 토트넘 홋스퍼가 부주장 크리스티안 로메로에게 ‘최후통첩’을 준비하고 있다는 보도가 나왔다.\\n\\n계약 기간 만료까지 2년이 채 남지 않은 상황에서 세계 최고 명문 레알 마드리드가 로메로에게 관심을 보이고 있는 가운데, 토트넘은 이번 여름까지 재계약이 성사되지 않으면 로메로를 매각하겠다는 입장을 굳힌 것으로 보인다.\\n\\n토트넘 소식을 전문적으로 다루는 스퍼스웹은 20일(한국시간) “토트넘이 로메로와의 재계약 협상에 점점 피로감을 느끼고 있다. 여름 이적시장을 앞두고 중대한 결정을 내릴 시점이 다가오고 있다”고 보도했다.\\n\\n애초 토트넘은 로메로와 장기 계약을 통해 핵심 수비수로 묶어두려 했지만, 로메로 측 반응이 소극적으로 흐르자 구단 역시 입장을 선회한 모습이다. \\n\\n보도에 따르면 로메로는 오는 6월이 되면 계약 만료까지 정확히 2년이 남는다. 토트넘은 이 시점을 기점으로 재계약 협상을 마무리 짓고자 했고, 상당한 급여 인상도 제안한 상태다.\\n\\n\\n\\n하지만 로메로는 다음 시즌 유럽축구연맹(UEFA) 챔피언스리그 무대를 원하고 있다. 현재 프리미어리그 중위권을 벗어나지 못하고 있는 토트넘으로서는 로메로의 요구를 충족시키기 어렵다는 점에서 재계약에 대한 로메로의 고민도 깊어지고 있다.\\n\\n스페인 마드리드유니버셜은 \"레알 마드리드가 진정한 관심을 보인다면 로메로는 카를로 안첼로티 감독 스쿼드에 합류할 의향이 충분할 것이다. 로메로는 안지 포스테코글루 감독 수비진에서 핵심 인물이지만 토트넘이 유럽 대회에서 꾸준한 존재감을 보여주지 못하면서 새로운 도전을 모색할 가능성이 있다\"고 로메로 역시 흔들릴 수 있다고 보도했다.\\n이런 상황에서 토트넘도 로메로에게 최후통첩을 보낼 계획이다.\\n\\n스퍼스웹은 영국 매체 기브미스포츠를 인용해 “토트넘은 로메로가 이번 시즌이 끝나기 전까지 계약서에 사인하지 않을 경우, 곧바로 매각 대상으로 전환할 계획”이라고 전했다. 이어 “구단 고위층은 로메로 측에 이 같은 방침을 전달할 예정이며, 이는 곧 ‘최후통첩’이 될 것”이라고 덧붙였다.\\n\\n구체적인 계약 조건도 일부 알려졌다. 매체는 “토트넘은 로메로가 재계약에 합의할 경우 구단 내 최고 연봉자 반열에 올릴 준비가 되어 있다”며 “하지만 만약 거부할 경우 6000만 파운드(약 1142억원)의 가격표를 붙이고 여름 이적시장에 내놓을 방침”이라고 전했다.\\n\\n\\n\\n토트넘은 여전히 로메로의 잔류를 우선순위에 두고 있으나 만약 로메로가 이를 거부한다면 최소한의 투자 회수 차원에서라도 이적료 확보를 택할 수밖에 없다는 판단이다. 게다가 로메로에게 관심을 보내고 있는 구단이 바로 레알 마드리드라는 점에서 매각 시 기대할 수 있는 수익도 상당하다.\\n\\n문제는 레알 마드리드가 올여름 이적시장에서 로메로를 최우선 타깃으로 두고 있는가 하는 점이다. 현재 팀 내 수비진이 부상으로 고전하고 있는 것은 사실이지만 로메로 외에도 이브라히마 코나테(리버풀), 딘 하위선(본머스), 윌리엄 살리바(아스널) 등 다수의 대체 후보들을 주시하고 있는 상황이다. 이적 자금 운용 면에서도 더 합리적인 선택지가 있다면 로메로를 포기할 가능성도 충분하다.\\n\\n영국 매체 풋볼팬캐스트는 \"올해 여름은 토트넘에게 매우 중요한 여름이 될 것으로 보인다. 적절한 선수 영입도 중요하지만 팀의 최고 선수를 유지하는 것도 마찬가지\"라면서 \"로메로가 이번 여름 레알 마드리드로 이적할 가능성이 있다는 보도가 나왔다. 로메로 역시 스페인 거물 구단에서 뛰고 싶다는 마음을 감추지 않았다\"고 보도했다.\\n\\n매체에 따르면 로메로 역시 레알 마드리드 이적을 원하고 있다. 레알 마드리드가 영입을 결정할 경우 로메로 역시 이적을 결심할 의향이 있는 것으로 밝혀졌다.\\n\\n\\n\\n그러나 풋볼팬캐스트는 \"현재로서 레알 마드리드는 로메로를 영입할 수 있는 몇 안 되는 옵션 중 하나로만 보고 있다. 로메로의 계약이 2년 후에 만료된다는 사실을 고려하면 로메로를 영입하는 것이 다른 타깃보다 현실적이라고 할 수 있다\"며 레알이 로메로를 그저 후보 중 한 명으로 보고 있다고 강조하기도 했다.\\n\\n스퍼스웹은 “레알 마드리드가 로메로 영입을 시도할 것이란 기대가 커지고 있지만, 레알은 다른 수비수들에 대해서도 활발히 움직이고 있다”며 로메로가 우선순위가 아닐 수도 있다는 점을 시사했다. 이 같은 불확실성은 토트넘에게도 부담으로 작용할 수 있다.\\n\\n만약 로메로와의 재계약 협상이 지지부진한 상황에서 레알 마드리드마저 관심을 접는다면 토트넘은 로메로를 붙잡지도, 매각하지도 못한 채 애매한 입장에 놓일 수 있다. 로메로가 팀 내에서 부주장 직책을 맡고 있는 만큼 이적과 관련된 잡음은 곧바로 라커룸 분위기에도 영향을 미칠 수 있다는 점에서 토트넘으로선 신속한 결단이 필요하다.\\n\\n사진=연합뉴스'},\n",
              " {'title': 'KIA 신인 역전 홈런 사고쳤다… 개막 엔트리 신인 8명 승선, 키움-한화-삼성 대어 신인상 경쟁 스타트',\n",
              "  'main_text': '▲ 1,2차 캠프에 모두 참가하지 않고도 개막 엔트리 승선이라는 역전 레이스를 만들어 낸 KIA 박재현 ⓒKIA타이거즈\\n▲ 시범경기 들어 최고 시속 154km의 강속구를 던지며 코칭스태프와 팬들의 기대를 한몸에 받고 있는 2025년 삼성의 1라운더 배찬승 ⓒ삼성라이온즈\\n\\n\\n[스포티비뉴스=김태우 기자] 인천고를 졸업하고 2025년 신인드래프트에서 KIA의 3라운드(전체 25순위) 지명을 받은 신인 외야수 박재현(19·KIA)은 올해 미 캘리포니아주 어바인에서 열린 팀의 1차 전지훈련에 참가하지 못했다. KIA는 11명의 신인 지명 선수 중 1라운더인 김태형(19)만 캠프에 데리고 갔다.\\n\\n보통 1차 캠프에 합류하는 선수들은 구단이 올 시즌 1군에서 활용하기 위한 전력들이다. 1군 엔트리는 28명이지만, 한 시즌을 치르다보면 부상이나 부진 등으로 대체 자원들이 필요하기 때문이다. 구단마다 상황의 차이는 있지만 대략 40~50명 선의 선수들이 1군에 등록된다. 그런데 박재현은 신인이라 아직은 시간이 필요하다고 봤다. 팀 선수층이 강한 KIA에서는 어쩔 수 없는 일이기도 했다. 우선권을 가진 선배들이 너무 많았다.\\n\\n박재현은 실전 위주의 오키나와 2차 캠프에도 참가하지 못했다. 보통 팀들은 1차 캠프가 끝난 뒤 5~8명 정도의 선수들을 한국에 내려놓고 2차 캠프에 간다. 경기 수는 한정되어 있는데 선수가 너무 많아도 출전 시간을 배분하기가 애매하기 때문이다. 실제 KIA도 일본 고치에서 열린 퓨처스팀(2군) 캠프에서 1군에 올라온 선수는 극소수였다. 박재현은 이 명단에도 없었다. 그렇게 2군 스타트가 확실시되는 듯했다.\\n\\n그런데 시범경기에서 역전 홈런을 쳤다. 박재현은 시범경기 중반 1군의 부름을 받아 테스트를 거쳤다. 이범호 KIA 감독을 비롯해 1군 코칭스태프가 주목한 것은 박재현의 빠른 발이었다. 물리적인 스피드가 김도영만큼 빠른 것은 아니지만 도루 스타트와 슬라이딩 등 여러 기술도 가지고 있었다. KIA는 야수층이 강하지만 팀 전반적으로 기동력이 좋은 팀은 아니다. 실제 나가면 높은 확률로 도루를 성공시킬 만한 대주자 요원이 부족했다. 이 감독은 이 문제의 실마리를 박재현이 풀어 나갈 수 있다고 봤다.\\n여기에 수비에서도 무난한 모습을 보여줬고, 시범경기 내내 타격에서도 쏠쏠한 모습이 있었다. 시범경기 6경기에서 타율 0.417(12타수 5안타)의 좋은 활약을 선보였다. 헛스윙이 적은 모습도 있었고, 자신의 존에 들어오는 공을 야무지게 쳤다. 결국 박재현은 치열한 팀 내 개막 엔트리 경쟁 속에 당당히 이름을 올렸다. 캠프가 시작할 때까지만 해도 누구도 예상하지 못했던 역전 홈런 레이스였다.\\n\\nKBO는 21일 정규시즌 개막(3월 22일)을 하루 앞두고 10개 구단의 엔트리를 발표했다. 관심을 모았던 신인 선수들의 이름도 눈에 보였다. 박재현을 비롯, 배찬승(삼성), 김영우(LG), 권민규 정우주(이상 한화), 권혁빈 여동욱 전태현(이상 키움)까지 총 8명의 신인 선수가 개막 엔트리에 이름을 올렸다.\\n\\n물론 아직 투수들이 100% 다 들어온 건 아니다. 실제 개막 1·2선발을 제외하고 나머지 4~5선발들은 개막부터 엔트리에 들어올 필요가 없다. 다음 주에 등판 일정에 맞춰 순차적으로 등록하면 된다. 이 때문에 이 신인 투수들이 다음 주말까지 생존해 있을지는 봐야 한다. 반대로 정현우(키움)처럼 순번과 등록을 기다리는 선수도 있다. 치열할 것으로 예상되는 신인상 레이스가 벌써부터 불이 붙은 느낌이다.\\n\\n▲ 160km 기대주로 큰 관심을 모으고 있는 정우주는 개막 엔트리 승선이라는 1차 목표를 이뤄냈다. ⓒ한화이글스\\n▲ LG 불펜에 힘을 불어넣어줄 것으로 큰 기대를 모으는 김영우 ⓒ곽혜미 기자\\n\\n\\n배찬승은 일찌감치 개막 엔트리가 확정된 선수다. 올해 1라운드 전체 3순위로 삼성의 유니폼을 입은 배찬승은 시속 154㎞ 수준의 강속구를 던지며 삼성 불펜에 큰 희망을 안겼다. 지난해 마무리캠프, 올해 전지훈련, 그리고 시범경기까지 구위를 이어 가면서 삼성 팬들의 큰 기대를 모았다. 구종은 단조로운 편이지만 안정된 밸런스에서 나오는 좌완의 150㎞ 패스트볼은 항상 매력이 있다. 여기에 좋은 위력을 가진 슬라이더가 뒤를 받친다.\\n\\n삼성은 좌완 불펜 쪽에 구위형 투수가 다소 부족하다는 약점이 있었다. 우완 쪽은 젊은 선수들이 몇몇 나왔지만 좌완은 배찬승이 150㎞를 던질 수 있는 유일한 불펜 자원이라고 해도 과언은 아니다. 박진만 삼성 감독은 오키나와 연습경기 막판부터 배찬승이 이기는 상황에서도 중압감을 이겨낼 수 있는지 실험했을 정도로 기대가 크다. 장기적으로는 선발 쪽에서 육성되어야 할 선수지만, 일단 지금은 불펜에서 1군 경험을 지속적으로 쌓을 가능성이 높다.\\n\\nLG의 1라운드 지명자인 김영우 또한 강력한 구위를 바탕으로 역시 일찌감치 개막 엔트리 진입을 확정한 선수다. 역시 시속 150㎞ 이상을 던질 수 있고, 패스트볼의 세부 내용도 뛰어나다. 회전 수, 수직 무브먼트 모두 일품이다. 지난해 마무리였던 유영찬이 팔꿈치 부상으로 이탈해 언제쯤 복귀할지는 아직 확실하지 않은 LG는 올 시즌을 앞두고 프리에이전트(FA)로 영입한 장현식마저 1차 캠프 막판 발목 부상으로 이탈하며 마무리 자리가 고민이다. 한때 그 자리를 차지할 후보 중 하나로 거론됐을 정도로 구위에 대한 기대감이 크다. 올해 LG 불펜의 재건을 도울 기대주로 뽑힌다.\\n\\n한화는 전체 2순위 지명자인 정우주, 그리고 팀의 2라운드 지명자인 권민규가 모두 1군 엔트리에 합류했다. 두 선수는 캠프 때부터 좋은 활약을 선보이며 김경문 한화 감독의 눈을 사로잡았다. 정우주는 시속 150㎞대 중반의 강속구를 던지는 투수로 이미 고교 시절부터 유명세를 탔던 선수다. 1순위 지명을 받아도 이상하지 않은 선수였다. 정우주는 연습경기와 시범경기에서도 150㎞대 초·중반의 위력적인 패스트볼을 꾸준하게 던지면서 자신의 명성이 과장되지 않음을 증명했다. 한화의 선발진이 어느 정도 다 찬 상황에서 당장 선발로 올라가기는 쉽지 않겠지만, 불펜에서 힘을 보태며 1군 경험을 쌓는다면 유의미한 경력 시작을 알릴 수 있다.\\n\\n권민규는 연습경기와 시범경기까지 전반적인 성적만 놓고 보면 오히려 정우주보다 못할 것이 없었다. 좌완으로 구속이 빠른 선수는 아니지만 안정적인 제구력을 갖춰 캠프 당시부터 한화의 베테랑 코칭스태프들을 깜짝 놀라게 했다. 팀의 좌완 불펜 경쟁을 이겨내며 당당하게 개막 엔트리에 이름을 올렸고, 조만간 1군 데뷔도 기대할 수 있을 것으로 보인다. 안정된 제구력과 배짱이 정규시즌에서도 이어진다면 즉시 전력감으로 활용할 수 있다는 기대감이 크다.\\n\\n리빌딩 절차를 밟고 있는 키움은 대구상원고를 졸업하고 3라운드 지명을 받은 우타 내야수 여동욱, 용마고를 졸업하고 5라운드 지명을 받은 좌타 내야수전태현, 대구고를 졸업하고 7라운드 지명을 받은 우타 내야 권혁빈까지 세 명의 신인 야수들을 1군 엔트리에 등록했다. 지난해에는 상위 지명을 받은 투수들을 집중적으로 시즌 초반에 활용하며 가능성을 타진했다면, 올해는 반대의 양상이라고도 볼 수 있다. 이중 여동욱은 시범경기 10경기에 나서 집중적인 테스트를 받았고 두 개의 홈런을 터뜨리며 장타력이 주목받았다. 전태현도 10경기에서 타율 0.200, 1홈런, 4타점을 기록했다. 이들이 현재 약해진 키움 내야진을 장기적으로 이끌어갈 만한 잠재력을 보여줄 수 있느냐도 시즌 초반 키움의 화제가 될 것으로 보인다.\\n\\n키움은 올라올 선수가 또 있다. 2025년 신인드래프트 1순위 지명자인 대형 좌완 정현우가 그 주인공이다. 정현우는 안정적인 제구력과 위력적인 구위를 모두 갖춘 선수로 벌써부터 완성형 선발이라는 호평이 자자하다. 시범경기 세 차례 등판에서도 11이닝을 던지며 2승 평균자책점 0.82, 피안타율 0.162라는 빼어난 성적으로 선발 로테이션 한 자리를 확정지었다. 정현우는 시범경기 순번상 26일 선발 등판이 유력해 개막 로스터에는 이름이 없었지만, 선발 등판을 앞두고 정상적으로 등록될 전망이다.\\n\\n▲ 시범경기에서 전체 1순위 지명자의 진가를 과시하며 벌써부터 신인상 유력 후보로 치고 나간 키움 정현우 ⓒ 키움 히어로즈'},\n",
              " {'title': '타율 0.444·OPS 1.168, 이런 활약에도 배지환 발탁을 고민하는 피츠버그, 왜?',\n",
              "  'main_text': '피츠버그 배지환. 게티이미지코리아\\n\\n\\n막바지를 향해 가는 피츠버그 파이리츠의 개막 로스터 결정 작업. 다수 선수들이 필사적으로 경쟁을 펼치는 가운데 배지환 역시 마찬가지다. 지금까지 활약만 놓고 보면 당연히 들어야 하지만, 피츠버그가 어떤 결정을 내릴지는 아무도 알 수 없다.\\n\\n피츠버그 지역지인 ‘피츠버그 베이스볼 나우’는 21일 막바지에 접어든 피츠버그의 개막 로스터 경쟁 상황을 살폈다. 이 매체가 특히 주목한 것은 백업 외야수 한 자리였다.\\n\\n현재 피츠버그는 주전 외야수 3명의 윤곽이 어느 정도 드러난 상태다. 토미 팸, 오닐 크루즈, 브라이언 레이놀즈가 그 주인공들이다. 그리고 이들을 백업할 수 있는 외야 자원 한 명이 더 필요한데, 이 자리를 두고 현재 배지환과 잭 스윈스키가 경쟁을 벌이고 있다.\\n배지환과 스윈스키의 스타일은 정반대다.배지환은 컨택트 능력과 스피드에 장점을 보이고 있는 반면, 스윈스키는 파워 쪽에서 좀 더 우위에 있다.\\n\\n특히 MLB에서의 경력은 스윈스키가 위다. 2022년 타율 0.202 19홈런 38타점, 2023년 타율 0.224 26홈런 74타점을 기록했다. 다만 지난해에는 타율 0.182 8홈런 26타점으로 성적이 뚝 떨어졌다. 배지환 역시 2022년 스윈스키와 함께 MLB에 데뷔해 2023년 타율 0.231 2홈런 32타점 24도루로 개인 최고 성적을 냈지만, 전체적으로 스윈스키에 밀렸다.\\n\\n잭 스윈스키. 게티이미지코리아\\n\\n\\n\\n피츠버그의 고민은, 이번 시범경기에서 둘 중 누구를 뽑아도 이상하지 않을 정도로 맹타를 휘두르고 있다는 점이다.\\n\\n배지환은 17경기에서 타율 0.444 1홈런 4타점 12득점 3도루 OPS(출루율+장타율) 1.168로 펄펄 날고 있다. 16개의 안타는 팀내 1위다. 스윈스키도 배지환에 살짝 못 미치지만, 타율 0.371에 1홈런 9타점 3도루 OPS 1.025로 맹활약하고 있다.\\n\\n피츠버그 베이스볼 나우는 “둘 다 스프링캠프에서의 성과를 보면 개막 로스터에 포함되고도 남는다. 하지만 현재까지 예상되는 로스터 구성을 감안하면, 둘 중 한 명만이 개막 로스터에 살아남을 가능성이 크다”고 했다.\\n\\n둘 다 장점만큼 단점도 뚜렷하다. 이 매체는 “스윈스키는 배지환에 비해 장타력이 좋고 출루 능력도 있다. 하지만 통산 타율이 0.207에 불과하고 삼진 비율도 높다. 수비도 좋지 않다”며 “배지환의 장점은 스피드다. 스프린트 스피드는 리그에서도 상위권이다. 스윈스키보다 수비에서 더 다양하게 활용할 수 있다는 것도 장점이다. 외야뿐 아니라 2루까지 가능하다. 그러나 스피드가 가치를 발휘하려면 우선 출루를 해야 하는데, 아직 MLB에서 충분한 출루 능력을 못 보여줬다”고 지적했다.\\n\\n종합적으로 평가한 결과, 피츠버그 베이스볼 나우의 선택은 스윈스키였다. 이 매체는 “타석에서 잠재력이 큰 스윈스키를 선택할 것으로 본다”고 했다. 그러면서도 “시범경기에서 성과를 보여준 배지환을 마이너리그로 보내는 것을 쉽지 않을 것”이라고도 했다.\\n\\n배지환. 게티이미지코리아\\n\\n\\n\\n윤은용 기자 plaimstone@kyunghyang.com'},\n",
              " {'title': \"우상혁, '올림픽 챔피언' 커 제치고 세계실내선수권 우승(종합)\",\n",
              "  'main_text': '2022년 이후 3년·2개 대회 만에 정상 탈환…기록은 2ｍ31\\n\\n\\n세계실내육상선수권 챔피언 우상혁\\n(난징 로이터=연합뉴스) 우상혁이 21일 중국 난징에서 열린 2025 세계실내육상선수권대회 남자 높이뛰기 결선에서 우승한 뒤, 태극기를 들고 세리머니를 펼치고 있다.\\n\\n\\n(서울=연합뉴스) 하남직 기자 = \\'스마일 점퍼\\' 우상혁(28·용인시청)이 \\'파리 올림픽 챔피언\\' 해미시 커(뉴질랜드)를 꺾고, 3년 만에 세계실내육상선수권대회 정상을 탈환했다.\\n\\n우상혁은 21일 중국 난징 유스올림픽스포츠파크에서 열린 2025 세계실내선수권 남자 높이뛰기 결선에서 2ｍ31을 넘고 우승했다.\\n\\n2022년 베오그라드 대회 챔피언(2ｍ34)인 우상혁은 지난해 글래스고 대회에서는 3위(2ｍ28)를 차지했다.\\n\\n올해 난징에서 다시 시상대 가장 높은 곳에 오르며 우상혁은 3년·2개 대회 만에 \\'세계실내선수권 챔피언\\' 타이틀을 되찾았다.\\n\\n우상혁은 2010, 2012, 2014년에 연속해서 메달을 딴 이반 우코프(러시아) 이후 11년 만에 탄생한 \\'세계실내선수권 3회 연속 메달리스트\\'로도 기록됐다.\\n\\n바를 넘는 우상혁\\n(난징 로이터=연합뉴스) 우상혁이 21일 중국 난징에서 열린 2025 세계실내육상선수권대회 남자 높이뛰기 결선에서 바를 넘고 있다.\\n\\n\\n선수 소개 때 태극기를 가리키는 세리머니를 하며 \"파이팅\"을 외친 우상혁은 가벼운 몸놀림으로 2ｍ14, 2ｍ20을 1차 시기에서 넘었다.\\n\\n2ｍ24에서는 1차 시기에서 바를 건드렸지만, 2차 시기에서는 바와 상당한 거리를 둔 채 여유 있게 성공했다.\\n\\n이번 대회 남자 높이뛰기에는 13명이 출전했다.\\n\\n바가 2ｍ28로 높아졌을 때는 우상혁을 포함해 6명만 남았다.\\n\\n우상혁은 2ｍ28을 1차 시기에 넘고 포효했다.\\n2ｍ28을 넘은 선수는 5명이었지만, 1차 시기에 성공한 선수는 우상혁과 커, 두 명뿐이었다.\\n\\n공동 1위로 나선 우상혁은 2ｍ31도 1차 시기에 넘으면서 단독 선두로 올라섰다.\\n\\n지난해 파리 올림픽(2ｍ36)과 글래스고 세계실내선수권(2ｍ36)에서 우승한 커는 2ｍ31을 1∼3차 시기에서 모두 실패했다.\\n\\n올 시즌 세계 1위 기록(2ｍ34)을 보유한 신예 올레 도로슈크(우크라이나)도 2ｍ31의 벽을 넘지 못했다.\\n\\n커는 2ｍ28로 2위를 했다.\\n\\n같은 2ｍ28을 넘은 레이먼드 리처드(자메이카), 일레이저 코시바(미국), 도로슈크가 실패 횟수에 따라 3∼5위에 자리했다.\\n\\n우상혁은 우승이 확정되자, 굳이 더 높은 기록에 도전하지 않고 태극기를 두른 채 \\'우승 세리머니\\'를 펼쳤다.\\n\\n높이를 확인하는 우상혁\\n(난징 로이터=연합뉴스) 우상혁이 21일 중국 난징에서 열린 2025 세계실내육상선수권대회 남자 높이뛰기 결선에서 바 높이를 확인하고 있다.\\n\\n\\n올해 우상혁은 2월 9일 체코 후스토페체 실내대회에서 시즌 첫 점프를 해 2ｍ31로 우승했고, 같은 달 19일에는 슬로바키아 반스카비스트리차 대회에서도 2ｍ28로 정상에 올랐다.\\n\\n실내 시즌 종료를 알리는 세계실내선수권에서도 우승하며, 올해 치른 3개 국제대회에서 모두 1위를 차지했다.\\n\\n2022년 우상혁은 세계실내선수권에서 우승한 뒤, 기세를 이어가 같은 해 미국 오리건주 유진에서 치른 실외 세계선수권에서 2위(2ｍ35)를 차지했다.\\n\\n지난해 파리 올림픽에서 7위(2ｍ27)에 그쳐 잠시 좌절했던 우상혁은 \"올해 다시 행복한 점프를 하겠다\"고 새로운 출사표를 올렸다.\\n\\n올해 우상혁이 중요하게 여기는 3개 대회는 이번 세계실내선수권, 5월 경북 구미 아시아육상선수권, 9월 도쿄 실외 세계선수권이다.\\n\\n우상혁은 중국으로 출국하며 \"목표는 높게 잡는다. 첫 단추를 잘 끼면 마지막 단추도 잘 낄 수 있다\"며 \"2022년처럼 세계실내선수권에서 좋은 결과를 내고, 가을까지 기세를 이어가겠다\"고 밝혔다.\\n\\n약속한 대로 우상혁은 금메달을 목에 걸고, 22일에 귀국한다.\\n\\njiks79@yna.co.kr'}]"
            ]
          },
          "execution_count": 27,
          "metadata": {},
          "output_type": "execute_result"
        }
      ],
      "source": [
        "news_content_list"
      ]
    },
    {
      "cell_type": "code",
      "execution_count": 26,
      "metadata": {
        "id": "tPkn4boZMUKi",
        "outputId": "30e550a3-ac55-4d46-b575-da6ccffad572",
        "scrolled": true
      },
      "outputs": [
        {
          "data": {
            "text/plain": [
              "{'title': 'FA 시즌에 선발 탈락, 좌절.. 그런데! → 기막힌 새옹지마. 개막 전날 3선발이 다치다니.. 기회가 이렇게도 오는구나',\n",
              " 'main_text': \"9일 청주야구장에서 열린 시범경기 두산-한화전. 두산 선발투수 최원준이 투구하고 있다. 청주=정재근 기자 cjg@sportschosun.com/2025.3.9/\\n9일 청주야구장에서 열린 시범경기 두산-한화전. 두산 선발투수 최원준이 1회를 무실점으로 마치며 내려오고 있다. 청주=정재근 기자 cjg@sportschosun.com/2025.3.9/\\n[스포츠조선 한동훈 기자] 그야말로 하늘이 딱히 여긴 모양이다.\\n\\n동료가 다쳐서 마냥 웃을 수 없는 노릇이지만 어쨌든 기회는 기회다. 두산 5선발에서 탈락한 최원준이 곽빈의 부상으로 마지막 찬스를 얻을 전망이다.\\n\\n최원준은 FA 시즌에 선발 경쟁에서 밀려나며 전망이 어두웠지만 인생사 '새옹지마'를 피부로 느끼게 됐다.\\n\\n두산은 개막 전날인 21일 청천벽력 같은 소식을 전했다.\\n두산은 개막엔트리를 발표하며 선발투수 곽빈과 구원투수 홍건희가 제외된 이유를 공개했다.\\n\\n홍건희는 16일 투구 훈련 중 우측 팔꿈치 통증을 느꼈다. 검진 결과 내측인대 손상 진단을 받았다.\\n\\n곽빈은 19일 퓨처스리그에 등판했다. 투구 도중 좌측 옆구리에 통증을 느꼈다. 내복사근 부분 손상이다.\\n\\n곽빈은 국내 1선발이자 두산 3선발이다.\\n\\n두산은 이미 선발 로테이션을 다 정했다. 콜 어빈-잭 로그-곽빈-최승용-김유성 순서다. 곽빈이 빠지면서 선발투수 1명이 더 필요해졌다. 시범경기 끝까지 5선발 자리를 두고 경합한 최원준이 1순위 후보다.\\n\\n최원준은 5선발 후보였다. 시범경기 2경기에서 7이닝 1실점 평균자책점 1.29로 매우 페이스가 좋았다.\\n\\n9일 청주야구장에서 열린 시범경기 두산-한화전. 두산 선발투수 최원준이 투구하고 있다. 청주=정재근 기자 cjg@sportschosun.com/2025.3.9/\\n하지만 김유성도 만만치 않았다. 김유성은 153km 강속구를 앞세워 신선한 충격을 불러일으켰다. 시범경기 평균자책점은 2.57(7이닝 2실점)으로 최원준보다 살짝 높았다. 하지만 이승엽 두산 감독은 시즌 초반 힘 있는 투수가 더 위력을 발휘할 것이라고 판단해 최원준에게 양해를 구했다.\\n\\n최원준은 결국 구원 임무를 받아들였다. 두산은 시즌 초반 최지강이 합류가 늦어지면서 최원준을 필승카드로 활용하기로 했다.\\n\\n그런데 곽빈이 다쳐 로테이션에 구멍이 생겼다. 곽빈은 약 2주 뒤 재검사를 받아 이상이 없으면 훈련을 재개할 전망이다. 아무리 빨라도 3~4주는 걸린다. 선발 로테이션 4~5회 정도 거른다는 계산이다.\\n\\n대체자 1순위는 바로 최원준이다. '하늘이 준 기회'를 최원준이 어떻게 살릴지 관심을 모은다.\"}"
            ]
          },
          "execution_count": 26,
          "metadata": {},
          "output_type": "execute_result"
        }
      ],
      "source": [
        "news_content_list[0]"
      ]
    },
    {
      "cell_type": "code",
      "execution_count": null,
      "metadata": {
        "id": "Q7eIiJWuMUKi"
      },
      "outputs": [],
      "source": []
    },
    {
      "cell_type": "markdown",
      "metadata": {
        "id": "9-pbt65IMUKi"
      },
      "source": [
        "## 3. 긁어온 기사들을 ChatGPT로 요약하기"
      ]
    },
    {
      "cell_type": "markdown",
      "metadata": {
        "id": "uYhsWHNpMUKi"
      },
      "source": [
        "### 3-1. ChatGPT API 사용해보기"
      ]
    },
    {
      "cell_type": "markdown",
      "metadata": {
        "id": "Bv5kdnolMUKp"
      },
      "source": [
        "OpenAI API 사용법 : https://platform.openai.com/docs/overview"
      ]
    },
    {
      "cell_type": "markdown",
      "metadata": {
        "id": "O7H17bp7MUKq"
      },
      "source": [
        "OpenAI API 사용하기 : https://openai.com/chatgpt/ (product > API Login)"
      ]
    },
    {
      "cell_type": "code",
      "execution_count": null,
      "metadata": {
        "collapsed": true,
        "id": "6d-EDAsTMUKq",
        "outputId": "d9048184-dec4-4575-fb9b-c065f6faedf5"
      },
      "outputs": [
        {
          "name": "stdout",
          "output_type": "stream",
          "text": [
            "Requirement already satisfied: openai in c:\\users\\pnylo\\anaconda3\\lib\\site-packages (1.13.3)\n",
            "Requirement already satisfied: distro<2,>=1.7.0 in c:\\users\\pnylo\\anaconda3\\lib\\site-packages (from openai) (1.9.0)\n",
            "Requirement already satisfied: sniffio in c:\\users\\pnylo\\anaconda3\\lib\\site-packages (from openai) (1.3.1)\n",
            "Requirement already satisfied: anyio<5,>=3.5.0 in c:\\users\\pnylo\\anaconda3\\lib\\site-packages (from openai) (4.3.0)\n",
            "Requirement already satisfied: typing-extensions<5,>=4.7 in c:\\users\\pnylo\\anaconda3\\lib\\site-packages (from openai) (4.10.0)\n",
            "Requirement already satisfied: pydantic<3,>=1.9.0 in c:\\users\\pnylo\\anaconda3\\lib\\site-packages (from openai) (2.6.3)\n",
            "Requirement already satisfied: httpx<1,>=0.23.0 in c:\\users\\pnylo\\anaconda3\\lib\\site-packages (from openai) (0.27.0)\n",
            "Requirement already satisfied: tqdm>4 in c:\\users\\pnylo\\anaconda3\\lib\\site-packages (from openai) (4.50.2)\n",
            "Requirement already satisfied: idna>=2.8 in c:\\users\\pnylo\\anaconda3\\lib\\site-packages (from anyio<5,>=3.5.0->openai) (2.10)\n",
            "Requirement already satisfied: exceptiongroup>=1.0.2; python_version < \"3.11\" in c:\\users\\pnylo\\anaconda3\\lib\\site-packages (from anyio<5,>=3.5.0->openai) (1.2.0)\n",
            "Requirement already satisfied: annotated-types>=0.4.0 in c:\\users\\pnylo\\anaconda3\\lib\\site-packages (from pydantic<3,>=1.9.0->openai) (0.6.0)\n",
            "Requirement already satisfied: pydantic-core==2.16.3 in c:\\users\\pnylo\\anaconda3\\lib\\site-packages (from pydantic<3,>=1.9.0->openai) (2.16.3)\n",
            "Requirement already satisfied: httpcore==1.* in c:\\users\\pnylo\\anaconda3\\lib\\site-packages (from httpx<1,>=0.23.0->openai) (1.0.4)\n",
            "Requirement already satisfied: certifi in c:\\users\\pnylo\\anaconda3\\lib\\site-packages (from httpx<1,>=0.23.0->openai) (2020.6.20)\n",
            "Requirement already satisfied: h11<0.15,>=0.13 in c:\\users\\pnylo\\anaconda3\\lib\\site-packages (from httpcore==1.*->httpx<1,>=0.23.0->openai) (0.14.0)\n"
          ]
        }
      ],
      "source": [
        "!pip install openai"
      ]
    },
    {
      "cell_type": "code",
      "execution_count": null,
      "metadata": {
        "id": "J_4FdFGnMUKq"
      },
      "outputs": [],
      "source": [
        "import os\n",
        "\n",
        "os.environ[\"OPENAI_API_KEY\"] = \"sk-...\""
      ]
    },
    {
      "cell_type": "code",
      "execution_count": null,
      "metadata": {
        "id": "wlb2heXBMUKr",
        "outputId": "0d146833-6727-41c2-8d84-f16e723b0db6",
        "scrolled": true
      },
      "outputs": [
        {
          "name": "stdout",
          "output_type": "stream",
          "text": [
            "ChatCompletionMessage(content='안녕하세요! 어떻게 도와드릴까요?', role='assistant', function_call=None, tool_calls=None)\n"
          ]
        }
      ],
      "source": [
        "from openai import OpenAI\n",
        "client = OpenAI()\n",
        "\n",
        "'''completion = client.chat.completions.create(\n",
        "  model=\"gpt-4o-mini\", #gpt-3.5-turbo-0125\n",
        "  messages=[\n",
        "    {\"role\": \"system\", \"content\": \"You are a poetic assistant, skilled in explaining complex programming concepts with creative flair.\"},\n",
        "    {\"role\": \"user\", \"content\": \"Compose a poem that explains the concept of recursion in programming.\"}\n",
        "  ]\n",
        ")'''\n",
        "\n",
        "completion = client.chat.completions.create(\n",
        "  model=\"gpt-4o-mini\", #gpt-3.5-turbo-0125\n",
        "  messages=[\n",
        "    {\"role\": \"user\", \"content\": \"안녕\"}\n",
        "  ]\n",
        ")\n",
        "\n",
        "print(completion.choices[0].message)"
      ]
    },
    {
      "cell_type": "code",
      "execution_count": null,
      "metadata": {
        "id": "oB9R3rneMUKr",
        "outputId": "e0510202-8e97-4ed0-88d6-5a3533b58aaf"
      },
      "outputs": [
        {
          "name": "stdout",
          "output_type": "stream",
          "text": [
            "안녕하세요! 어떻게 도와드릴까요?\n"
          ]
        }
      ],
      "source": [
        "print(completion.choices[0].message.content)"
      ]
    },
    {
      "cell_type": "code",
      "execution_count": null,
      "metadata": {
        "id": "ntpAXXNCMUKr"
      },
      "outputs": [],
      "source": []
    },
    {
      "cell_type": "markdown",
      "metadata": {
        "id": "cCvcOBCGMUKr"
      },
      "source": [
        "### 3-2. 기사를 요약하고 분석하여 정리하기"
      ]
    },
    {
      "cell_type": "code",
      "execution_count": null,
      "metadata": {
        "id": "yBU0v1mvMUKs",
        "outputId": "42a68db6-4afb-4cc6-8c0c-b824709fd419"
      },
      "outputs": [
        {
          "data": {
            "text/plain": [
              "'“라커룸 안 들어갔다, 에어컨 바람에 땀 식으니까…” 이래서 KIA 176승 대투수, 38분 정전사태에 대처하는 자세[MD대전]'"
            ]
          },
          "execution_count": 29,
          "metadata": {},
          "output_type": "execute_result"
        }
      ],
      "source": [
        "news_content_list[0]['title']"
      ]
    },
    {
      "cell_type": "code",
      "execution_count": null,
      "metadata": {
        "id": "oB8LccMSMUKs",
        "outputId": "9f09d3aa-ae7b-4137-a6d9-f1653cf97cda",
        "scrolled": true
      },
      "outputs": [
        {
          "data": {
            "text/plain": [
              "'양현종/KIA 타이거즈\\n\\n[마이데일리 = 대전 김진성 기자] “최대한 좀 안 들어가려고 했다.”\\n\\n괜히 KIA 타이거즈 대투수가 아니다. 양현종(36)은 3일 대전 한화 이글스전이 18분33분부터 19시11분까지 38분간 정전사태로 중단되자 놀거나 멍 때리지 않았다. 어떻게든 경기 재개 및 등판을 기다리며 만반의 준비를 했다.\\n양현종/KIA 타이거즈\\n\\n산전수전을 겪은 양현종에게도 생소한 일이었다. 2회말 최재훈에게 선제 스리런포를 맞고 이원석을 유격수 땅볼로 처리한 상황. 후속 요나단 페라자를 상대하려고 할 때 갑자기 대전한화생명이글스파크의 전광판과 조명탑, 방송 시스템 모두 먹통이 됐다. 폭염에 의한 전력공급 과부하로 순간적으로 야구장의 운영 시스템이 순식간에 올 스톱.\\n\\n정전이 된 시간은 실제 4분이었다. 그러나 경기는 38분간 중단됐다. 다시 전력을 공급받고 최대치의 출력을 내는데 시간이 필요했다. 팬들이 가장 짜증났지만, 마운드의 양현종도 당황스러웠다. 선수들이 덕아웃으로 철수했고, 기약 없는 기다림을 시작했다.\\n\\n덕아웃에 남아있던 선수들도 있었고, 시원한 라커룸으로 들어가서 대기한 선수들도 있었다는 후문. 양현종은 전자였다. 아니, 19시13분에 경기개시가 예고되자(실제 19시11분에 재개) 곧바로 3루 덕아웃 앞으로 나와 롱토스를 소화하는 모습이 보였다.\\n\\n양현종은 “금방 돌아올 것이라고 생각해서 크게 의식을 안 했다. 감독님이 30분 이상 길어지는데 바꾸는 게 낫지 않겠냐고 했다. 그래도 내가 던지는 경기는 최대한 내가 던지는 게 맞다고 생각했다. 중간 투수들도 너무 고생해서 내가 최대한 컨디션을 조절해서 던지겠다고 말씀 드렸다”라고 했다.\\n\\n양현종은 38분을 어떻게 보냈을까. 일단 에어컨에 나오는 라커룸을 멀리 했다. “안에 들어가면 찬바람이 나오니까. 땀이 식으면 안 된다. 날씨가 덥긴 했지만, 최대한 그 점을 감안했다. 계속 걸으려고 했다”라고 했다. 일부러 더운 라커룸에서 걸어다니면서 최대한 몸에 열을 유지하고자 했다. 그런 다음 롱토스를 했다.\\n\\n결과적으로 양현종은 6이닝 7피안타(1피홈런) 7탈삼진 1볼넷 3실점(2자책)으로 시즌 8승(3패)을 따냈다. 평균자책점을 3.60으로 조금 내렸다. 그는 “초반에 실점했지만, (김)도영이 홈런으로 팀 분위기가 올라왔다. 나도 이기는 상황에는 막아야 한다고 생각하고, 점수를 지켜야 한다고 생각했다”라고 했다.\\n\\n이날 양현종은 최고 144km 포심에 슬라이더와 체인지업으로 잘 나가던 한화 타선을 요리했다. 결과적으로 정전 이후 경기흐름도 KIA로 넘어왔고, 양현종도 상승세를 탔다. 운도 따랐지만, 양현종도 돌발상황에 잘 대처했다.\\n양현종/KIA 타이거즈\\n\\n양현종은 “연패 중에 나가서 부담도 됐는데 선수 전부 연패를 꺼려는 마음이 느껴졌다. 나 또한 연패가 길어지면 순위를 유지하는데 위험하다고 생각했다. 나부터 열심히 던졌다”라고 했다. 그렇게 176승, 2459⅔이닝을 마크했다.'"
            ]
          },
          "execution_count": 30,
          "metadata": {},
          "output_type": "execute_result"
        }
      ],
      "source": [
        "news_content_list[0]['main_text']"
      ]
    },
    {
      "cell_type": "code",
      "execution_count": null,
      "metadata": {
        "id": "5KfqVWC2MUKs",
        "outputId": "f14b406b-2392-40fb-9395-6565a7760840"
      },
      "outputs": [
        {
          "name": "stdout",
          "output_type": "stream",
          "text": [
            "ChatCompletionMessage(content='KIA 타이거즈의 양현종은 정전 사태에도 불구하고 경기를 준비하며 최상의 컨디션을 유지해 6이닝 동안 3실점을 기록하며 시즌 8승을 달성했다. 그는 에어컨 바람을 피하고 더운 라커룸에서 몸의 열을 유지하며 집중력을 잃지 않기 위한 노력을 보여주었다.\\n\\n후속 기사에서는 양현종의 경기 후 인터뷰와 그가 보여준 집중력, 경기 운영과 관련한 기술적인 분석, 혹은 KIA 타이거즈의 팀 분위기와 향후 경기 계획에 대한 내용이 다루어질 가능성이 있다.', role='assistant', function_call=None, tool_calls=None)\n"
          ]
        }
      ],
      "source": [
        "completion = client.chat.completions.create(\n",
        "  model=\"gpt-4o-mini\", #gpt-3.5-turbo-0125\n",
        "  messages=[\n",
        "      {\"role\": \"user\", \"content\":\n",
        "       \"\"\"아래 뉴스 내용을 읽고, 핵심내용을 파악하여 2줄 정도로 요약해주세요. 그리고 이 뉴스기사를 통해 후속 기사는 어떤 내용일 지 추론해 알려주세요.\n",
        "       뉴스 제목 : {}\n",
        "       뉴스 본문 : {}\n",
        "       \"\"\".format(news_content_list[0]['title'], news_content_list[0]['main_text'])}\n",
        "  ]\n",
        ")\n",
        "\n",
        "print(completion.choices[0].message)"
      ]
    },
    {
      "cell_type": "code",
      "execution_count": null,
      "metadata": {
        "id": "JXe3ybpsMUKt",
        "outputId": "ec5eeb07-fc4b-4409-9127-f3f0116b128d"
      },
      "outputs": [
        {
          "name": "stdout",
          "output_type": "stream",
          "text": [
            "KIA 타이거즈의 양현종은 정전 사태에도 불구하고 경기를 준비하며 최상의 컨디션을 유지해 6이닝 동안 3실점을 기록하며 시즌 8승을 달성했다. 그는 에어컨 바람을 피하고 더운 라커룸에서 몸의 열을 유지하며 집중력을 잃지 않기 위한 노력을 보여주었다.\n",
            "\n",
            "후속 기사에서는 양현종의 경기 후 인터뷰와 그가 보여준 집중력, 경기 운영과 관련한 기술적인 분석, 혹은 KIA 타이거즈의 팀 분위기와 향후 경기 계획에 대한 내용이 다루어질 가능성이 있다.\n"
          ]
        }
      ],
      "source": [
        "print(completion.choices[0].message.content)"
      ]
    },
    {
      "cell_type": "markdown",
      "metadata": {
        "id": "LuyXQ5FqMUKu"
      },
      "source": [
        "## 4. 결과물 구글 스프레드 시트에 저장"
      ]
    },
    {
      "cell_type": "markdown",
      "metadata": {
        "id": "a2dJfboyMUKv"
      },
      "source": [
        "구글 클라우드 접속 : https://console.cloud.google.com/"
      ]
    },
    {
      "cell_type": "markdown",
      "metadata": {
        "id": "3vpouJFlMUKv"
      },
      "source": [
        "### 4-1 구글 스프레드 시트에 값 저장하기"
      ]
    },
    {
      "cell_type": "code",
      "execution_count": null,
      "metadata": {
        "collapsed": true,
        "id": "CHFR7lqKMUKw",
        "outputId": "95b2c53a-4f94-435a-e7a5-e0ac10361488"
      },
      "outputs": [
        {
          "name": "stdout",
          "output_type": "stream",
          "text": [
            "Collecting gspread\n",
            "  Downloading gspread-6.1.2-py3-none-any.whl (57 kB)\n",
            "Requirement already satisfied: google-auth>=1.12.0 in c:\\users\\pnylo\\anaconda3\\lib\\site-packages (from gspread) (2.32.0)\n",
            "Collecting google-auth-oauthlib>=0.4.1\n",
            "  Downloading google_auth_oauthlib-1.2.1-py2.py3-none-any.whl (24 kB)\n",
            "Requirement already satisfied: cachetools<6.0,>=2.0.0 in c:\\users\\pnylo\\anaconda3\\lib\\site-packages (from google-auth>=1.12.0->gspread) (5.4.0)\n",
            "Requirement already satisfied: rsa<5,>=3.1.4 in c:\\users\\pnylo\\anaconda3\\lib\\site-packages (from google-auth>=1.12.0->gspread) (4.9)\n",
            "Requirement already satisfied: pyasn1-modules>=0.2.1 in c:\\users\\pnylo\\anaconda3\\lib\\site-packages (from google-auth>=1.12.0->gspread) (0.4.0)\n",
            "Collecting requests-oauthlib>=0.7.0\n",
            "  Downloading requests_oauthlib-2.0.0-py2.py3-none-any.whl (24 kB)\n",
            "Requirement already satisfied: pyasn1>=0.1.3 in c:\\users\\pnylo\\anaconda3\\lib\\site-packages (from rsa<5,>=3.1.4->google-auth>=1.12.0->gspread) (0.6.0)\n",
            "Requirement already satisfied: requests>=2.0.0 in c:\\users\\pnylo\\anaconda3\\lib\\site-packages (from requests-oauthlib>=0.7.0->google-auth-oauthlib>=0.4.1->gspread) (2.31.0)\n",
            "Collecting oauthlib>=3.0.0\n",
            "  Downloading oauthlib-3.2.2-py3-none-any.whl (151 kB)\n",
            "Requirement already satisfied: urllib3<3,>=1.21.1 in c:\\users\\pnylo\\anaconda3\\lib\\site-packages (from requests>=2.0.0->requests-oauthlib>=0.7.0->google-auth-oauthlib>=0.4.1->gspread) (1.26.19)\n",
            "Requirement already satisfied: idna<4,>=2.5 in c:\\users\\pnylo\\anaconda3\\lib\\site-packages (from requests>=2.0.0->requests-oauthlib>=0.7.0->google-auth-oauthlib>=0.4.1->gspread) (2.10)\n",
            "Requirement already satisfied: certifi>=2017.4.17 in c:\\users\\pnylo\\anaconda3\\lib\\site-packages (from requests>=2.0.0->requests-oauthlib>=0.7.0->google-auth-oauthlib>=0.4.1->gspread) (2020.6.20)\n",
            "Requirement already satisfied: charset-normalizer<4,>=2 in c:\\users\\pnylo\\anaconda3\\lib\\site-packages (from requests>=2.0.0->requests-oauthlib>=0.7.0->google-auth-oauthlib>=0.4.1->gspread) (3.3.2)\n",
            "Installing collected packages: oauthlib, requests-oauthlib, google-auth-oauthlib, gspread\n",
            "Successfully installed google-auth-oauthlib-1.2.1 gspread-6.1.2 oauthlib-3.2.2 requests-oauthlib-2.0.0\n"
          ]
        }
      ],
      "source": [
        "!pip install gspread"
      ]
    },
    {
      "cell_type": "code",
      "execution_count": null,
      "metadata": {
        "id": "Q76rBNATMUKx",
        "outputId": "725ef7a7-cdab-4f32-8d84-0bf637e1e90c"
      },
      "outputs": [
        {
          "data": {
            "text/plain": [
              "{'spreadsheetId': '1Q2SUsymwjlzsu_uXX_DgZJBntM96o3mL-vcbM2D-bbA',\n",
              " 'updatedRange': \"'시트1'!A1\",\n",
              " 'updatedRows': 1,\n",
              " 'updatedColumns': 1,\n",
              " 'updatedCells': 1}"
            ]
          },
          "execution_count": 33,
          "metadata": {},
          "output_type": "execute_result"
        }
      ],
      "source": [
        "import gspread\n",
        "\n",
        "json_file_path = \"./key.json\"\n",
        "gc = gspread.service_account(json_file_path)\n",
        "spreadsheet_url = \"https://docs.google.com/spreadsheets/d...\"\n",
        "doc = gc.open_by_url(spreadsheet_url)\n",
        "\n",
        "worksheet = doc.worksheet(\"시트1\")\n",
        "worksheet.update_acell('A1','자동화 완료!')"
      ]
    },
    {
      "cell_type": "markdown",
      "metadata": {
        "id": "Rwe0DW59MUKx"
      },
      "source": [
        "### 4-2 ChatGPT 결과물을 구글 스프레드 시트에 바로 저장하기"
      ]
    },
    {
      "cell_type": "code",
      "execution_count": null,
      "metadata": {
        "id": "SyWg9aZsMUKx",
        "outputId": "41950946-26d1-4a85-c39e-ee1f1a413c57",
        "scrolled": true
      },
      "outputs": [
        {
          "name": "stdout",
          "output_type": "stream",
          "text": [
            "**요약**: KIA 타이거즈의 양현종은 대전 한화 이글스전 중 38분간의 정전사태에서도 몸을 유지하기 위해 라커룸에 들어가지 않고 준비에 만전을 기하며 6이닝 3실점으로 팀 승리에 기여했다. 그의 철저한 대처와 노력이 시즌 8승을 이끌었고, 팀의 연패 탈출에도 일조했다.\n",
            "\n",
            "**후속 기사 추론**: 후속 기사는 양현종의 활약과 함께 KIA 타이거즈의 최근 성과, 팀 순위 변화 및 선수단의 분위기 변화에 대해 다루거나, 향후 경기에 대한 전략과 각 선수들의 역할 변화에 초점을 맞출 가능성이 높다.\n",
            "뉴스 요약: 조슈아 키미히가 김민재의 능력을 높이 평가하며 지원 메시지를 전했다. 김민재는 뮌헨에서 첫 시즌에 고전했지만, 키미히는 그에게 자신감을 회복할 필요가 있다고 강조했다.\n",
            "\n",
            "후속 기사 추론: 후속 기사는 김민재의 시즌 성과와 관련된 분석, 그의 미래를 위한 전략, 그리고 뮌헨의 다음 시즌 목표와 팀 내 변화에 대한 내용이 포함될 가능성이 높다. 또한, 김민재의 위치와 역할에 대한 전문가 의견이나 팬 반응도 다뤄질 수 있다.\n",
            "**요약:** 야구가 2028 LA 올림픽과 2032 브리즈번 올림픽에서 정식 종목으로 복귀하며, 한국 야구는 피치 클락 도입을 통해 경기 시간을 단축하고 중장기 계획을 실행하고 있다. KBO는 2025 시즌부터 피치 클락을 정식 도입할 예정이며, 이는 국제 대회에서의 효율성을 높이기 위한 조치다.\n",
            "\n",
            "**후속 기사 추론:** 후속 기사는 KBO의 피치 클락 도입에 따른 구체적인 규정 변경 사항, 시범 운영 결과, 팀과 선수들의 대응, 그리고 국제 대회에서의 경과 등을 다룰 가능성이 높다. 또한, 올림픽 및 아시안게임에서의 야구 경기 진행 방식 변화에 대한 분석도 포함될 수 있다.\n",
            "요약: 레알 마드리드의 유망 수비수 호안 마르티네스가 훈련장에서 비니시우스 주니오르를 압도하며 팬들의 기대를 모으고 있으며, '제2의 세르히오 라모스'로 불리고 있다. 그는 스페인 U-17 대표팀에서도 활발히 활약하고 있다.\n",
            "\n",
            "후속 기사 추론: 후속 기사는 마르티네스의 훈련 성과와 더불어 그가 1군 경기에 정식으로 출전할 가능성, 팀 내 위치 경쟁 이야기를 다룰 것으로 예상된다. 또한, 그의 성장 과정과 레알 마드리드에서의 미래 전망에 관한 내용도 포함될 수 있다.\n",
            "**요약**: LA 레이커스의 오스틴 리브스는 르브론 제임스를 역대 최고의 선수로 존경하며, 그와 함께 팀에서 뛰는 것에 대해 큰 감사를 표했다. 리브스는 팀의 기존 선수들로서의 협력과 관계의 중요성을 강조하며, 긍정적인 시즌 전망을 밝혔다.\n",
            "\n",
            "**후속 기사 추론**: 후속 기사에서는 리브스와 르브론의 팀워크가 이번 시즌 레이커스의 성과에 미치는 영향, 그리고 리브스가 팀의 핵심 선수로 자리 잡을 가능성이나 현재 팀 구성에 대해 더 깊이 있는 분석이 이어질 것으로 보인다.\n",
            "**요약:** 전 축구 대표팀 이천수는 축구협회에 대한 감사 및 해체를 요구하는 청원이 5만 명을 넘은 상황에서 축구협회의 부적절한 행정과 특혜 논란에 대한 자신의 의견을 밝혔다. 이천수는 과거 축구협회에서 문체부와의 예산 관련 방식에 대해 언급하며, 감사의 필요성을 강조했다.\n",
            "\n",
            "**후속 기사 추론:** 후속 기사에서는 축구협회의 국정감사 결과와 팬들의 반응, 이천수의 발언에 대한 해설 및 축구협회의 향후 대책에 대한 내용을 다룰 가능성이 높다. 또한, 새로운 감독인 홍명보의 역할과 향후 한국 축구의 방향에 대한 논의도 포함될 수 있다.\n"
          ]
        }
      ],
      "source": [
        "for idx, news_content in enumerate(news_content_list):\n",
        "    completion = client.chat.completions.create(\n",
        "      model=\"gpt-4o-mini\", #gpt-3.5-turbo-0125\n",
        "      messages=[\n",
        "          {\"role\": \"user\", \"content\":\n",
        "           \"\"\"아래 뉴스 내용을 읽고, 핵심내용을 파악하여 2줄 정도로 요약해주세요. 그리고 이 뉴스기사를 통해 후속 기사는 어떤 내용일 지 추론해 알려주세요.\n",
        "           뉴스 제목 : {}\n",
        "           뉴스 본문 : {}\n",
        "           \"\"\".format(news_content['title'], news_content['main_text'])}\n",
        "      ]\n",
        "    )\n",
        "\n",
        "    print(completion.choices[0].message.content)\n",
        "    worksheet = doc.worksheet(\"시트2\")\n",
        "    ## 제목 업데이트\n",
        "    worksheet.update_acell('A{}'.format(idx+2),news_content['title'])\n",
        "    ## 본문 업데이트\n",
        "    worksheet.update_acell('B{}'.format(idx+2),news_content['main_text'])\n",
        "    ## ChatGPT 결과물 업데이트\n",
        "    worksheet.update_acell('C{}'.format(idx+2),completion.choices[0].message.content)"
      ]
    },
    {
      "cell_type": "markdown",
      "metadata": {
        "id": "2icHltQdMUKy"
      },
      "source": [
        "### D열에 뉴스 기사 url 도 추가해보자!"
      ]
    },
    {
      "cell_type": "code",
      "execution_count": null,
      "metadata": {
        "id": "dWAfHdUnMUKz",
        "outputId": "74dd9f59-8b7e-47d1-94f5-1361423ba9c2"
      },
      "outputs": [
        {
          "data": {
            "text/plain": [
              "['https://m.sports.naver.com/article/117/0003858181',\n",
              " 'https://m.sports.naver.com/article/413/0000181419',\n",
              " 'https://m.sports.naver.com/article/468/0001082819',\n",
              " 'https://m.sports.naver.com/article/411/0000050114',\n",
              " 'https://m.sports.naver.com/article/398/0000080491',\n",
              " 'https://m.sports.naver.com/article/445/0000222353']"
            ]
          },
          "execution_count": 35,
          "metadata": {},
          "output_type": "execute_result"
        }
      ],
      "source": [
        "news_list"
      ]
    },
    {
      "cell_type": "code",
      "execution_count": null,
      "metadata": {
        "id": "SgFjEF_VMUK0",
        "outputId": "b50d7411-9d5f-4869-ce5f-9a4866e84512",
        "scrolled": true
      },
      "outputs": [
        {
          "name": "stdout",
          "output_type": "stream",
          "text": [
            "**요약:** KIA 타이거즈의 대투수 양현종은 대전 한화 이글스전 중 38분간의 정전사태 속에서도 적절한 대처로 컨디션을 유지하며 6이닝 3실점으로 시즌 8승을 기록했다. 그는 에어컨을 피하고 덥고 힘든 환경에서 몸을 지속적으로 움직이며 경기 준비를 했다고 밝혔다.\n",
            "\n",
            "**후속 기사 추론:** 후속 기사는 양현종의 경기력과 경험을 바탕으로 팀의 연패 탈출에 대한 분석과 KIA 타이거즈의 시즌 전망, 정전 사태 이후 경기 운영의 문제와 개선 방안에 대한 논의가 포함될 것으로 보인다. 또 다른 이야기로는 양현종의 커리어 경로와 그의 역할이 팀에 미치는 영향에 대한 심층 논의가 있을 수 있다.\n",
            "요약: 바이에른 뮌헨의 조슈아 키미히가 김민재의 능력을 강조하며 그를 지지하는 발언을 했고, 김민재는 시즌 초반 주전으로 활약했지만 후반기에 벤치로 밀려났다는 소식이 전해졌다. 뮌헨은 지난 시즌 무관으로 마무리했으나, 키미히는 더욱 강한 팀을 위한 목표를 다짐했다.\n",
            "\n",
            "후속 기사 추론: 후속 기사에서는 김민재의 현재 상황과 향후 계약 가능성에 대한 분석, 혹은 뮌헨의 수비 보강 전략과 팀 구성에 대한 이야기가 다뤄질 것으로 예상된다. 또한 아시안컵 이후 김민재의 역할 변화와 그가 팀에 다시 적응하는 과정에 대한 내용도 포함될 수 있다.\n",
            "요약: 야구가 2028 LA 올림픽과 2032 브리즈번 올림픽에 정식 종목으로 복귀하며, 한국은 중장기 계획을 통해 경쟁력을 강화하고 있다. 피치 클락 규정은 경기 시간 단축을 위해 필수적이며, 2025 KBO리그에서 정식 도입될 예정이다.\n",
            "\n",
            "후속 기사 추론: 후속 기사는 KBO에서의 피치 클락 운영의 실제 사례와 규정 변경이 선수들의 경기력에 미치는 영향, 그리고 올림픽에서의 한국 대표팀의 준비 상황 및 대회 전략을 다룰 가능성이 있다. 추가로, 국제 야구의 저변 확대를 위한 노력과 이와 관련된 각국의 반응도 포함될 수 있다.\n",
            "**요약:** 레알 마드리드의 유망 수비수 호안 마르티네스가 훈련 중 비니시우스 주니오르를 압도하며 팬들의 기대를 모으고 있다. 그의 강력한 수비와 태클은 '제2의 세르히오 라모스'라는 칭호를 받게 했다.\n",
            "\n",
            "**후속 기사 추론:** 후속 기사에서는 마르티네스의 공식 1군 데뷔전에서의 성과와 경기력, 그리고 그가 팀에 미칠 장기적인 영향에 대한 분석이 다뤄질 가능성이 높다. 또한, 레알 마드리드가 마르티네스를 어떻게 활용할지에 대한 감독의 계획과 전략도 포함될 수 있다.\n",
            "핵심 요약: LA 레이커스의 오스틴 리브스가 르브론 제임스를 \"역대 최고의 선수\"로 존경하며, 그의 자기 관리와 팀 내 존재가 인상적이라고 밝혔다. 리브스는 다가오는 시즌에서 르브론과의 호흡을 중요하게 생각하며 긍정적인 전망을 하고 있다.\n",
            "\n",
            "후속 기사 추론: 리브스와 르브론의 관계, 팀워크 그리고 레이커스의 시즌 전망 포함한 분석, 또는 리브스의 성장과 팀 내 역할 변화에 대한 심층 인터뷰가 나올 가능성이 높다.\n",
            "**요약:** 전 축구 대표팀 이천수는 축구협회의 국정감사와 관련해 과거 협회에서 예산을 받기 위해 정부에 빌어야 했던 경험을 언급하며, 협회의 행정 문제와 공정성 부족에 대해 비판하였다. 현재 축구협회에 대한 감사 청원이 5만 명을 넘기며 여론이 악화되고 있다.\n",
            "\n",
            "**후속 기사 추론:** 후속 기사에서는 정부의 감사 결과와 축구협회의 개선 방안, 청원이 진행된 배경 등에 대한 공식 입장과 함께 팬들의 반응을 다룰 가능성이 높다. 또, 축구협회 구성원들의 해명이나 이천수와 같은 전 선수들의 추가 발언이 포함될 수 있다.\n"
          ]
        }
      ],
      "source": [
        "for idx, news_content in enumerate(news_content_list):\n",
        "    completion = client.chat.completions.create(\n",
        "      model=\"gpt-4o-mini\", #gpt-3.5-turbo-0125\n",
        "      messages=[\n",
        "          {\"role\": \"user\", \"content\":\n",
        "           \"\"\"아래 뉴스 내용을 읽고, 핵심내용을 파악하여 2줄 정도로 요약해주세요. 그리고 이 뉴스기사를 통해 후속 기사는 어떤 내용일 지 추론해 알려주세요.\n",
        "           뉴스 제목 : {}\n",
        "           뉴스 본문 : {}\n",
        "           \"\"\".format(news_content['title'], news_content['main_text'])}\n",
        "      ]\n",
        "    )\n",
        "\n",
        "    print(completion.choices[0].message.content)\n",
        "    worksheet = doc.worksheet(\"시트2\")\n",
        "    ## 제목 업데이트\n",
        "    worksheet.update_acell('A{}'.format(idx+2),news_content['title'])\n",
        "    ## 본문 업데이트\n",
        "    worksheet.update_acell('B{}'.format(idx+2),news_content['main_text'])\n",
        "    ## ChatGPT 결과물 업데이트\n",
        "    worksheet.update_acell('C{}'.format(idx+2),completion.choices[0].message.content)\n",
        "    ## 뉴스 링크 추가\n",
        "    worksheet.update_acell('D{}'.format(idx+2),news_list[idx])\n",
        "\n"
      ]
    },
    {
      "cell_type": "code",
      "execution_count": null,
      "metadata": {
        "id": "4T6y2BO2MUK0"
      },
      "outputs": [],
      "source": []
    }
  ],
  "metadata": {
    "colab": {
      "provenance": []
    },
    "kernelspec": {
      "display_name": "env",
      "language": "python",
      "name": "python3"
    },
    "language_info": {
      "codemirror_mode": {
        "name": "ipython",
        "version": 3
      },
      "file_extension": ".py",
      "mimetype": "text/x-python",
      "name": "python",
      "nbconvert_exporter": "python",
      "pygments_lexer": "ipython3",
      "version": "3.12.3"
    }
  },
  "nbformat": 4,
  "nbformat_minor": 0
}
